{
 "cells": [
  {
   "cell_type": "markdown",
   "metadata": {},
   "source": [
    "# Kinetic Curve Simulation Fit\n",
    "\n",
    "<p class=lead>This notebook performs fits of simulated Kinetic Curves for different kinetics parameters. A single [template notebook](Simulated Kinetic Curve Fit - Template.ipynb) is executed several times, once for each set of parameters.\n",
    "<p>\n",
    "\n",
    "## Boilerplate\n",
    "\n",
    "The module `nbrun.py` needs to be in the current folder:"
   ]
  },
  {
   "cell_type": "code",
   "execution_count": 1,
   "metadata": {
    "collapsed": true
   },
   "outputs": [],
   "source": [
    "from nbrun import run_notebook"
   ]
  },
  {
   "cell_type": "markdown",
   "metadata": {},
   "source": [
    "## Execute notebooks"
   ]
  },
  {
   "cell_type": "code",
   "execution_count": 2,
   "metadata": {
    "collapsed": true
   },
   "outputs": [],
   "source": [
    "nb_name = 'Simulated Kinetic Curve Fit - Template'\n",
    "out_path = 'out_notebooks'"
   ]
  },
  {
   "cell_type": "code",
   "execution_count": 3,
   "metadata": {
    "collapsed": true
   },
   "outputs": [],
   "source": [
    "import numpy as np"
   ]
  },
  {
   "cell_type": "markdown",
   "metadata": {},
   "source": [
    "### 8-spot kinetics simulation"
   ]
  },
  {
   "cell_type": "code",
   "execution_count": 4,
   "metadata": {
    "collapsed": false
   },
   "outputs": [
    {
     "data": {
      "text/html": [
       "<b>Source Notebook</b>: <a href='Simulated Kinetic Curve Fit - Template.ipynb' target='_blank'>Simulated Kinetic Curve Fit - Template.ipynb</a><br>"
      ],
      "text/plain": [
       "/Users/anto/Google Drive/notebooks/multispot_paper/realtime kinetics/Simulated Kinetic Curve Fit - Template.ipynb"
      ]
     },
     "metadata": {},
     "output_type": "display_data"
    },
    {
     "data": {
      "text/html": [
       "<b>Output Notebook</b>: <a href='out_notebooks/Simulated Kinetic Curve Fit - Template-out-multi-spot-t0_vary.ipynb' target='_blank'>out_notebooks/Simulated Kinetic Curve Fit - Template-out-multi-spot-t0_vary.ipynb</a><br>"
      ],
      "text/plain": [
       "/Users/anto/Google Drive/notebooks/multispot_paper/realtime kinetics/out_notebooks/Simulated Kinetic Curve Fit - Template-out-multi-spot-t0_vary.ipynb"
      ]
     },
     "metadata": {},
     "output_type": "display_data"
    }
   ],
   "source": [
    "params = dict(\n",
    "    sigma = 0.016,  # experimental 8-spot std. dev.\n",
    "\n",
    "    time_window =  30,\n",
    "    time_step   =  5,\n",
    "    time_start  = -900,\n",
    "    time_stop   =  900,\n",
    "    decimation  =  20,\n",
    "    t0_vary = True,\n",
    "\n",
    "    true_params = dict(\n",
    "        tau = 60,           # time constant\n",
    "        init_value = 0.3,   # initial value (for t < t0) \n",
    "        final_value = 0.8,  # final value   (for t -> +inf)\n",
    "        t0 = 0),            # time origin\n",
    "\n",
    "    num_sim_cycles = 1000,\n",
    "    taus = (5, 10, 30, 60))\n",
    "\n",
    "run_notebook(nb_name, nb_suffix='-out-multi-spot-t0_vary', out_path=out_path,\n",
    "             nb_kwargs=params)"
   ]
  },
  {
   "cell_type": "code",
   "execution_count": 5,
   "metadata": {
    "collapsed": false
   },
   "outputs": [
    {
     "data": {
      "text/html": [
       "<b>Source Notebook</b>: <a href='Simulated Kinetic Curve Fit - Template.ipynb' target='_blank'>Simulated Kinetic Curve Fit - Template.ipynb</a><br>"
      ],
      "text/plain": [
       "/Users/anto/Google Drive/notebooks/multispot_paper/realtime kinetics/Simulated Kinetic Curve Fit - Template.ipynb"
      ]
     },
     "metadata": {},
     "output_type": "display_data"
    },
    {
     "data": {
      "text/html": [
       "<b>Output Notebook</b>: <a href='out_notebooks/Simulated Kinetic Curve Fit - Template-out-multi-spot-t0_novary.ipynb' target='_blank'>out_notebooks/Simulated Kinetic Curve Fit - Template-out-multi-spot-t0_novary.ipynb</a><br>"
      ],
      "text/plain": [
       "/Users/anto/Google Drive/notebooks/multispot_paper/realtime kinetics/out_notebooks/Simulated Kinetic Curve Fit - Template-out-multi-spot-t0_novary.ipynb"
      ]
     },
     "metadata": {},
     "output_type": "display_data"
    }
   ],
   "source": [
    "params = dict(\n",
    "    sigma = 0.016,  # experimental 8-spot std. dev.\n",
    "\n",
    "    time_window =  30,\n",
    "    time_step   =  5,\n",
    "    time_start  = -900,\n",
    "    time_stop   =  900,\n",
    "    decimation  =  20,\n",
    "    t0_vary = False,\n",
    "\n",
    "    true_params = dict(\n",
    "        tau = 60,           # time constant\n",
    "        init_value = 0.3,   # initial value (for t < t0) \n",
    "        final_value = 0.8,  # final value   (for t -> +inf)\n",
    "        t0 = 0),            # time origin\n",
    "\n",
    "    num_sim_cycles = 1000,\n",
    "    taus = (5, 10, 30, 60))\n",
    "\n",
    "run_notebook(nb_name, nb_suffix='-out-multi-spot-t0_novary', out_path=out_path,\n",
    "             nb_kwargs=params)"
   ]
  },
  {
   "cell_type": "markdown",
   "metadata": {},
   "source": [
    "### 1-spot kinetics simulation"
   ]
  },
  {
   "cell_type": "markdown",
   "metadata": {},
   "source": [
    "The empirical variance of 1-spot measurements are (see [1-spot bubble-bubble kinetics - Summary](1-spot bubble-bubble kinetics - Summary.ipynb)):"
   ]
  },
  {
   "cell_type": "code",
   "execution_count": 6,
   "metadata": {
    "collapsed": false
   },
   "outputs": [
    {
     "data": {
      "text/plain": [
       "5.2866666666666662"
      ]
     },
     "execution_count": 6,
     "metadata": {},
     "output_type": "execute_result"
    }
   ],
   "source": [
    "evar = [6.62, 3.94, 5.3]\n",
    "np.mean(evar)"
   ]
  },
  {
   "cell_type": "code",
   "execution_count": 7,
   "metadata": {
    "collapsed": false
   },
   "outputs": [
    {
     "data": {
      "text/html": [
       "<b>Source Notebook</b>: <a href='Simulated Kinetic Curve Fit - Template.ipynb' target='_blank'>Simulated Kinetic Curve Fit - Template.ipynb</a><br>"
      ],
      "text/plain": [
       "/Users/anto/Google Drive/notebooks/multispot_paper/realtime kinetics/Simulated Kinetic Curve Fit - Template.ipynb"
      ]
     },
     "metadata": {},
     "output_type": "display_data"
    },
    {
     "data": {
      "text/html": [
       "<b>Output Notebook</b>: <a href='out_notebooks/Simulated Kinetic Curve Fit - Template-out-single-spot-t0_vary.ipynb' target='_blank'>out_notebooks/Simulated Kinetic Curve Fit - Template-out-single-spot-t0_vary.ipynb</a><br>"
      ],
      "text/plain": [
       "/Users/anto/Google Drive/notebooks/multispot_paper/realtime kinetics/out_notebooks/Simulated Kinetic Curve Fit - Template-out-single-spot-t0_vary.ipynb"
      ]
     },
     "metadata": {},
     "output_type": "display_data"
    }
   ],
   "source": [
    "params = dict(\n",
    "    sigma = 0.053,   # noise std. dev. \n",
    "\n",
    "    time_window =  180,\n",
    "    time_step   =  10,\n",
    "    time_start  = -900,\n",
    "    time_stop   =  900,\n",
    "    decimation  =  20,\n",
    "    t0_vary = True,\n",
    "\n",
    "    true_params = dict(\n",
    "        tau = 60,           # time constant\n",
    "        init_value = 0.3,   # initial value (for t < t0) \n",
    "        final_value = 0.8,  # final value   (for t -> +inf)\n",
    "        t0 = 0),            # time origin\n",
    "\n",
    "    num_sim_cycles = 1000,\n",
    "    taus = (30, 60, 120, 240))\n",
    "\n",
    "run_notebook(nb_name, nb_suffix='-out-single-spot-t0_vary', out_path=out_path,\n",
    "             nb_kwargs=params)"
   ]
  },
  {
   "cell_type": "code",
   "execution_count": 8,
   "metadata": {
    "collapsed": false
   },
   "outputs": [
    {
     "data": {
      "text/html": [
       "<b>Source Notebook</b>: <a href='Simulated Kinetic Curve Fit - Template.ipynb' target='_blank'>Simulated Kinetic Curve Fit - Template.ipynb</a><br>"
      ],
      "text/plain": [
       "/Users/anto/Google Drive/notebooks/multispot_paper/realtime kinetics/Simulated Kinetic Curve Fit - Template.ipynb"
      ]
     },
     "metadata": {},
     "output_type": "display_data"
    },
    {
     "data": {
      "text/html": [
       "<b>Output Notebook</b>: <a href='out_notebooks/Simulated Kinetic Curve Fit - Template-out-single-spot-t0_novary.ipynb' target='_blank'>out_notebooks/Simulated Kinetic Curve Fit - Template-out-single-spot-t0_novary.ipynb</a><br>"
      ],
      "text/plain": [
       "/Users/anto/Google Drive/notebooks/multispot_paper/realtime kinetics/out_notebooks/Simulated Kinetic Curve Fit - Template-out-single-spot-t0_novary.ipynb"
      ]
     },
     "metadata": {},
     "output_type": "display_data"
    }
   ],
   "source": [
    "params = dict(\n",
    "    sigma = 0.053,  # noise std. dev. \n",
    "\n",
    "    time_window =  180,\n",
    "    time_step   =  10,\n",
    "    time_start  = -900,\n",
    "    time_stop   =  900,\n",
    "    decimation  =  20,\n",
    "    t0_vary = False,\n",
    "\n",
    "    true_params = dict(\n",
    "        tau = 60,           # time constant\n",
    "        init_value = 0.3,   # initial value (for t < t0) \n",
    "        final_value = 0.8,  # final value   (for t -> +inf)\n",
    "        t0 = 0),            # time origin\n",
    "\n",
    "    num_sim_cycles = 1000,\n",
    "    taus = (30, 60, 120, 240))\n",
    "\n",
    "run_notebook(nb_name, nb_suffix='-out-single-spot-t0_novary', out_path=out_path,\n",
    "             nb_kwargs=params)"
   ]
  },
  {
   "cell_type": "markdown",
   "metadata": {},
   "source": [
    "# Conclusions\n",
    "\n",
    "In the notebooks above, the last multi-panel figure \n",
    "compares the fitting accuracy of each parameter\n",
    "for the **simple-exponential** and \n",
    "**integrated-exponential** models for a range of conditions.\n",
    "\n",
    "In particular, we tested noise levels typical for both multispot \n",
    "and single-spot measurements. For each noise level we performed\n",
    "the model comparison allowing $t_0$ to vary or not.\n",
    "\n",
    "The conclusion is that, as espected, regardless of the conditions\n",
    "(single- vs multi-spot noise level, varying $t_0$ or not)\n",
    "the **integrated exponential** model is systematically (and significantly)\n",
    "more accurate in estimating the exponential time constant $\\tau$."
   ]
  },
  {
   "cell_type": "code",
   "execution_count": null,
   "metadata": {
    "collapsed": true
   },
   "outputs": [],
   "source": []
  }
 ],
 "metadata": {
  "anaconda-cloud": {},
  "kernelspec": {
   "display_name": "Python [conda env:multispot_paper]",
   "language": "python",
   "name": "conda-env-multispot_paper-py"
  },
  "language_info": {
   "codemirror_mode": {
    "name": "ipython",
    "version": 3
   },
   "file_extension": ".py",
   "mimetype": "text/x-python",
   "name": "python",
   "nbconvert_exporter": "python",
   "pygments_lexer": "ipython3",
   "version": "3.5.2"
  }
 },
 "nbformat": 4,
 "nbformat_minor": 0
}
