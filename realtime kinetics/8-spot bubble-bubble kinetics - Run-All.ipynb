{
 "cells": [
  {
   "cell_type": "markdown",
   "metadata": {},
   "source": [
    "# 8-spot kinetics\n",
    "\n",
    "<p class=lead>This notebook coordinates the execution of the realtime-kinetics analysis \n",
    "for the 3 measurements of RNAP open-complex (bubbble-bubble labeling) to run-off. A single [template notebook](8-spot bubble-bubble kinetics - Template.ipynb) is executed 3 times, one for each measurement.\n",
    "<p>\n",
    "\n",
    "## Boilerplate\n",
    "\n",
    "The module `nbrun.py` needs to be in the current folder:"
   ]
  },
  {
   "cell_type": "code",
   "execution_count": 4,
   "metadata": {
    "collapsed": false
   },
   "outputs": [],
   "source": [
    "from nbrun import run_notebook"
   ]
  },
  {
   "cell_type": "markdown",
   "metadata": {
    "collapsed": true
   },
   "source": [
    "## Execute notebooks"
   ]
  },
  {
   "cell_type": "code",
   "execution_count": 5,
   "metadata": {
    "collapsed": true
   },
   "outputs": [],
   "source": [
    "nb_name = '8-spot bubble-bubble kinetics - Template'\n",
    "out_path = 'out_notebooks'\n",
    "windows = (5, 30, 60)"
   ]
  },
  {
   "cell_type": "code",
   "execution_count": 6,
   "metadata": {
    "collapsed": false
   },
   "outputs": [
    {
     "data": {
      "text/html": [
       "<a href='8-spot bubble-bubble kinetics - Template.ipynb' target='_blank'>8-spot bubble-bubble kinetics - Template.ipynb</a><br>"
      ],
      "text/plain": [
       "C:\\Data\\Antonio\\notebooks\\multispot\\8spot_paper\\kinetics\\8-spot bubble-bubble kinetics - Template.ipynb"
      ]
     },
     "metadata": {},
     "output_type": "display_data"
    },
    {
     "data": {
      "text/html": [
       "<a href='out_notebooks\\8-spot bubble-bubble kinetics - Template-out_0.ipynb' target='_blank'>out_notebooks\\8-spot bubble-bubble kinetics - Template-out_0.ipynb</a><br>"
      ],
      "text/plain": [
       "C:\\Data\\Antonio\\notebooks\\multispot\\8spot_paper\\kinetics\\out_notebooks\\8-spot bubble-bubble kinetics - Template-out_0.ipynb"
      ]
     },
     "metadata": {},
     "output_type": "display_data"
    },
    {
     "data": {
      "text/html": [
       "<a href='8-spot bubble-bubble kinetics - Template.ipynb' target='_blank'>8-spot bubble-bubble kinetics - Template.ipynb</a><br>"
      ],
      "text/plain": [
       "C:\\Data\\Antonio\\notebooks\\multispot\\8spot_paper\\kinetics\\8-spot bubble-bubble kinetics - Template.ipynb"
      ]
     },
     "metadata": {},
     "output_type": "display_data"
    },
    {
     "data": {
      "text/html": [
       "<a href='out_notebooks\\8-spot bubble-bubble kinetics - Template-out_1.ipynb' target='_blank'>out_notebooks\\8-spot bubble-bubble kinetics - Template-out_1.ipynb</a><br>"
      ],
      "text/plain": [
       "C:\\Data\\Antonio\\notebooks\\multispot\\8spot_paper\\kinetics\\out_notebooks\\8-spot bubble-bubble kinetics - Template-out_1.ipynb"
      ]
     },
     "metadata": {},
     "output_type": "display_data"
    },
    {
     "data": {
      "text/html": [
       "<a href='8-spot bubble-bubble kinetics - Template.ipynb' target='_blank'>8-spot bubble-bubble kinetics - Template.ipynb</a><br>"
      ],
      "text/plain": [
       "C:\\Data\\Antonio\\notebooks\\multispot\\8spot_paper\\kinetics\\8-spot bubble-bubble kinetics - Template.ipynb"
      ]
     },
     "metadata": {},
     "output_type": "display_data"
    },
    {
     "data": {
      "text/html": [
       "<a href='out_notebooks\\8-spot bubble-bubble kinetics - Template-out_2.ipynb' target='_blank'>out_notebooks\\8-spot bubble-bubble kinetics - Template-out_2.ipynb</a><br>"
      ],
      "text/plain": [
       "C:\\Data\\Antonio\\notebooks\\multispot\\8spot_paper\\kinetics\\out_notebooks\\8-spot bubble-bubble kinetics - Template-out_2.ipynb"
      ]
     },
     "metadata": {},
     "output_type": "display_data"
    }
   ],
   "source": [
    "for meas_id in (0, 1, 2):\n",
    "    nb_kwargs = {'measurement_id': meas_id, 'windows': windows}\n",
    "    run_notebook(nb_name, nb_suffix='-out_%d' % meas_id, out_path=out_path,\n",
    "                 nb_kwargs=nb_kwargs)"
   ]
  },
  {
   "cell_type": "code",
   "execution_count": null,
   "metadata": {
    "collapsed": true
   },
   "outputs": [],
   "source": []
  }
 ],
 "metadata": {
  "kernelspec": {
   "display_name": "Python [default]",
   "language": "python",
   "name": "python3"
  },
  "language_info": {
   "codemirror_mode": {
    "name": "ipython",
    "version": 3
   },
   "file_extension": ".py",
   "mimetype": "text/x-python",
   "name": "python",
   "nbconvert_exporter": "python",
   "pygments_lexer": "ipython3",
   "version": "3.5.2"
  }
 },
 "nbformat": 4,
 "nbformat_minor": 0
}
