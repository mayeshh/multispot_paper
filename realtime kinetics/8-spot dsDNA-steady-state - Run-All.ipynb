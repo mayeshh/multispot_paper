{
 "cells": [
  {
   "cell_type": "markdown",
   "metadata": {},
   "source": [
    "# 8-spot dsDNA steady-state kinetics\n",
    "\n",
    "<p class=lead>This notebook coordinates the execution of the realtime-kinetics analysis \n",
    "for the steady-state measurement of dsDNA. A single [template notebook](8-spot dsDNA-steady-state - Template.ipynb) is executed multiple times, one for each measurement.\n",
    "<p>\n",
    "\n",
    "## Boilerplate\n",
    "\n",
    "The module `nbrun.py` needs to be in the current folder:"
   ]
  },
  {
   "cell_type": "code",
   "execution_count": 1,
   "metadata": {
    "collapsed": false
   },
   "outputs": [],
   "source": [
    "from nbrun import run_notebook"
   ]
  },
  {
   "cell_type": "markdown",
   "metadata": {
    "collapsed": true
   },
   "source": [
    "## Execute notebooks"
   ]
  },
  {
   "cell_type": "code",
   "execution_count": 2,
   "metadata": {
    "collapsed": true
   },
   "outputs": [],
   "source": [
    "nb_name = '8-spot dsDNA-steady-state - Template'\n",
    "out_path = 'out_notebooks'"
   ]
  },
  {
   "cell_type": "code",
   "execution_count": 3,
   "metadata": {
    "collapsed": false
   },
   "outputs": [
    {
     "data": {
      "text/html": [
       "<a href='8-spot dsDNA-steady-state - Template.ipynb' target='_blank'>8-spot dsDNA-steady-state - Template.ipynb</a><br>"
      ],
      "text/plain": [
       "C:\\Data\\Antonio\\notebooks\\multispot\\8spot_paper\\kinetics\\8-spot dsDNA-steady-state - Template.ipynb"
      ]
     },
     "metadata": {},
     "output_type": "display_data"
    },
    {
     "data": {
      "text/html": [
       "<a href='out_notebooks\\8-spot dsDNA-steady-state - Template-out_7d.ipynb' target='_blank'>out_notebooks\\8-spot dsDNA-steady-state - Template-out_7d.ipynb</a><br>"
      ],
      "text/plain": [
       "C:\\Data\\Antonio\\notebooks\\multispot\\8spot_paper\\kinetics\\out_notebooks\\8-spot dsDNA-steady-state - Template-out_7d.ipynb"
      ]
     },
     "metadata": {},
     "output_type": "display_data"
    },
    {
     "data": {
      "text/html": [
       "<a href='8-spot dsDNA-steady-state - Template.ipynb' target='_blank'>8-spot dsDNA-steady-state - Template.ipynb</a><br>"
      ],
      "text/plain": [
       "C:\\Data\\Antonio\\notebooks\\multispot\\8spot_paper\\kinetics\\8-spot dsDNA-steady-state - Template.ipynb"
      ]
     },
     "metadata": {},
     "output_type": "display_data"
    },
    {
     "data": {
      "text/html": [
       "<a href='out_notebooks\\8-spot dsDNA-steady-state - Template-out_12d.ipynb' target='_blank'>out_notebooks\\8-spot dsDNA-steady-state - Template-out_12d.ipynb</a><br>"
      ],
      "text/plain": [
       "C:\\Data\\Antonio\\notebooks\\multispot\\8spot_paper\\kinetics\\out_notebooks\\8-spot dsDNA-steady-state - Template-out_12d.ipynb"
      ]
     },
     "metadata": {},
     "output_type": "display_data"
    },
    {
     "data": {
      "text/html": [
       "<a href='8-spot dsDNA-steady-state - Template.ipynb' target='_blank'>8-spot dsDNA-steady-state - Template.ipynb</a><br>"
      ],
      "text/plain": [
       "C:\\Data\\Antonio\\notebooks\\multispot\\8spot_paper\\kinetics\\8-spot dsDNA-steady-state - Template.ipynb"
      ]
     },
     "metadata": {},
     "output_type": "display_data"
    },
    {
     "data": {
      "text/html": [
       "<a href='out_notebooks\\8-spot dsDNA-steady-state - Template-out_17d.ipynb' target='_blank'>out_notebooks\\8-spot dsDNA-steady-state - Template-out_17d.ipynb</a><br>"
      ],
      "text/plain": [
       "C:\\Data\\Antonio\\notebooks\\multispot\\8spot_paper\\kinetics\\out_notebooks\\8-spot dsDNA-steady-state - Template-out_17d.ipynb"
      ]
     },
     "metadata": {},
     "output_type": "display_data"
    }
   ],
   "source": [
    "for meas_id in ('7d', '12d', '17d'):\n",
    "    nb_kwargs = {'measurement_id': meas_id}\n",
    "    run_notebook(nb_name, nb_suffix='-out_%s' % meas_id, out_path=out_path,\n",
    "                 nb_kwargs=nb_kwargs)"
   ]
  },
  {
   "cell_type": "code",
   "execution_count": null,
   "metadata": {
    "collapsed": true
   },
   "outputs": [],
   "source": []
  }
 ],
 "metadata": {
  "kernelspec": {
   "display_name": "Python 3",
   "language": "python",
   "name": "python3"
  },
  "language_info": {
   "codemirror_mode": {
    "name": "ipython",
    "version": 3
   },
   "file_extension": ".py",
   "mimetype": "text/x-python",
   "name": "python",
   "nbconvert_exporter": "python",
   "pygments_lexer": "ipython3",
   "version": "3.5.1"
  }
 },
 "nbformat": 4,
 "nbformat_minor": 0
}
