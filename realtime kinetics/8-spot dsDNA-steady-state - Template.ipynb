{
 "cells": [
  {
   "cell_type": "code",
   "execution_count": null,
   "metadata": {
    "collapsed": true
   },
   "outputs": [],
   "source": [
    "measurement_id = '17d' # possible values: '7d', '12d', '17d' "
   ]
  },
  {
   "cell_type": "markdown",
   "metadata": {},
   "source": [
    "### Notebook arguments\n",
    "\n",
    "- **measurement_id** (*string*): Select the measurement. Valid values: '7d', '12d', '17d'."
   ]
  },
  {
   "cell_type": "markdown",
   "metadata": {},
   "source": [
    "# 8-spot kinetics\n",
    "\n",
    "<p class=lead>This notebook executes the realtime-kinetics analysis.</p>\n",
    "\n",
    "The first cell of this notebook selects which measurement is analyzed. \n",
    "Measurements can be processed one-by-one, by manually running this notebook,\n",
    "or in batch by using the [batch execution notebook](8-spot dsDNA-steady-state - Run-All.ipynb)."
   ]
  },
  {
   "cell_type": "markdown",
   "metadata": {},
   "source": [
    "## Loading the software"
   ]
  },
  {
   "cell_type": "code",
   "execution_count": null,
   "metadata": {
    "collapsed": true
   },
   "outputs": [],
   "source": [
    "from IPython.display import display\n",
    "from pathlib import Path\n",
    "import pandas as pd\n",
    "from scipy.stats import linregress"
   ]
  },
  {
   "cell_type": "code",
   "execution_count": null,
   "metadata": {
    "collapsed": false
   },
   "outputs": [],
   "source": [
    "from fretbursts import *"
   ]
  },
  {
   "cell_type": "code",
   "execution_count": null,
   "metadata": {
    "collapsed": false
   },
   "outputs": [],
   "source": [
    "sns = init_notebook(fs=14)"
   ]
  },
  {
   "cell_type": "code",
   "execution_count": null,
   "metadata": {
    "collapsed": false
   },
   "outputs": [],
   "source": [
    "import lmfit; lmfit.__version__"
   ]
  },
  {
   "cell_type": "code",
   "execution_count": null,
   "metadata": {
    "collapsed": false
   },
   "outputs": [],
   "source": [
    "import phconvert; phconvert.__version__"
   ]
  },
  {
   "cell_type": "markdown",
   "metadata": {},
   "source": [
    "# Selecting a data file"
   ]
  },
  {
   "cell_type": "code",
   "execution_count": null,
   "metadata": {
    "collapsed": false
   },
   "outputs": [],
   "source": [
    "#filename = OpenFileDialog('C:/Data/Antonio/data/2015-07-29/')\n",
    "#filename"
   ]
  },
  {
   "cell_type": "code",
   "execution_count": null,
   "metadata": {
    "collapsed": false
   },
   "outputs": [],
   "source": [
    "from pathlib import Path"
   ]
  },
  {
   "cell_type": "code",
   "execution_count": null,
   "metadata": {
    "collapsed": false
   },
   "outputs": [],
   "source": [
    "dir_ = r'C:\\Data\\Antonio\\data\\8-spot 5samples data\\2013-05-15/'\n",
    "\n",
    "filenames = [str(f) for f in Path(dir_).glob('*.hdf5')]\n",
    "filenames"
   ]
  },
  {
   "cell_type": "code",
   "execution_count": null,
   "metadata": {
    "collapsed": false
   },
   "outputs": [],
   "source": [
    "keys = [f.stem.split('_')[0] for f in Path(dir_).glob('*.hdf5')]\n",
    "keys"
   ]
  },
  {
   "cell_type": "code",
   "execution_count": null,
   "metadata": {
    "collapsed": false
   },
   "outputs": [],
   "source": [
    "filenames_dict = {k: v for k, v in zip(keys, filenames)}\n",
    "filenames_dict"
   ]
  },
  {
   "cell_type": "code",
   "execution_count": null,
   "metadata": {
    "collapsed": false
   },
   "outputs": [],
   "source": [
    "filename = filenames_dict[measurement_id]\n",
    "filename"
   ]
  },
  {
   "cell_type": "markdown",
   "metadata": {},
   "source": [
    "## Data load and Burst search"
   ]
  },
  {
   "cell_type": "markdown",
   "metadata": {},
   "source": [
    "Load and process the data:"
   ]
  },
  {
   "cell_type": "code",
   "execution_count": null,
   "metadata": {
    "collapsed": false
   },
   "outputs": [],
   "source": [
    "d = loader.photon_hdf5(filename)"
   ]
  },
  {
   "cell_type": "code",
   "execution_count": null,
   "metadata": {
    "collapsed": false
   },
   "outputs": [],
   "source": [
    "d.time_max"
   ]
  },
  {
   "cell_type": "markdown",
   "metadata": {},
   "source": [
    "Compute background and burst search:"
   ]
  },
  {
   "cell_type": "code",
   "execution_count": null,
   "metadata": {
    "collapsed": false
   },
   "outputs": [],
   "source": [
    "d.calc_bg(bg.exp_fit, time_s=10, tail_min_us='auto', F_bg=1.7)"
   ]
  },
  {
   "cell_type": "markdown",
   "metadata": {},
   "source": [
    "Let's take a look at the photon waiting times histograms and at the fitted background rates:"
   ]
  },
  {
   "cell_type": "code",
   "execution_count": null,
   "metadata": {
    "collapsed": false
   },
   "outputs": [],
   "source": [
    "dplot(d, hist_bg);"
   ]
  },
  {
   "cell_type": "code",
   "execution_count": null,
   "metadata": {
    "collapsed": false
   },
   "outputs": [],
   "source": [
    "dplot(d, timetrace_bg);"
   ]
  },
  {
   "cell_type": "markdown",
   "metadata": {},
   "source": [
    "## Burst selection and FRET"
   ]
  },
  {
   "cell_type": "code",
   "execution_count": null,
   "metadata": {
    "collapsed": false
   },
   "outputs": [],
   "source": [
    "%%timeit -n1 -r1\n",
    "d.burst_search(m=10, F=5, ph_sel=Ph_sel(Dex='DAem'))"
   ]
  },
  {
   "cell_type": "code",
   "execution_count": null,
   "metadata": {
    "collapsed": true
   },
   "outputs": [],
   "source": [
    "ds = d.select_bursts(select_bursts.size, th1=30)"
   ]
  },
  {
   "cell_type": "markdown",
   "metadata": {},
   "source": [
    "### Selecting bursts by burst size (`select_bursts.size`)"
   ]
  },
  {
   "cell_type": "code",
   "execution_count": null,
   "metadata": {
    "collapsed": false
   },
   "outputs": [],
   "source": [
    "dplot(ds, hist_fret, pdf=False);"
   ]
  },
  {
   "cell_type": "code",
   "execution_count": null,
   "metadata": {
    "collapsed": true
   },
   "outputs": [],
   "source": [
    "dm0 = ds.collapse()"
   ]
  },
  {
   "cell_type": "code",
   "execution_count": null,
   "metadata": {
    "collapsed": false
   },
   "outputs": [],
   "source": [
    "dplot(dm0, hist_fret, pdf=False);"
   ]
  },
  {
   "cell_type": "code",
   "execution_count": null,
   "metadata": {
    "collapsed": false
   },
   "outputs": [],
   "source": [
    "weights = None\n",
    "bext.bursts_fitter(dm0, weights=weights)\n",
    "dm0.E_fitter.fit_histogram(mfit.factory_two_gaussians(p1_center=0.04, p2_center=0.3), verbose=False)\n",
    "dplot(dm0, hist_fret, show_model=True, weights=weights);\n",
    "dm0.E_fitter.params"
   ]
  },
  {
   "cell_type": "code",
   "execution_count": null,
   "metadata": {
    "collapsed": true
   },
   "outputs": [],
   "source": [
    "params_gauss0 = dm0.E_fitter.params.copy()"
   ]
  },
  {
   "cell_type": "markdown",
   "metadata": {},
   "source": [
    "# Fit"
   ]
  },
  {
   "cell_type": "code",
   "execution_count": null,
   "metadata": {
    "collapsed": true
   },
   "outputs": [],
   "source": [
    "from scipy import optimize"
   ]
  },
  {
   "cell_type": "code",
   "execution_count": null,
   "metadata": {
    "collapsed": true
   },
   "outputs": [],
   "source": [
    "params_fixed = dict(\n",
    "    mu1=float(params_gauss0.p1_center),\n",
    "    mu2=float(params_gauss0.p2_center),\n",
    "    sig1=float(params_gauss0.p1_sigma),\n",
    "    sig2=float(params_gauss0.p2_sigma),\n",
    ")"
   ]
  },
  {
   "cell_type": "code",
   "execution_count": null,
   "metadata": {
    "collapsed": false
   },
   "outputs": [],
   "source": [
    "def em_weights_2gauss(x, a2, mu1, mu2, sig1, sig2):\n",
    "    \"\"\"Responsibility function for a 2-Gaussian model.\n",
    "    \n",
    "    Return 2 arrays of size = x.size: the responsibility of \n",
    "    each Gaussian population.\n",
    "    \"\"\"\n",
    "    a1 = 1 - a2\n",
    "    assert np.abs(a1 + a2 - 1) < 1e-3\n",
    "    f1 = a1 * gauss_pdf(x, mu1, sig1)\n",
    "    f2 = a2 * gauss_pdf(x, mu2, sig2)\n",
    "    γ1 = f1 / (f1 + f2)\n",
    "    γ2 = f2 / (f1 + f2)\n",
    "    return γ1, γ2"
   ]
  },
  {
   "cell_type": "code",
   "execution_count": null,
   "metadata": {
    "collapsed": false
   },
   "outputs": [],
   "source": [
    "def em_fit_2gauss(x, a2_0, params_fixed, print_every=10, max_iter=100, rtol=1e-3):\n",
    "    a2_new = a2_0\n",
    "    rel_change = 1\n",
    "    i = 0\n",
    "    while rel_change > rtol and i < max_iter:\n",
    "\n",
    "        # E-step\n",
    "        γ1, γ2 = em_weights_2gauss(x, a2_new, **params_fixed)\n",
    "        assert np.allclose(γ1.sum() + γ2.sum(), x.size)\n",
    "\n",
    "        # M-step\n",
    "        a2_old = a2_new\n",
    "        a2_new = γ2.sum()/γ2.size\n",
    "\n",
    "        # Convergence\n",
    "        rel_change = np.abs((a2_old - a2_new)/a2_new)\n",
    "        i += 1\n",
    "        if (i % print_every) == 0:\n",
    "            print(i, a2_new, rel_change)\n",
    "        \n",
    "    return a2_new, i"
   ]
  },
  {
   "cell_type": "code",
   "execution_count": null,
   "metadata": {
    "collapsed": false
   },
   "outputs": [],
   "source": [
    "from matplotlib.pylab import normpdf as gauss_pdf\n",
    "\n",
    "# Model PDF to be maximized\n",
    "def model_pdf(x, a2, mu1, mu2, sig1, sig2):\n",
    "    a1 = 1 - a2\n",
    "    #assert np.abs(a1 + a2 + a3 - 1) < 1e-3\n",
    "    return (a1 * gauss_pdf(x, mu1, sig1) + \n",
    "            a2 * gauss_pdf(x, mu2, sig2))\n",
    "\n",
    "def func2min_lmfit(params, x):\n",
    "    a2 = params['a2'].value\n",
    "    mu1 = params['mu1'].value\n",
    "    mu2 = params['mu2'].value\n",
    "    sig1 = params['sig1'].value\n",
    "    sig2 = params['sig2'].value\n",
    "    return -np.sqrt(np.log(model_pdf(x, a2, mu1, mu2, sig1, sig2)))\n",
    "\n",
    "def func2min_scipy(params_fit, params_fixed, x):\n",
    "    a2 = params_fit\n",
    "    mu1 = params_fixed['mu1']\n",
    "    mu2 = params_fixed['mu2']\n",
    "    sig1 = params_fixed['sig1']\n",
    "    sig2 = params_fixed['sig2']\n",
    "    return -np.log(model_pdf(x, a2, mu1, mu2, sig1, sig2)).sum()\n",
    "\n",
    "# create a set of Parameters\n",
    "params = lmfit.Parameters()\n",
    "params.add('a2', value=0.5, min=0)\n",
    "for k, v in params_fixed.items():\n",
    "    params.add(k, value=v, vary=False)"
   ]
  },
  {
   "cell_type": "markdown",
   "metadata": {},
   "source": [
    "$$f(x) = \\frac{A}{\\sigma\\sqrt{2\\pi}}\\, e^{-\\frac{(x - \\mu)^2}{2 \\sigma^2}}$$\n",
    "\n",
    "$$\\log f(x) = \\log \\frac{A}{\\sigma\\sqrt{2\\pi}}\\, e^{-\\frac{(x - \\mu)^2}{2 \\sigma^2}} = \\log{A} -\\log{\\sigma} - \\log\\sqrt{2\\pi} -\\frac{(x - \\mu)^2}{2 \\sigma^2}$$\n",
    "\n",
    "$$w_1 \\; f_1(x) + w_2 \\; f_2(x) + w_3 \\; f_3(x)$$\n",
    "\n",
    "$$\\log (w_1 \\; f_1(x)) = \\log{w_1} + \\log{f_1(x)}$$\n"
   ]
  },
  {
   "cell_type": "code",
   "execution_count": null,
   "metadata": {
    "collapsed": false
   },
   "outputs": [],
   "source": [
    "x = dm0.E_\n",
    "x"
   ]
  },
  {
   "cell_type": "code",
   "execution_count": null,
   "metadata": {
    "collapsed": false
   },
   "outputs": [],
   "source": [
    "res_em = em_fit_2gauss(x, 0.5, params_fixed)\n",
    "res_em"
   ]
  },
  {
   "cell_type": "code",
   "execution_count": null,
   "metadata": {
    "collapsed": false
   },
   "outputs": [],
   "source": [
    "#optimize.brute(func2min_scipy, ranges=((0.01, 0.99), (0.01, 0.99)), Ns=101, args=(params, x))"
   ]
  },
  {
   "cell_type": "code",
   "execution_count": null,
   "metadata": {
    "collapsed": false
   },
   "outputs": [],
   "source": [
    "res = optimize.minimize(func2min_scipy, x0=[0.5], args=(params_fixed, x), method='Nelder-Mead')\n",
    "res"
   ]
  },
  {
   "cell_type": "code",
   "execution_count": null,
   "metadata": {
    "collapsed": false
   },
   "outputs": [],
   "source": [
    "res = optimize.minimize(func2min_scipy, x0=[0.5], args=(params_fixed, x), bounds=((0,1),), method='SLSQP')\n",
    "res\n",
    "\n",
    "res = optimize.minimize(func2min_scipy, x0=[0.5], args=(params_fixed, x), bounds=((0,1),), method='TNC')\n",
    "res"
   ]
  },
  {
   "cell_type": "code",
   "execution_count": null,
   "metadata": {
    "collapsed": false
   },
   "outputs": [],
   "source": [
    "bins = np.arange(-0.1, 1.1, 0.025)\n",
    "plt.hist(x, bins, histtype='step', lw=2, normed=True);\n",
    "xx = np.arange(-0.1, 1.1, 0.005)\n",
    "#plt.plot(xx, model_pdf(xx, params))\n",
    "plt.plot(xx, model_pdf(xx, a2=res_em[0], **params_fixed))"
   ]
  },
  {
   "cell_type": "markdown",
   "metadata": {},
   "source": [
    "# Kinetics"
   ]
  },
  {
   "cell_type": "code",
   "execution_count": null,
   "metadata": {
    "collapsed": false
   },
   "outputs": [],
   "source": [
    "mfit.factory_two_gaussians()"
   ]
  },
  {
   "cell_type": "code",
   "execution_count": null,
   "metadata": {
    "collapsed": false
   },
   "outputs": [],
   "source": [
    "def _kinetics_fit_em(dx, a2_0, params_fixed, **kwargs):\n",
    "    kwargs = {'max_iter': 100, 'print_every': 101, **kwargs}\n",
    "    a2, i = em_fit_2gauss(dx.E_, a2_0, params_fixed, **kwargs)\n",
    "    return a2, i < kwargs['max_iter']\n",
    "\n",
    "def _kinetics_fit_ll(dx, a2_0, params_fixed, **kwargs):\n",
    "    kwargs = {'method':'Nelder-Mead', **kwargs}\n",
    "    res = optimize.minimize(func2min_scipy, x0=[a2_0], args=(params_fixed, dx.E_), \n",
    "                            **kwargs)\n",
    "    return res.x[0], res.success\n",
    "    \n",
    "def _kinetics_fit_hist(dx, a2_0, params_fixed):\n",
    "    E_fitter = bext.bursts_fitter(dx)\n",
    "    model = mfit.factory_two_gaussians()\n",
    "    model.set_param_hint('p1_center', value=params_fixed['mu1'], vary=False)\n",
    "    model.set_param_hint('p2_center', value=params_fixed['mu2'], vary=False)\n",
    "    model.set_param_hint('p1_sigma', value=params_fixed['sig1'], vary=False)\n",
    "    model.set_param_hint('p2_sigma', value=params_fixed['sig2'], vary=False)\n",
    "    E_fitter.fit_histogram(model, verbose=False)\n",
    "    return (float(E_fitter.params.p2_amplitude), \n",
    "            dx.E_fitter.fit_res[0].success)\n",
    "\n",
    "def kinetics_fit(ds_slices, params_fixed, a2_0=0.5, method='em', **method_kws):\n",
    "    fit_func = {\n",
    "        'em': _kinetics_fit_em, \n",
    "        'll': _kinetics_fit_ll,\n",
    "        'hist': _kinetics_fit_hist}\n",
    "    \n",
    "    fit_list = []\n",
    "    for dx in ds_slices:\n",
    "        a2, success = fit_func[method](dx, a2_0, params_fixed, **method_kws)\n",
    "        df_i = pd.DataFrame(data=dict(p2_amplitude=a2,\n",
    "                                      p1_center=params_fixed['mu1'], p2_center=params_fixed['mu2'], \n",
    "                                      p1_sigma=params_fixed['sig1'], p2_sigma=params_fixed['sig2'],\n",
    "                                      tstart=dx.slice_tstart, tstop=dx.slice_tstop, \n",
    "                                      tmean=0.5*(dx.slice_tstart + dx.slice_tstop)), \n",
    "                            index=[0.5*(dx.slice_tstart + dx.slice_tstop)])\n",
    "        if not success:\n",
    "            print('* ', end='', flush=True)\n",
    "            continue\n",
    "        \n",
    "        fit_list.append(df_i)\n",
    "    print(flush=True)\n",
    "    return pd.concat(fit_list)"
   ]
  },
  {
   "cell_type": "code",
   "execution_count": null,
   "metadata": {
    "collapsed": true
   },
   "outputs": [],
   "source": [
    "dsc = ds.collapse()"
   ]
  },
  {
   "cell_type": "code",
   "execution_count": null,
   "metadata": {
    "collapsed": true
   },
   "outputs": [],
   "source": [
    "def print_slices(moving_window_params):\n",
    "    msg = ' - Slicing measurement:'\n",
    "    for name in ('start', 'stop', 'step', 'window'):\n",
    "        msg += ' %s = %.1fs' % (name, moving_window_params[name]) \n",
    "    print(msg, flush=True)\n",
    "    num_slices = len(bext.moving_window_startstop(**moving_window_params))\n",
    "    print('   Number of slices %d' % num_slices, flush=True)"
   ]
  },
  {
   "cell_type": "code",
   "execution_count": null,
   "metadata": {
    "collapsed": false
   },
   "outputs": [],
   "source": [
    "step = 1\n",
    "params = {}\n",
    "for window in (5, 30):\n",
    "    moving_window_params = dict(start=0, stop=dsc.time_max, step=step, window=window)\n",
    "    print_slices(moving_window_params)\n",
    "    \n",
    "    ds_slices = bext.moving_window_chunks(dsc, start=0, stop=600*60, step=step, window=window)\n",
    "    for meth in ['em', 'll', 'hist']:\n",
    "        print('    >>> Fitting method %s' % meth, flush=True)\n",
    "        p = kinetics_fit(ds_slices, params_fixed, method=meth)\n",
    "        p['kinetics'] = p.p2_amplitude\n",
    "        slope, intercept, r_value, p_value, std_err = linregress(p.tstart, p.kinetics)\n",
    "        y_model = p.tstart*slope + intercept\n",
    "        p['kinetics_linregress'] = y_model\n",
    "        params[meth, window, step] = p"
   ]
  },
  {
   "cell_type": "markdown",
   "metadata": {},
   "source": [
    "## Number of bursts"
   ]
  },
  {
   "cell_type": "code",
   "execution_count": null,
   "metadata": {
    "collapsed": false
   },
   "outputs": [],
   "source": [
    "moving_window_params"
   ]
  },
  {
   "cell_type": "code",
   "execution_count": null,
   "metadata": {
    "collapsed": false
   },
   "outputs": [],
   "source": [
    "df = bext.moving_window_dataframe(**moving_window_params)\n",
    "df['size_mean'] = [di.nt_.mean() for di in ds_slices]\n",
    "df['size_max'] = [di.nt_.max() for di in ds_slices]\n",
    "df['num_bursts'] = [di.num_bursts[0] for di in ds_slices]\n",
    "df['burst_width'] = [di.mburst_.width.mean()*di.clk_p*1e3 for di in ds_slices]"
   ]
  },
  {
   "cell_type": "code",
   "execution_count": null,
   "metadata": {
    "collapsed": false
   },
   "outputs": [],
   "source": [
    "labels = ('num_bursts', 'burst_width')\n",
    "fig, axes = plt.subplots(len(labels), 1, figsize=(12, 3*len(labels)))\n",
    "\n",
    "for ax, label in zip(axes, labels):\n",
    "    ax.plot(label, data=df)\n",
    "    ax.legend(loc='best')\n",
    "    #ax.set_ylim(0)"
   ]
  },
  {
   "cell_type": "code",
   "execution_count": null,
   "metadata": {
    "collapsed": true
   },
   "outputs": [],
   "source": [
    "x, nb = df['tstart'], df['num_bursts']\n",
    "slope, intercept, r_value, p_value, std_err = linregress(x, nb)\n",
    "y_model = x*slope + intercept"
   ]
  },
  {
   "cell_type": "code",
   "execution_count": null,
   "metadata": {
    "collapsed": false
   },
   "outputs": [],
   "source": [
    "plt.plot(x, nb)\n",
    "plt.plot(x, y_model)\n",
    "print(\"Number of bursts: %.1f MEAN, %.1f VAR, %.3f VAR/MEAN\" % \n",
    "      (nb.mean(), nb.var(), nb.var()/nb.mean()))"
   ]
  },
  {
   "cell_type": "code",
   "execution_count": null,
   "metadata": {
    "collapsed": false
   },
   "outputs": [],
   "source": [
    "nb_corr = (nb - y_model) + nb.mean()\n",
    "plt.plot(nb_corr)\n",
    "plt.plot(x, np.repeat(nb.mean(), x.size))\n",
    "print(\"Number of bursts: %.1f MEAN, %.1f VAR, %.3f VAR/MEAN\" % \n",
    "      (nb_corr.mean(), nb_corr.var(), nb_corr.var()/nb_corr.mean()))"
   ]
  },
  {
   "cell_type": "code",
   "execution_count": null,
   "metadata": {
    "collapsed": true
   },
   "outputs": [],
   "source": [
    "df['num_bursts_detrend'] = nb_corr\n",
    "df['num_bursts_linregress'] = y_model"
   ]
  },
  {
   "cell_type": "code",
   "execution_count": null,
   "metadata": {
    "collapsed": false
   },
   "outputs": [],
   "source": [
    "out_fname = 'results/%s_burst_data_vs_time__window%ds_step%ds.txt' % (\n",
    "    Path(filename).stem, moving_window_params['window'], moving_window_params['step'])\n",
    "out_fname"
   ]
  },
  {
   "cell_type": "code",
   "execution_count": null,
   "metadata": {
    "collapsed": false
   },
   "outputs": [],
   "source": [
    "df.to_csv(out_fname)"
   ]
  },
  {
   "cell_type": "markdown",
   "metadata": {},
   "source": [
    "## Population fraction"
   ]
  },
  {
   "cell_type": "code",
   "execution_count": null,
   "metadata": {
    "collapsed": true
   },
   "outputs": [],
   "source": [
    "methods = ('em', 'll', 'hist')"
   ]
  },
  {
   "cell_type": "code",
   "execution_count": null,
   "metadata": {
    "collapsed": false
   },
   "outputs": [],
   "source": [
    "for meth in methods:\n",
    "    plt.figure(figsize=(14, 3))\n",
    "    plt.plot(params['em', 5, 1].index, params['em', 5, 1].kinetics, 'h', color='gray', alpha=0.2)\n",
    "    plt.plot(params['em', 30, 1].index, params['em', 30, 1].kinetics, 'h', alpha=0.3)"
   ]
  },
  {
   "cell_type": "code",
   "execution_count": null,
   "metadata": {
    "collapsed": false
   },
   "outputs": [],
   "source": [
    "step = 1\n",
    "for window in (5, 30):\n",
    "    for meth in methods:\n",
    "        out_fname = ('results/' + Path(filename).stem + \n",
    "                     '_%sfit_ampl_only__window%ds_step%ds.txt' % (meth, window, step))\n",
    "        print('- Saving: ', out_fname)\n",
    "        params[meth, window, step].to_csv(out_fname)"
   ]
  },
  {
   "cell_type": "code",
   "execution_count": null,
   "metadata": {
    "collapsed": false
   },
   "outputs": [],
   "source": [
    "d"
   ]
  },
  {
   "cell_type": "code",
   "execution_count": null,
   "metadata": {
    "collapsed": true
   },
   "outputs": [],
   "source": []
  },
  {
   "cell_type": "code",
   "execution_count": null,
   "metadata": {
    "collapsed": true
   },
   "outputs": [],
   "source": []
  }
 ],
 "metadata": {
  "kernelspec": {
   "display_name": "Python 3",
   "language": "python",
   "name": "python3"
  },
  "language_info": {
   "codemirror_mode": {
    "name": "ipython",
    "version": 3
   },
   "file_extension": ".py",
   "mimetype": "text/x-python",
   "name": "python",
   "nbconvert_exporter": "python",
   "pygments_lexer": "ipython3",
   "version": "3.5.1"
  }
 },
 "nbformat": 4,
 "nbformat_minor": 0
}
