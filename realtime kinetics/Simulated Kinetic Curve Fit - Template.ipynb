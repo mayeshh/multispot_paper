{
 "cells": [
  {
   "cell_type": "code",
   "execution_count": null,
   "metadata": {
    "collapsed": false
   },
   "outputs": [],
   "source": [
    "sigma = 0.016\n",
    "\n",
    "time_window =  30\n",
    "time_step   =  5\n",
    "time_start  = -900\n",
    "time_stop   =  900\n",
    "decimation  =  20\n",
    "t0_vary = True\n",
    "\n",
    "true_params = dict(\n",
    "    tau = 60,          # time constant\n",
    "    init_value = 0.3,  # initial value (for t < t0) \n",
    "    final_value = 0.8, # final value   (for t -> +inf)\n",
    "    t0 = 0)            # time origin\n",
    "\n",
    "num_sim_cycles = 1000\n",
    "taus = (30, 60)"
   ]
  },
  {
   "cell_type": "markdown",
   "metadata": {},
   "source": [
    "### Notebook arguments\n",
    "\n",
    "- **sigma** (*float*): standard deviation of additive Gaussian noise to be simulated\n",
    "- **time_window** (*float*): seconds, integration window duration\n",
    "- **time_step** (*float*): seconds, time step for the moving integration window\n",
    "- **time_start** (*float*): seconds, start of time axis (kinetics starts at `t = t0`).\n",
    "- **time_stop** (*float*): seconds, stop of time axis (kinetics starts at `t = t0`).\n",
    "- **t0_vary** (*bool*): whether models should vary the curve origin (`t0`) during the fit\n",
    "- **true_params** (*dict*): parameters used to generate simulated kinetic curves\n",
    "- **num_sim_cycles** (*int*): number of times fit is repeated (Monte-Carlo)\n",
    "- **taus** (*tuple*): list of values for time-costant `tau` simulated during repeated fits (Monte-Carlo).\n",
    "----"
   ]
  },
  {
   "cell_type": "markdown",
   "metadata": {},
   "source": [
    "# Simulated Kinetic Curve Fit\n",
    "\n",
    "<p class=lead>This notebook fits simulated exponential transients with additive Gaissian noise in order to study time-constant fitting accuracy.\n",
    "In particular we compare a simple exponential model with a more realistic model \n",
    "with integration window, checking the effect on the fit results.\n",
    "<p>\n",
    "\n",
    "You can either run this notebook directly, or run it through the [master notebook](Simulated Kinetic Curve Fit - Run-All.ipynb) for batch processing.\n",
    "\n",
    "## Imports"
   ]
  },
  {
   "cell_type": "code",
   "execution_count": null,
   "metadata": {
    "collapsed": false
   },
   "outputs": [],
   "source": [
    "%matplotlib inline\n",
    "import numpy as np\n",
    "import lmfit\n",
    "import pandas as pd\n",
    "import matplotlib.pyplot as plt\n",
    "import seaborn as sns"
   ]
  },
  {
   "cell_type": "code",
   "execution_count": null,
   "metadata": {
    "collapsed": false
   },
   "outputs": [],
   "source": [
    "import models  # custom module"
   ]
  },
  {
   "cell_type": "markdown",
   "metadata": {},
   "source": [
    "# Fitting models\n",
    "\n",
    "Models used to fit the data.\n",
    "\n",
    "## 1. Simple Exponential\n",
    "\n",
    "In this model, we define the model function as an exponential transient:\n",
    "\n",
    "$$ y = f(t) = A \\cdot e^{-t/\\tau} + K$$\n",
    "\n",
    "The python function implementing it is:\n",
    "\n",
    "- `models.exp_func()`.\n",
    "\n",
    "Next cell defines and initializes the fitting model ([`lmfit.model.Model`](https://lmfit.github.io/lmfit-py/model.html#the-model-class)) including parameters' constrains:"
   ]
  },
  {
   "cell_type": "code",
   "execution_count": null,
   "metadata": {
    "collapsed": false
   },
   "outputs": [],
   "source": [
    "labels = ('tau', 'init_value', 'final_value')\n",
    "model = models.factory_model_exp(t0_vary=True)"
   ]
  },
  {
   "cell_type": "markdown",
   "metadata": {},
   "source": [
    "## 2. Integrated Exponential\n",
    "\n",
    "A more realistic model needs to take into account that each data point \n",
    "is the result of an **integration** over a **time window** $w$:\n",
    "\n",
    "$$f(t) = A \\cdot e^{-t/\\tau} + K$$\n",
    "\n",
    "$$y(t) = \\int_{t}^{t+w} f(t')\\;dt'$$\n",
    "\n",
    "In other words, when we process a measurement in time chunks, we are integrating\n",
    "a non-stationary signal $f(t)$ over a time window $w$. This integration causes\n",
    "a smoothing of $f(t)$, regardless of the fact that time is binned or \n",
    "is swiped-through with a moving windows (overlapping chunks).\n",
    "\n",
    "Numerically, $t$ is discretized with step equal to `(time_step / decimation)`.\n",
    "\n",
    "The python function implementing this model function is:\n",
    "\n",
    "- `models.expwindec_func()`.\n",
    "\n",
    "And, finally, we define and initialize the fitting model parameters' constrains:"
   ]
  },
  {
   "cell_type": "code",
   "execution_count": null,
   "metadata": {
    "collapsed": false
   },
   "outputs": [],
   "source": [
    "modelw = models.factory_model_expwin(t_window=time_window, decimation=decimation, t0_vary=t0_vary)"
   ]
  },
  {
   "cell_type": "markdown",
   "metadata": {},
   "source": [
    "# Generative model\n",
    "\n",
    "These are the models used to generate the simulates (noisy) data.\n",
    "\n",
    "## 1. Simple Exponential + Noise\n",
    "\n",
    "In this simple model, we simulate random data $Y$ as an exponential decay plus\n",
    "additive Gaussian noise:\n",
    "\n",
    "$$ Y(t_k) = f(t_k) + N_k $$\n",
    "\n",
    "$$ \\{N_k\\} \\sim {\\rm Normal}\\{\\mu=0; \\sigma\\}$$\n",
    "\n",
    "$$ \\Delta t = t_k - t_{k-1} = \\texttt{time_step}$$\n",
    "\n",
    "\n",
    "## 2. Integrated Exponential + Noise\n",
    "\n",
    "For the \"integrating window\" model, we first define a finer time axis $\\theta_i$ \n",
    "which oversamples $t_k$ by a factor $n$. Then we define the function $Y_f$ \n",
    "adding Gaussian noise $\\sqrt{n}\\,N_i$, with $n$ times larger variance:\n",
    "\n",
    "$$ Y_f(\\theta_i) = f(\\theta_i) + \\sqrt{n}\\,N_i $$\n",
    "\n",
    "$$ \\Delta \\theta = \\theta_i - \\theta_{i-1} = \\texttt{time_step} \\;/\\; n$$\n",
    "\n",
    "Finally, by averaging each time window, we compute the data on the coarse time axis $t_k$:\n",
    "\n",
    "$$ Y_w(t_k) = \\frac{1}{m}\\sum_{i} Y_f(\\theta_i)$$\n",
    "\n",
    "Here, for each $t_k$, we compute the mean of $m$ consecutive $Y_f$ values. The number $m$ \n",
    "is chosen so that $m\\, \\Delta \\theta$ is equal to the time window.\n",
    "\n",
    "\n",
    "## Noise amplitude\n",
    "\n",
    "The amplitude of the additive noise ($\\sigma$) is estimated from the experimental kinetic curves.\n",
    "In particular we take the variance from the **POST** period (i.e. the steady state period after the transient).\n",
    "The **POST** period has been chosen because it exhibits higher variance than the **PRE** period (i.e. the steady state period\n",
    "before the transient). These values have been calculated in [8-spot bubble-bubble kinetics - Summary](8-spot bubble-bubble kinetics - Summary.ipynb).\n",
    "\n",
    "In both models we define the **noise amplitude** as `sigma` (see first cell):\n",
    "\n",
    "    sigma = 0.016\n",
    "\n",
    "\n",
    "## Time axis\n",
    "\n",
    "We also define the parameters for the time axis $t$:\n",
    "\n",
    "    time_start = -900    # seconds \n",
    "    time_stop  =  900    # seconds\n",
    "    time_step  = 5       # seconds\n",
    "    \n",
    "\n",
    "## Kinetic curve paramenters\n",
    "\n",
    "The simulated kinetic curve has the following parameters:\n",
    "\n",
    "    true_params = dict(\n",
    "        tau = 60,          # time constant\n",
    "        init_value = 0.3,  # initial value (for t < t0) \n",
    "        final_value = 0.8, # final value   (for t -> +inf)\n",
    "        t0 = 0)            # time origin\n",
    "\n",
    "\n",
    "<div class=\"alert alert-info\">\n",
    "**NOTE**: All previous parameters are defined in the first notebook cell. \n",
    "</div>"
   ]
  },
  {
   "cell_type": "markdown",
   "metadata": {},
   "source": [
    "# Single kinetic curve fit\n",
    "\n",
    "Here we simulate one kinetic curve and **fit** it with the two models ([simple exponential](#1.-Simple-Exponential) and [integrated exponential](#2.-Integrated-Exponential)).\n",
    "\n",
    "## Draw simulated data\n",
    "\n",
    "Time axis for simulated data:"
   ]
  },
  {
   "cell_type": "code",
   "execution_count": null,
   "metadata": {
    "collapsed": false
   },
   "outputs": [],
   "source": [
    "t = np.arange(time_start, time_stop-time_window, time_step).astype(float)\n",
    "t.size"
   ]
  },
  {
   "cell_type": "markdown",
   "metadata": {},
   "source": [
    "An ideal transient (no noise, no integration):"
   ]
  },
  {
   "cell_type": "code",
   "execution_count": null,
   "metadata": {
    "collapsed": false
   },
   "outputs": [],
   "source": [
    "y = models.expwindec_func(t, t_window=time_window, **true_params)\n",
    "y.shape"
   ]
  },
  {
   "cell_type": "markdown",
   "metadata": {},
   "source": [
    "A simulated transient (including noise + integration):"
   ]
  },
  {
   "cell_type": "code",
   "execution_count": null,
   "metadata": {
    "collapsed": false
   },
   "outputs": [],
   "source": [
    "time_window, time_step"
   ]
  },
  {
   "cell_type": "code",
   "execution_count": null,
   "metadata": {
    "collapsed": false
   },
   "outputs": [],
   "source": [
    "yr = models.expwindec_func(t, t_window=time_window, sigma=sigma, **true_params)\n",
    "yr.shape"
   ]
  },
  {
   "cell_type": "markdown",
   "metadata": {},
   "source": [
    "Plot the computed curves:"
   ]
  },
  {
   "cell_type": "code",
   "execution_count": null,
   "metadata": {
    "collapsed": false
   },
   "outputs": [],
   "source": [
    "plt.plot(t, y, '-', label='model')\n",
    "plt.plot(t, yr, 'o', label='model + noise')"
   ]
  },
  {
   "cell_type": "markdown",
   "metadata": {},
   "source": [
    "## Fit data"
   ]
  },
  {
   "cell_type": "markdown",
   "metadata": {},
   "source": [
    "Fit the \"Integrated Exponential\" model:"
   ]
  },
  {
   "cell_type": "code",
   "execution_count": null,
   "metadata": {
    "collapsed": false
   },
   "outputs": [],
   "source": [
    "#%%timeit\n",
    "resw = modelw.fit(yr, t=t, tau=10, init_value=0.1, final_value=0.9, verbose=False)"
   ]
  },
  {
   "cell_type": "markdown",
   "metadata": {},
   "source": [
    "Fit the \"Simple Exponential\" model:"
   ]
  },
  {
   "cell_type": "code",
   "execution_count": null,
   "metadata": {
    "collapsed": false
   },
   "outputs": [],
   "source": [
    "#%%timeit\n",
    "res = model.fit(yr, t=t + 0.5*time_window, tau=10, init_value=0.1, final_value=0.9, verbose=False)"
   ]
  },
  {
   "cell_type": "markdown",
   "metadata": {},
   "source": [
    "Print and plot fit results:"
   ]
  },
  {
   "cell_type": "code",
   "execution_count": null,
   "metadata": {
    "collapsed": false
   },
   "outputs": [],
   "source": [
    "fig = plt.figure(figsize=(14, 8))\n",
    "res.plot(fig=fig)\n",
    "ci = lmfit.conf_interval(res, res)\n",
    "lmfit.report_fit(res)\n",
    "print(lmfit.ci_report(ci, with_offset=False))\n",
    "#plt.xlim(-300, 300)"
   ]
  },
  {
   "cell_type": "code",
   "execution_count": null,
   "metadata": {
    "collapsed": false,
    "scrolled": false
   },
   "outputs": [],
   "source": [
    "fig = plt.figure(figsize=(14, 8))\n",
    "resw.plot(fig=fig)\n",
    "ci = lmfit.conf_interval(resw, resw)\n",
    "lmfit.report_fit(resw)\n",
    "print(lmfit.ci_report(ci, with_offset=False))\n",
    "#plt.xlim(-300, 300)"
   ]
  },
  {
   "cell_type": "markdown",
   "metadata": {},
   "source": [
    "# Monte-Carlo Simulation\n",
    "\n",
    "Here, fixed the model paramenters, we generate and fit several noisy datasets. Then, by plotting the distribution of the fitted parameters, we assess the stability and accuracy of the fit.\n",
    "\n",
    "## Parameters"
   ]
  },
  {
   "cell_type": "markdown",
   "metadata": {},
   "source": [
    "The number simulation cycles is defined by `num_sim_cycles`. Current value is:"
   ]
  },
  {
   "cell_type": "code",
   "execution_count": null,
   "metadata": {
    "collapsed": false
   },
   "outputs": [],
   "source": [
    "num_sim_cycles"
   ]
  },
  {
   "cell_type": "markdown",
   "metadata": {},
   "source": [
    "The **fixed** kinetic curve parameters are:"
   ]
  },
  {
   "cell_type": "code",
   "execution_count": null,
   "metadata": {
    "collapsed": false
   },
   "outputs": [],
   "source": [
    "{k: v for k, v in true_params.items() if k is not \"tau\"}"
   ]
  },
  {
   "cell_type": "markdown",
   "metadata": {},
   "source": [
    "While `tau` is varied, taking the following values:"
   ]
  },
  {
   "cell_type": "code",
   "execution_count": null,
   "metadata": {
    "collapsed": false
   },
   "outputs": [],
   "source": [
    "taus"
   ]
  },
  {
   "cell_type": "code",
   "execution_count": null,
   "metadata": {
    "collapsed": false
   },
   "outputs": [],
   "source": [
    "t0_vary"
   ]
  },
  {
   "cell_type": "markdown",
   "metadata": {},
   "source": [
    "<div class=\"alert alert-info\">\n",
    "**NOTE**: All previous parameters are defined in the first notebook cell. \n",
    "</div>"
   ]
  },
  {
   "cell_type": "markdown",
   "metadata": {},
   "source": [
    "## Functions\n",
    "\n",
    "Here we define two functions:\n",
    "\n",
    "- `draw_samples_and_fit()` draws a set of data and fits it with **both** models\n",
    "\n",
    "- `monte_carlo_sim()` run the Monte-Carlo simulation: calls `draw_samples_and_fit()` many times.\n",
    "\n",
    "> **NOTE:** Global variables are used by previous functions."
   ]
  },
  {
   "cell_type": "code",
   "execution_count": null,
   "metadata": {
    "collapsed": true
   },
   "outputs": [],
   "source": [
    "def draw_samples_and_fit(true_params):\n",
    "    # Create the data\n",
    "    t = np.arange(time_start, time_stop-time_window, time_step).astype(float)\n",
    "    yr = models.expwindec_func(t, t_window=time_window, sigma=sigma, decimation=100, **true_params)\n",
    "\n",
    "    # Fit the model\n",
    "    tc = t + 0.5*time_window\n",
    "    kws = dict(fit_kws=dict(nan_policy='omit'), verbose=False)\n",
    "    res = model.fit(yr, t=tc, tau=90, method='nelder', **kws)\n",
    "    res = model.fit(yr, t=tc, **kws)\n",
    "    resw = modelw.fit(yr, t=t, tau=400, decimation=decimation, method='nelder', **kws)\n",
    "    resw = modelw.fit(yr, t=t, decimation=decimation, **kws)\n",
    "    return res, resw"
   ]
  },
  {
   "cell_type": "code",
   "execution_count": null,
   "metadata": {
    "collapsed": true
   },
   "outputs": [],
   "source": [
    "def monte_carlo_sim(true_params, N):\n",
    "    df1 = pd.DataFrame(index=range(N), columns=labels)\n",
    "    df2 = df1.copy()\n",
    "    for i in range(N):\n",
    "        res1, res2 = draw_samples_and_fit(true_params)\n",
    "        for var in labels:\n",
    "            df1.loc[i, var] = res1.values[var]\n",
    "            df2.loc[i, var] = res2.values[var]\n",
    "    return df1, df2"
   ]
  },
  {
   "cell_type": "markdown",
   "metadata": {},
   "source": [
    "## Run Monte-Carlo simulation\n",
    "\n",
    "Run the Monte-Carlo fit for a set of different time-constants (`taus`)\n",
    "and save results in two `DataFrames`, one for each model."
   ]
  },
  {
   "cell_type": "code",
   "execution_count": null,
   "metadata": {
    "collapsed": true
   },
   "outputs": [],
   "source": [
    "mc_results1, mc_results2 = [], []"
   ]
  },
  {
   "cell_type": "code",
   "execution_count": null,
   "metadata": {
    "collapsed": false
   },
   "outputs": [],
   "source": [
    "%%timeit -n1 -r1   # <-- prints execution time\n",
    "for tau in taus:\n",
    "    true_params['tau'] = tau\n",
    "    df1, df2 = monte_carlo_sim(true_params, num_sim_cycles)\n",
    "    mc_results1.append(df1)\n",
    "    mc_results2.append(df2)"
   ]
  },
  {
   "cell_type": "markdown",
   "metadata": {},
   "source": [
    "<div class=\"alert alert-danger\">\n",
    "**WARNING**: The previous cell can take a long to execute. Execution time scales with **`num_sim_cycles * len(taus)`**. \n",
    "</div>"
   ]
  },
  {
   "cell_type": "markdown",
   "metadata": {},
   "source": [
    "## Results1 - Simple Exponential"
   ]
  },
  {
   "cell_type": "code",
   "execution_count": null,
   "metadata": {
    "collapsed": false
   },
   "outputs": [],
   "source": [
    "for tau, df in zip(taus, mc_results1):\n",
    "    true_params['tau'] = tau\n",
    "    fig, ax = plt.subplots(1, 3, figsize=(16, 4))\n",
    "    for i, var in enumerate(labels):\n",
    "        std = df[var].std()\n",
    "        df[var].hist(bins=30, ax=ax[i])\n",
    "        ax[i].set_title(\"%s = %.1f (%.3f)\" % (var, true_params[var], std), fontsize=18)\n",
    "        ax[i].axvline(true_params[var], color='r', ls='--')\n",
    "    #print('True parameters: %s' % true_params)"
   ]
  },
  {
   "cell_type": "markdown",
   "metadata": {},
   "source": [
    "## Results2 - Integrated Exponential"
   ]
  },
  {
   "cell_type": "code",
   "execution_count": null,
   "metadata": {
    "collapsed": false
   },
   "outputs": [],
   "source": [
    "for tau, df in zip(taus, mc_results2):\n",
    "    true_params['tau'] = tau\n",
    "    fig, ax = plt.subplots(1, 3, figsize=(16, 4))\n",
    "    for i, var in enumerate(labels):\n",
    "        std = df[var].std()\n",
    "        df[var].hist(bins=30, ax=ax[i])\n",
    "        ax[i].set_title(\"%s = %.1f (%.3f)\" % (var, true_params[var], std), fontsize=18)\n",
    "        ax[i].axvline(true_params[var], color='r', ls='--')\n",
    "    #print('True parameters: %s' % true_params)"
   ]
  },
  {
   "cell_type": "markdown",
   "metadata": {
    "collapsed": true
   },
   "source": [
    "# Conclusions\n",
    "\n",
    "The last two multipanel figures compare the fitting accuracy\n",
    "of the model parameter for the **simple-exponential** and **integrated-exponential** models.\n",
    "We note that, in particular for the `tau` parameter, \n",
    "the **integrated exponential** model is significantly more accurate,\n",
    "providing good estimates at much smaller integration times.\n",
    "\n",
    "This comparison demonstrates empirically the strong advantage \n",
    "in using the theoretically more correct\n",
    "**integrated exponential** model.\n"
   ]
  }
 ],
 "metadata": {
  "anaconda-cloud": {},
  "kernelspec": {
   "display_name": "Python [default]",
   "language": "python",
   "name": "python3"
  },
  "language_info": {
   "codemirror_mode": {
    "name": "ipython",
    "version": 3
   },
   "file_extension": ".py",
   "mimetype": "text/x-python",
   "name": "python",
   "nbconvert_exporter": "python",
   "pygments_lexer": "ipython3",
   "version": "3.5.2"
  }
 },
 "nbformat": 4,
 "nbformat_minor": 0
}
