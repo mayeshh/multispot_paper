{
 "cells": [
  {
   "cell_type": "markdown",
   "metadata": {},
   "source": [
    "# Effect of moving window averaging on variance\n",
    "\n",
    "<p class=lead>This notebook shows that the variance of a random process which is the moving window integration\n",
    "of an uncorrelated Gaussian process scales with the number of points both for overlapping (correlated) and\n",
    "non-overlapping (uncorrelated) windows.\n",
    "</p>\n",
    "\n",
    "## Mean of independent Gaussians\n",
    "\n",
    "$$ X_i \\sim \\mathcal{N}\\{0; \\sigma^2\\} \\qquad i = 1..N$$\n",
    "\n",
    "$$ Y = \\frac{1}{N}\\,\\sum_{i=1}^N X_i \\;\\sim\\; \\mathcal{N}\\{0; \\frac{\\sigma^2}{N}\\}$$\n",
    "\n",
    "## Covariance and Correlation\n",
    "\n",
    "$$ X \\sim \\mathcal{N}\\{0; \\sigma_X^2\\} \\quad Y \\sim \\mathcal{N}\\{0; \\sigma_Y^2\\} $$\n",
    "\n",
    "$$ \\operatorname{cov}(X,Y) = \\operatorname{E}[(X-\\mu_X)(Y-\\mu_Y)] $$\n",
    "\n",
    "$$ \\rho_{X,Y}= \\frac{\\operatorname{cov}(X,Y)}{\\sigma_X \\sigma_Y} $$\n",
    "\n",
    "$$ Z = X + Y \\;\\sim\\; \\mathcal{N}\\{0; \\sigma_Z^2\\} $$\n",
    "$$\\sigma_Z^2 = \\sigma_X^2 + \\sigma_Y^2 + 2\\operatorname{cov}(X,Y) = 2\\,\\sigma^2\\,( 1 + \\rho)$$"
   ]
  },
  {
   "cell_type": "markdown",
   "metadata": {},
   "source": [
    "$\\cdot$"
   ]
  },
  {
   "cell_type": "code",
   "execution_count": 1,
   "metadata": {
    "collapsed": false
   },
   "outputs": [
    {
     "name": "stderr",
     "output_type": "stream",
     "text": [
      "/Users/anto/miniconda3/lib/python3.5/site-packages/matplotlib/__init__.py:872: UserWarning: axes.color_cycle is deprecated and replaced with axes.prop_cycle; please use the latter.\n",
      "  warnings.warn(self.msg_depr % (key, alt_key))\n"
     ]
    }
   ],
   "source": [
    "%matplotlib inline\n",
    "import numpy as np\n",
    "import matplotlib.pyplot as plt\n",
    "import seaborn as sns"
   ]
  },
  {
   "cell_type": "code",
   "execution_count": 4,
   "metadata": {
    "collapsed": false
   },
   "outputs": [
    {
     "name": "stdout",
     "output_type": "stream",
     "text": [
      "t_step =  1;  ρ(exact) = 0.97;  ρ(empiric) =  1.00;  Var{X}⋅nwindow = 1.03\n",
      "t_step =  3;  ρ(exact) = 0.90;  ρ(empiric) =  0.91;  Var{X}⋅nwindow = 1.01\n",
      "t_step =  5;  ρ(exact) = 0.83;  ρ(empiric) =  0.82;  Var{X}⋅nwindow = 0.99\n",
      "t_step = 10;  ρ(exact) = 0.67;  ρ(empiric) =  0.67;  Var{X}⋅nwindow = 1.00\n",
      "t_step = 20;  ρ(exact) = 0.33;  ρ(empiric) =  0.34;  Var{X}⋅nwindow = 1.01\n",
      "t_step = 30;  ρ(exact) = 0.00;  ρ(empiric) = -0.01;  Var{X}⋅nwindow = 1.00\n"
     ]
    }
   ],
   "source": [
    "svar = []\n",
    "for t_step in (1, 3, 5, 10, 20, 30):   \n",
    "    t_window = 30\n",
    "    decimation = 20\n",
    "    nwindow = int(t_window / t_step * decimation)\n",
    "    tot_steps = 100*1000\n",
    "    tot_points = tot_steps * decimation\n",
    "\n",
    "    s = np.random.randn(tot_points)\n",
    "    x = np.array([s[i:i+nwindow].mean() for i in range(0, tot_points, decimation)])\n",
    "    svar.append(x.var()*nwindow)\n",
    "    \n",
    "    ρ_emp = (x[::2]*x[1::2]).mean()*nwindow\n",
    "    print('t_step = %2d;  ρ(exact) = %4.2f;  ρ(empiric) = %5.2f;  Var{X}⋅nwindow = %.2f' %\n",
    "          (t_step, 1 - t_step/t_window, ρ_emp, x.var()*nwindow))"
   ]
  },
  {
   "cell_type": "markdown",
   "metadata": {},
   "source": [
    "> **NOTE:** `x` contains correlated samples. Its variance, however, scales linearly with the number\n",
    "> of points in the averaging window `n_avg`, similarly to uncorrelated variables."
   ]
  },
  {
   "cell_type": "code",
   "execution_count": null,
   "metadata": {
    "collapsed": true
   },
   "outputs": [],
   "source": []
  }
 ],
 "metadata": {
  "anaconda-cloud": {},
  "kernelspec": {
   "display_name": "Python [default]",
   "language": "python",
   "name": "python3"
  },
  "language_info": {
   "codemirror_mode": {
    "name": "ipython",
    "version": 3
   },
   "file_extension": ".py",
   "mimetype": "text/x-python",
   "name": "python",
   "nbconvert_exporter": "python",
   "pygments_lexer": "ipython3",
   "version": "3.5.2"
  }
 },
 "nbformat": 4,
 "nbformat_minor": 0
}
