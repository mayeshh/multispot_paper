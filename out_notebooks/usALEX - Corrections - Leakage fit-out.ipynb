{
 "cells": [
  {
   "cell_type": "markdown",
   "metadata": {},
   "source": [
    "**Executed:** Sat Mar 25 17:52:33 2017\n",
    "\n",
    "**Duration:** 4 seconds."
   ]
  },
  {
   "cell_type": "markdown",
   "metadata": {},
   "source": [
    "# Leakage coefficient fit\n",
    "\n",
    "> *This notebook estracts the leakage coefficient from the set of 5 us-ALEX smFRET measurements.*\n",
    "\n",
    "## What it does?\n",
    "\n",
    "For each measurement, we fit the donor-only peak position of the uncorrected proximity ratio histogram. These values are saved in a `.txt` file. This notebook just performs a weighted mean where the weights are the number of bursts in each measurement.\n",
    "\n",
    "This notebook read data from the file:"
   ]
  },
  {
   "cell_type": "code",
   "execution_count": 1,
   "metadata": {
    "collapsed": false
   },
   "outputs": [],
   "source": [
    "#bsearch_ph_sel = 'all-ph'\n",
    "#bsearch_ph_sel = 'Dex'\n",
    "bsearch_ph_sel = 'DexDem'\n",
    "\n",
    "data_file = 'results/usALEX-5samples-PR-raw-%s.csv' % bsearch_ph_sel"
   ]
  },
  {
   "cell_type": "markdown",
   "metadata": {},
   "source": [
    "To recompute the PR data used by this notebook run the \n",
    "[8-spots paper analysis](8-spots paper analysis.ipynb) notebook."
   ]
  },
  {
   "cell_type": "markdown",
   "metadata": {},
   "source": [
    "# Computation"
   ]
  },
  {
   "cell_type": "code",
   "execution_count": 2,
   "metadata": {
    "collapsed": false
   },
   "outputs": [
    {
     "data": {
      "image/png": "[encoded data removed]",
      "text/plain": [
       "<matplotlib.figure.Figure at 0x11031b358>"
      ]
     },
     "metadata": {
      "image/png": {
       "height": 68,
       "width": 572
      }
     },
     "output_type": "display_data"
    }
   ],
   "source": [
    "from __future__ import division\n",
    "import numpy as np\n",
    "import pandas as pd\n",
    "from IPython.display import display\n",
    "import matplotlib.pyplot as plt\n",
    "import seaborn as sns\n",
    "%matplotlib inline\n",
    "%config InlineBackend.figure_format='retina'  # for hi-dpi displays\n",
    "\n",
    "sns.set_style('whitegrid')\n",
    "palette = ('Paired', 10)\n",
    "sns.palplot(sns.color_palette(*palette))\n",
    "sns.set_palette(*palette)"
   ]
  },
  {
   "cell_type": "code",
   "execution_count": 3,
   "metadata": {
    "collapsed": false
   },
   "outputs": [
    {
     "data": {
      "text/html": [
       "<div>\n",
       "<table border=\"1\" class=\"dataframe\">\n",
       "  <thead>\n",
       "    <tr style=\"text-align: right;\">\n",
       "      <th></th>\n",
       "      <th>n_bursts_all</th>\n",
       "      <th>n_bursts_do</th>\n",
       "      <th>n_bursts_fret</th>\n",
       "      <th>E_kde_w</th>\n",
       "      <th>E_gauss_w</th>\n",
       "      <th>E_gauss_w_sig</th>\n",
       "      <th>E_gauss_w_err</th>\n",
       "      <th>S_kde</th>\n",
       "      <th>S_gauss</th>\n",
       "      <th>S_gauss_sig</th>\n",
       "      <th>S_gauss_err</th>\n",
       "      <th>E_pr_do_kde</th>\n",
       "      <th>E_pr_do_hsm</th>\n",
       "      <th>E_pr_do_gauss</th>\n",
       "      <th>nt_mean</th>\n",
       "    </tr>\n",
       "    <tr>\n",
       "      <th>sample</th>\n",
       "      <th></th>\n",
       "      <th></th>\n",
       "      <th></th>\n",
       "      <th></th>\n",
       "      <th></th>\n",
       "      <th></th>\n",
       "      <th></th>\n",
       "      <th></th>\n",
       "      <th></th>\n",
       "      <th></th>\n",
       "      <th></th>\n",
       "      <th></th>\n",
       "      <th></th>\n",
       "      <th></th>\n",
       "      <th></th>\n",
       "    </tr>\n",
       "  </thead>\n",
       "  <tbody>\n",
       "    <tr>\n",
       "      <th>7d</th>\n",
       "      <td>1686</td>\n",
       "      <td>1396</td>\n",
       "      <td>151</td>\n",
       "      <td>0.8430</td>\n",
       "      <td>0.795435</td>\n",
       "      <td>0.089812</td>\n",
       "      <td>0.007309</td>\n",
       "      <td>0.6360</td>\n",
       "      <td>0.601757</td>\n",
       "      <td>0.093175</td>\n",
       "      <td>0.007582</td>\n",
       "      <td>0.0954</td>\n",
       "      <td>0.083806</td>\n",
       "      <td>0.092120</td>\n",
       "      <td>28.148237</td>\n",
       "    </tr>\n",
       "    <tr>\n",
       "      <th>12d</th>\n",
       "      <td>1915</td>\n",
       "      <td>722</td>\n",
       "      <td>1092</td>\n",
       "      <td>0.7140</td>\n",
       "      <td>0.706765</td>\n",
       "      <td>0.075569</td>\n",
       "      <td>0.002287</td>\n",
       "      <td>0.5592</td>\n",
       "      <td>0.587225</td>\n",
       "      <td>0.101999</td>\n",
       "      <td>0.003087</td>\n",
       "      <td>0.0916</td>\n",
       "      <td>0.086989</td>\n",
       "      <td>0.091178</td>\n",
       "      <td>27.970313</td>\n",
       "    </tr>\n",
       "    <tr>\n",
       "      <th>17d</th>\n",
       "      <td>4501</td>\n",
       "      <td>1045</td>\n",
       "      <td>3276</td>\n",
       "      <td>0.4634</td>\n",
       "      <td>0.447667</td>\n",
       "      <td>0.102266</td>\n",
       "      <td>0.001787</td>\n",
       "      <td>0.5702</td>\n",
       "      <td>0.574012</td>\n",
       "      <td>0.109407</td>\n",
       "      <td>0.001911</td>\n",
       "      <td>0.0950</td>\n",
       "      <td>0.095650</td>\n",
       "      <td>0.095034</td>\n",
       "      <td>29.152810</td>\n",
       "    </tr>\n",
       "    <tr>\n",
       "      <th>22d</th>\n",
       "      <td>3456</td>\n",
       "      <td>580</td>\n",
       "      <td>2750</td>\n",
       "      <td>0.2642</td>\n",
       "      <td>0.265565</td>\n",
       "      <td>0.067100</td>\n",
       "      <td>0.001280</td>\n",
       "      <td>0.5634</td>\n",
       "      <td>0.570735</td>\n",
       "      <td>0.109626</td>\n",
       "      <td>0.002090</td>\n",
       "      <td>0.0810</td>\n",
       "      <td>0.084635</td>\n",
       "      <td>0.088650</td>\n",
       "      <td>31.912677</td>\n",
       "    </tr>\n",
       "    <tr>\n",
       "      <th>27d</th>\n",
       "      <td>1397</td>\n",
       "      <td>401</td>\n",
       "      <td>943</td>\n",
       "      <td>0.1810</td>\n",
       "      <td>0.183239</td>\n",
       "      <td>0.054042</td>\n",
       "      <td>0.001760</td>\n",
       "      <td>0.6176</td>\n",
       "      <td>0.601480</td>\n",
       "      <td>0.108081</td>\n",
       "      <td>0.003520</td>\n",
       "      <td>0.0798</td>\n",
       "      <td>0.056870</td>\n",
       "      <td>0.081928</td>\n",
       "      <td>23.297139</td>\n",
       "    </tr>\n",
       "  </tbody>\n",
       "</table>\n",
       "</div>"
      ],
      "text/plain": [
       "        n_bursts_all  n_bursts_do  n_bursts_fret  E_kde_w  E_gauss_w  \\\n",
       "sample                                                                 \n",
       "7d              1686         1396            151   0.8430   0.795435   \n",
       "12d             1915          722           1092   0.7140   0.706765   \n",
       "17d             4501         1045           3276   0.4634   0.447667   \n",
       "22d             3456          580           2750   0.2642   0.265565   \n",
       "27d             1397          401            943   0.1810   0.183239   \n",
       "\n",
       "        E_gauss_w_sig  E_gauss_w_err   S_kde   S_gauss  S_gauss_sig  \\\n",
       "sample                                                                \n",
       "7d           0.089812       0.007309  0.6360  0.601757     0.093175   \n",
       "12d          0.075569       0.002287  0.5592  0.587225     0.101999   \n",
       "17d          0.102266       0.001787  0.5702  0.574012     0.109407   \n",
       "22d          0.067100       0.001280  0.5634  0.570735     0.109626   \n",
       "27d          0.054042       0.001760  0.6176  0.601480     0.108081   \n",
       "\n",
       "        S_gauss_err  E_pr_do_kde  E_pr_do_hsm  E_pr_do_gauss    nt_mean  \n",
       "sample                                                                   \n",
       "7d         0.007582       0.0954     0.083806       0.092120  28.148237  \n",
       "12d        0.003087       0.0916     0.086989       0.091178  27.970313  \n",
       "17d        0.001911       0.0950     0.095650       0.095034  29.152810  \n",
       "22d        0.002090       0.0810     0.084635       0.088650  31.912677  \n",
       "27d        0.003520       0.0798     0.056870       0.081928  23.297139  "
      ]
     },
     "execution_count": 3,
     "metadata": {},
     "output_type": "execute_result"
    }
   ],
   "source": [
    "data = pd.read_csv(data_file).set_index('sample')\n",
    "data"
   ]
  },
  {
   "cell_type": "code",
   "execution_count": 4,
   "metadata": {
    "collapsed": false
   },
   "outputs": [
    {
     "data": {
      "text/html": [
       "<div>\n",
       "<table border=\"1\" class=\"dataframe\">\n",
       "  <thead>\n",
       "    <tr style=\"text-align: right;\">\n",
       "      <th></th>\n",
       "      <th>E_pr_do_gauss</th>\n",
       "      <th>E_pr_do_kde</th>\n",
       "      <th>E_pr_do_hsm</th>\n",
       "      <th>n_bursts_do</th>\n",
       "    </tr>\n",
       "    <tr>\n",
       "      <th>sample</th>\n",
       "      <th></th>\n",
       "      <th></th>\n",
       "      <th></th>\n",
       "      <th></th>\n",
       "    </tr>\n",
       "  </thead>\n",
       "  <tbody>\n",
       "    <tr>\n",
       "      <th>7d</th>\n",
       "      <td>0.092120</td>\n",
       "      <td>0.0954</td>\n",
       "      <td>0.083806</td>\n",
       "      <td>1396</td>\n",
       "    </tr>\n",
       "    <tr>\n",
       "      <th>12d</th>\n",
       "      <td>0.091178</td>\n",
       "      <td>0.0916</td>\n",
       "      <td>0.086989</td>\n",
       "      <td>722</td>\n",
       "    </tr>\n",
       "    <tr>\n",
       "      <th>17d</th>\n",
       "      <td>0.095034</td>\n",
       "      <td>0.0950</td>\n",
       "      <td>0.095650</td>\n",
       "      <td>1045</td>\n",
       "    </tr>\n",
       "    <tr>\n",
       "      <th>22d</th>\n",
       "      <td>0.088650</td>\n",
       "      <td>0.0810</td>\n",
       "      <td>0.084635</td>\n",
       "      <td>580</td>\n",
       "    </tr>\n",
       "    <tr>\n",
       "      <th>27d</th>\n",
       "      <td>0.081928</td>\n",
       "      <td>0.0798</td>\n",
       "      <td>0.056870</td>\n",
       "      <td>401</td>\n",
       "    </tr>\n",
       "  </tbody>\n",
       "</table>\n",
       "</div>"
      ],
      "text/plain": [
       "        E_pr_do_gauss  E_pr_do_kde  E_pr_do_hsm  n_bursts_do\n",
       "sample                                                      \n",
       "7d           0.092120       0.0954     0.083806         1396\n",
       "12d          0.091178       0.0916     0.086989          722\n",
       "17d          0.095034       0.0950     0.095650         1045\n",
       "22d          0.088650       0.0810     0.084635          580\n",
       "27d          0.081928       0.0798     0.056870          401"
      ]
     },
     "metadata": {},
     "output_type": "display_data"
    },
    {
     "name": "stdout",
     "output_type": "stream",
     "text": [
      "KDE Mean (%):      8.856\n",
      "KDE Std. Dev. (%): 0.760578727023\n"
     ]
    }
   ],
   "source": [
    "display(data[['E_pr_do_gauss', 'E_pr_do_kde', 'E_pr_do_hsm', 'n_bursts_do']])\n",
    "print('KDE Mean (%):     ', data.E_pr_do_kde.mean()*100)\n",
    "print('KDE Std. Dev. (%):', data.E_pr_do_kde.std()*100)"
   ]
  },
  {
   "cell_type": "code",
   "execution_count": 5,
   "metadata": {
    "collapsed": false
   },
   "outputs": [
    {
     "data": {
      "image/png": "[encoded data removed]",
      "text/plain": [
       "<matplotlib.figure.Figure at 0x11372ce48>"
      ]
     },
     "metadata": {
      "image/png": {
       "height": 262,
       "width": 389
      }
     },
     "output_type": "display_data"
    }
   ],
   "source": [
    "d = data[['E_pr_do_gauss', 'E_pr_do_kde', 'E_pr_do_hsm']]#, 'n_bursts_do']]\n",
    "d.plot(lw=3);"
   ]
  },
  {
   "cell_type": "markdown",
   "metadata": {},
   "source": [
    "## Create Leakage Table"
   ]
  },
  {
   "cell_type": "code",
   "execution_count": 6,
   "metadata": {
    "collapsed": false
   },
   "outputs": [
    {
     "data": {
      "text/html": [
       "<div>\n",
       "<table border=\"1\" class=\"dataframe\">\n",
       "  <thead>\n",
       "    <tr style=\"text-align: right;\">\n",
       "      <th></th>\n",
       "      <th>E_pr_do_gauss</th>\n",
       "      <th>E_pr_do_kde</th>\n",
       "    </tr>\n",
       "    <tr>\n",
       "      <th>sample</th>\n",
       "      <th></th>\n",
       "      <th></th>\n",
       "    </tr>\n",
       "  </thead>\n",
       "  <tbody>\n",
       "    <tr>\n",
       "      <th>7d</th>\n",
       "      <td>0.092120</td>\n",
       "      <td>0.0954</td>\n",
       "    </tr>\n",
       "    <tr>\n",
       "      <th>12d</th>\n",
       "      <td>0.091178</td>\n",
       "      <td>0.0916</td>\n",
       "    </tr>\n",
       "    <tr>\n",
       "      <th>17d</th>\n",
       "      <td>0.095034</td>\n",
       "      <td>0.0950</td>\n",
       "    </tr>\n",
       "    <tr>\n",
       "      <th>22d</th>\n",
       "      <td>0.088650</td>\n",
       "      <td>0.0810</td>\n",
       "    </tr>\n",
       "    <tr>\n",
       "      <th>27d</th>\n",
       "      <td>0.081928</td>\n",
       "      <td>0.0798</td>\n",
       "    </tr>\n",
       "  </tbody>\n",
       "</table>\n",
       "</div>"
      ],
      "text/plain": [
       "        E_pr_do_gauss  E_pr_do_kde\n",
       "sample                            \n",
       "7d           0.092120       0.0954\n",
       "12d          0.091178       0.0916\n",
       "17d          0.095034       0.0950\n",
       "22d          0.088650       0.0810\n",
       "27d          0.081928       0.0798"
      ]
     },
     "execution_count": 6,
     "metadata": {},
     "output_type": "execute_result"
    }
   ],
   "source": [
    "E_table = data[['E_pr_do_gauss', 'E_pr_do_kde']]\n",
    "E_table"
   ]
  },
  {
   "cell_type": "code",
   "execution_count": 7,
   "metadata": {
    "collapsed": false
   },
   "outputs": [
    {
     "data": {
      "text/html": [
       "<div>\n",
       "<table border=\"1\" class=\"dataframe\">\n",
       "  <thead>\n",
       "    <tr style=\"text-align: right;\">\n",
       "      <th></th>\n",
       "      <th>lk_gauss</th>\n",
       "      <th>lk_kde</th>\n",
       "      <th>num_bursts</th>\n",
       "    </tr>\n",
       "    <tr>\n",
       "      <th>sample</th>\n",
       "      <th></th>\n",
       "      <th></th>\n",
       "      <th></th>\n",
       "    </tr>\n",
       "  </thead>\n",
       "  <tbody>\n",
       "    <tr>\n",
       "      <th>7d</th>\n",
       "      <td>0.101467</td>\n",
       "      <td>0.105461</td>\n",
       "      <td>1396</td>\n",
       "    </tr>\n",
       "    <tr>\n",
       "      <th>12d</th>\n",
       "      <td>0.100325</td>\n",
       "      <td>0.100837</td>\n",
       "      <td>722</td>\n",
       "    </tr>\n",
       "    <tr>\n",
       "      <th>17d</th>\n",
       "      <td>0.105014</td>\n",
       "      <td>0.104972</td>\n",
       "      <td>1045</td>\n",
       "    </tr>\n",
       "    <tr>\n",
       "      <th>22d</th>\n",
       "      <td>0.097273</td>\n",
       "      <td>0.088139</td>\n",
       "      <td>580</td>\n",
       "    </tr>\n",
       "    <tr>\n",
       "      <th>27d</th>\n",
       "      <td>0.089239</td>\n",
       "      <td>0.086720</td>\n",
       "      <td>401</td>\n",
       "    </tr>\n",
       "  </tbody>\n",
       "</table>\n",
       "</div>"
      ],
      "text/plain": [
       "        lk_gauss    lk_kde  num_bursts\n",
       "sample                                \n",
       "7d      0.101467  0.105461        1396\n",
       "12d     0.100325  0.100837         722\n",
       "17d     0.105014  0.104972        1045\n",
       "22d     0.097273  0.088139         580\n",
       "27d     0.089239  0.086720         401"
      ]
     },
     "execution_count": 7,
     "metadata": {},
     "output_type": "execute_result"
    }
   ],
   "source": [
    "lk_table = E_table / (1 - E_table)\n",
    "lk_table.columns = [c.replace('E_pr_do', 'lk') for c in E_table.columns]\n",
    "lk_table['num_bursts'] = data['n_bursts_do']\n",
    "lk_table"
   ]
  },
  {
   "cell_type": "markdown",
   "metadata": {},
   "source": [
    "## Average leakage coefficient"
   ]
  },
  {
   "cell_type": "code",
   "execution_count": 8,
   "metadata": {
    "collapsed": false
   },
   "outputs": [
    {
     "data": {
      "text/plain": [
       "sample\n",
       "7d     0.0954\n",
       "12d    0.0916\n",
       "17d    0.0950\n",
       "22d    0.0810\n",
       "27d    0.0798\n",
       "Name: E_pr_do_kde, dtype: float64"
      ]
     },
     "execution_count": 8,
     "metadata": {},
     "output_type": "execute_result"
    }
   ],
   "source": [
    "data.E_pr_do_kde"
   ]
  },
  {
   "cell_type": "code",
   "execution_count": 9,
   "metadata": {
    "collapsed": false
   },
   "outputs": [
    {
     "data": {
      "text/plain": [
       "sample\n",
       "7d     0.105461\n",
       "12d    0.100837\n",
       "17d    0.104972\n",
       "22d    0.088139\n",
       "27d    0.086720\n",
       "Name: lk_kde, dtype: float64"
      ]
     },
     "execution_count": 9,
     "metadata": {},
     "output_type": "execute_result"
    }
   ],
   "source": [
    "lk_table.lk_kde"
   ]
  },
  {
   "cell_type": "code",
   "execution_count": 10,
   "metadata": {
    "collapsed": false
   },
   "outputs": [
    {
     "data": {
      "text/plain": [
       "0.091112065637065656"
      ]
     },
     "execution_count": 10,
     "metadata": {},
     "output_type": "execute_result"
    }
   ],
   "source": [
    "E_m = np.average(data.E_pr_do_kde, weights=data.n_bursts_do)\n",
    "E_m"
   ]
  },
  {
   "cell_type": "code",
   "execution_count": 11,
   "metadata": {
    "collapsed": false
   },
   "outputs": [
    {
     "data": {
      "text/plain": [
       "0.10024565426861863"
      ]
     },
     "execution_count": 11,
     "metadata": {},
     "output_type": "execute_result"
    }
   ],
   "source": [
    "k_E_m = E_m / (1 - E_m)\n",
    "k_E_m"
   ]
  },
  {
   "cell_type": "code",
   "execution_count": 12,
   "metadata": {
    "collapsed": false
   },
   "outputs": [
    {
     "data": {
      "text/plain": [
       "0.10029423815244695"
      ]
     },
     "execution_count": 12,
     "metadata": {},
     "output_type": "execute_result"
    }
   ],
   "source": [
    "k_m = np.average(lk_table.lk_kde, weights=data.n_bursts_do)\n",
    "k_m"
   ]
  },
  {
   "cell_type": "markdown",
   "metadata": {},
   "source": [
    "# Conclusions\n",
    "\n",
    "Either averaging $E_{PR}$ or the corresponding $k = n_d/n_a$ the result for the leakage coefficient is ~10 % (D-only peak fitted finding the maximum of the KDE)."
   ]
  },
  {
   "cell_type": "markdown",
   "metadata": {
    "collapsed": false
   },
   "source": [
    "# Save data\n",
    "\n",
    "## Full table"
   ]
  },
  {
   "cell_type": "code",
   "execution_count": 13,
   "metadata": {
    "collapsed": false
   },
   "outputs": [
    {
     "data": {
      "text/html": [
       "<div>\n",
       "<table border=\"1\" class=\"dataframe\">\n",
       "  <thead>\n",
       "    <tr style=\"text-align: right;\">\n",
       "      <th></th>\n",
       "      <th>lk_gauss</th>\n",
       "      <th>lk_kde</th>\n",
       "      <th>num_bursts</th>\n",
       "    </tr>\n",
       "  </thead>\n",
       "  <tbody>\n",
       "    <tr>\n",
       "      <th>mean</th>\n",
       "      <td>0.098664</td>\n",
       "      <td>0.097226</td>\n",
       "      <td>828.800000</td>\n",
       "    </tr>\n",
       "    <tr>\n",
       "      <th>std</th>\n",
       "      <td>0.005952</td>\n",
       "      <td>0.009135</td>\n",
       "      <td>395.214752</td>\n",
       "    </tr>\n",
       "  </tbody>\n",
       "</table>\n",
       "</div>"
      ],
      "text/plain": [
       "      lk_gauss    lk_kde  num_bursts\n",
       "mean  0.098664  0.097226  828.800000\n",
       "std   0.005952  0.009135  395.214752"
      ]
     },
     "execution_count": 13,
     "metadata": {},
     "output_type": "execute_result"
    }
   ],
   "source": [
    "stats = pd.concat([lk_table.mean(), lk_table.std()], axis=1, keys=['mean', 'std']).T\n",
    "stats"
   ]
  },
  {
   "cell_type": "code",
   "execution_count": 14,
   "metadata": {
    "collapsed": false
   },
   "outputs": [
    {
     "data": {
      "text/html": [
       "<div>\n",
       "<table border=\"1\" class=\"dataframe\">\n",
       "  <thead>\n",
       "    <tr style=\"text-align: right;\">\n",
       "      <th></th>\n",
       "      <th>lk_gauss</th>\n",
       "      <th>lk_kde</th>\n",
       "      <th>num_bursts</th>\n",
       "    </tr>\n",
       "  </thead>\n",
       "  <tbody>\n",
       "    <tr>\n",
       "      <th>7d</th>\n",
       "      <td>0.10147</td>\n",
       "      <td>0.10546</td>\n",
       "      <td>1396.00</td>\n",
       "    </tr>\n",
       "    <tr>\n",
       "      <th>12d</th>\n",
       "      <td>0.10033</td>\n",
       "      <td>0.10084</td>\n",
       "      <td>722.00</td>\n",
       "    </tr>\n",
       "    <tr>\n",
       "      <th>17d</th>\n",
       "      <td>0.10501</td>\n",
       "      <td>0.10497</td>\n",
       "      <td>1045.00</td>\n",
       "    </tr>\n",
       "    <tr>\n",
       "      <th>22d</th>\n",
       "      <td>0.09727</td>\n",
       "      <td>0.08814</td>\n",
       "      <td>580.00</td>\n",
       "    </tr>\n",
       "    <tr>\n",
       "      <th>27d</th>\n",
       "      <td>0.08924</td>\n",
       "      <td>0.08672</td>\n",
       "      <td>401.00</td>\n",
       "    </tr>\n",
       "    <tr>\n",
       "      <th>mean</th>\n",
       "      <td>0.09866</td>\n",
       "      <td>0.09723</td>\n",
       "      <td>828.80</td>\n",
       "    </tr>\n",
       "    <tr>\n",
       "      <th>std</th>\n",
       "      <td>0.00595</td>\n",
       "      <td>0.00914</td>\n",
       "      <td>395.21</td>\n",
       "    </tr>\n",
       "  </tbody>\n",
       "</table>\n",
       "</div>"
      ],
      "text/plain": [
       "      lk_gauss   lk_kde  num_bursts\n",
       "7d     0.10147  0.10546     1396.00\n",
       "12d    0.10033  0.10084      722.00\n",
       "17d    0.10501  0.10497     1045.00\n",
       "22d    0.09727  0.08814      580.00\n",
       "27d    0.08924  0.08672      401.00\n",
       "mean   0.09866  0.09723      828.80\n",
       "std    0.00595  0.00914      395.21"
      ]
     },
     "execution_count": 14,
     "metadata": {},
     "output_type": "execute_result"
    }
   ],
   "source": [
    "table_to_save = lk_table.append(stats)\n",
    "table_to_save = table_to_save.round({'lk_gauss': 5, 'lk_kde': 5, 'num_bursts': 2})\n",
    "table_to_save"
   ]
  },
  {
   "cell_type": "code",
   "execution_count": 15,
   "metadata": {
    "collapsed": true
   },
   "outputs": [],
   "source": [
    "table_to_save.to_csv('results/table_usalex_5samples_leakage_coeff.csv')"
   ]
  },
  {
   "cell_type": "markdown",
   "metadata": {},
   "source": [
    "## Average coefficient"
   ]
  },
  {
   "cell_type": "code",
   "execution_count": 16,
   "metadata": {
    "collapsed": false
   },
   "outputs": [
    {
     "data": {
      "text/plain": [
       "'0.10029'"
      ]
     },
     "execution_count": 16,
     "metadata": {},
     "output_type": "execute_result"
    }
   ],
   "source": [
    "'%.5f' % k_m"
   ]
  },
  {
   "cell_type": "code",
   "execution_count": 17,
   "metadata": {
    "collapsed": false
   },
   "outputs": [],
   "source": [
    "with open('results/usALEX - leakage coefficient %s.csv' % bsearch_ph_sel, 'w') as f:\n",
    "    f.write('%.5f' % k_m)"
   ]
  }
 ],
 "metadata": {
  "anaconda-cloud": {},
  "kernelspec": {
   "display_name": "Python [default]",
   "language": "python",
   "name": "python3"
  },
  "language_info": {
   "codemirror_mode": {
    "name": "ipython",
    "version": 3
   },
   "file_extension": ".py",
   "mimetype": "text/x-python",
   "name": "python",
   "nbconvert_exporter": "python",
   "pygments_lexer": "ipython3",
   "version": "3.5.2"
  }
 },
 "nbformat": 4,
 "nbformat_minor": 0
}
