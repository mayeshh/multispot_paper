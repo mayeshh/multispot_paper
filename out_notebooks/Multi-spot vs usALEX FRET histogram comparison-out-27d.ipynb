{
 "cells": [
  {
   "cell_type": "markdown",
   "metadata": {},
   "source": [
    "**Executed:** Mon Mar 27 22:24:54 2017\n",
    "\n",
    "**Duration:** 11 seconds."
   ]
  },
  {
   "cell_type": "code",
   "execution_count": 1,
   "metadata": {
    "collapsed": true
   },
   "outputs": [],
   "source": [
    "data_id = '17d'"
   ]
  },
  {
   "cell_type": "code",
   "execution_count": 2,
   "metadata": {},
   "outputs": [],
   "source": [
    "ph_sel_name = \"None\""
   ]
  },
  {
   "cell_type": "code",
   "execution_count": 3,
   "metadata": {},
   "outputs": [],
   "source": [
    "data_id = \"27d\""
   ]
  },
  {
   "cell_type": "markdown",
   "metadata": {},
   "source": [
    "# Multi-spot vs usALEX FRET histogram comparison"
   ]
  },
  {
   "cell_type": "markdown",
   "metadata": {},
   "source": [
    "## Load FRETBursts software"
   ]
  },
  {
   "cell_type": "code",
   "execution_count": 4,
   "metadata": {
    "collapsed": false
   },
   "outputs": [
    {
     "name": "stdout",
     "output_type": "stream",
     "text": [
      " - Optimized (cython) burst search loaded.\n",
      " - Optimized (cython) photon counting loaded.\n"
     ]
    },
    {
     "name": "stdout",
     "output_type": "stream",
     "text": [
      "--------------------------------------------------------------\n",
      " You are running FRETBursts (version 0.5.9).\n",
      "\n",
      " If you use this software please cite the following paper:\n",
      "\n",
      "   FRETBursts: An Open Source Toolkit for Analysis of Freely-Diffusing Single-Molecule FRET\n",
      "   Ingargiola et al. (2016). http://dx.doi.org/10.1371/journal.pone.0160716 \n",
      "\n",
      "--------------------------------------------------------------\n"
     ]
    }
   ],
   "source": [
    "from fretbursts import *\n",
    "sns = init_notebook()"
   ]
  },
  {
   "cell_type": "code",
   "execution_count": 5,
   "metadata": {
    "collapsed": false
   },
   "outputs": [],
   "source": [
    "import os\n",
    "import pandas as pd\n",
    "from IPython.display import display, Math"
   ]
  },
  {
   "cell_type": "code",
   "execution_count": 6,
   "metadata": {
    "collapsed": false
   },
   "outputs": [
    {
     "name": "stdout",
     "output_type": "stream",
     "text": [
      "lmfit version: 0.9.5\n"
     ]
    }
   ],
   "source": [
    "import lmfit\n",
    "print('lmfit version:', lmfit.__version__)"
   ]
  },
  {
   "cell_type": "code",
   "execution_count": 7,
   "metadata": {
    "collapsed": true
   },
   "outputs": [],
   "source": [
    "figure_size = (5, 4)\n",
    "default_figure = lambda: plt.subplots(figsize=figure_size)\n",
    "save_figures = True\n",
    "\n",
    "def savefig(filename, **kwargs):\n",
    "    if not save_figures:\n",
    "        return\n",
    "    import os\n",
    "    dir_ = 'figures/'\n",
    "    kwargs_ = dict(dpi=300, bbox_inches='tight')\n",
    "                   #frameon=True, facecolor='white', transparent=False)\n",
    "    kwargs_.update(kwargs)\n",
    "    plt.savefig(dir_ + filename, **kwargs_)\n",
    "    print('Saved: %s' % (dir_ + filename))"
   ]
  },
  {
   "cell_type": "markdown",
   "metadata": {},
   "source": [
    "## 8-spot paper plot style"
   ]
  },
  {
   "cell_type": "code",
   "execution_count": 8,
   "metadata": {
    "collapsed": false
   },
   "outputs": [],
   "source": [
    "PLOT_DIR = './figure/'"
   ]
  },
  {
   "cell_type": "code",
   "execution_count": 9,
   "metadata": {
    "collapsed": false
   },
   "outputs": [
    {
     "data": {
      "image/png": "[encoded data removed]",
      "text/plain": [
       "<matplotlib.figure.Figure at 0x11d2482b0>"
      ]
     },
     "metadata": {},
     "output_type": "display_data"
    }
   ],
   "source": [
    "import matplotlib as mpl\n",
    "from cycler import cycler\n",
    "\n",
    "bmap = sns.color_palette(\"Set1\", 9)\n",
    "colors = np.array(bmap)[(1,0,2,3,4,8,6,7), :]\n",
    "mpl.rcParams['axes.prop_cycle'] = cycler('color', colors)\n",
    "colors_labels = ['blue', 'red', 'green', 'violet', 'orange', 'gray', 'brown', 'pink', ]\n",
    "for c, cl in zip(colors, colors_labels):\n",
    "    locals()[cl] = tuple(c) # assign variables with color names\n",
    "sns.palplot(colors)"
   ]
  },
  {
   "cell_type": "markdown",
   "metadata": {},
   "source": [
    "## Data files"
   ]
  },
  {
   "cell_type": "markdown",
   "metadata": {},
   "source": [
    "Data folder:"
   ]
  },
  {
   "cell_type": "code",
   "execution_count": 10,
   "metadata": {
    "collapsed": false
   },
   "outputs": [],
   "source": [
    "data_dir = './data/multispot/'"
   ]
  },
  {
   "cell_type": "markdown",
   "metadata": {},
   "source": [
    "Check that the folder exists:"
   ]
  },
  {
   "cell_type": "code",
   "execution_count": 11,
   "metadata": {
    "collapsed": false
   },
   "outputs": [],
   "source": [
    "data_dir = os.path.abspath(data_dir) + '/'\n",
    "assert os.path.exists(data_dir), \"Path '%s' does not exist.\" % data_dir"
   ]
  },
  {
   "cell_type": "markdown",
   "metadata": {},
   "source": [
    "List of data files in `data_dir`:"
   ]
  },
  {
   "cell_type": "code",
   "execution_count": 12,
   "metadata": {
    "collapsed": false
   },
   "outputs": [],
   "source": [
    "from glob import glob\n",
    "file_list = sorted(glob(data_dir + '*_?.hdf5'))"
   ]
  },
  {
   "cell_type": "code",
   "execution_count": 13,
   "metadata": {
    "collapsed": false
   },
   "outputs": [
    {
     "data": {
      "text/plain": [
       "{'12d': '/Users/anto/Google Drive/notebooks/multispot_paper/data/multispot/12d_New_30p_320mW_steer_3.hdf5',\n",
       " '17d': '/Users/anto/Google Drive/notebooks/multispot_paper/data/multispot/17d_100p_320mW_steer_1.hdf5',\n",
       " '22d': '/Users/anto/Google Drive/notebooks/multispot_paper/data/multispot/22d_30p_320mW_steer_1.hdf5',\n",
       " '27d': '/Users/anto/Google Drive/notebooks/multispot_paper/data/multispot/27d_50p_320mW_steer_1.hdf5',\n",
       " '7d': '/Users/anto/Google Drive/notebooks/multispot_paper/data/multispot/7d_New_150p_320mW_steer_3.hdf5',\n",
       " 'DO': '/Users/anto/Google Drive/notebooks/multispot_paper/data/multispot/DO12_No2_50p_320mW_steer_1.hdf5'}"
      ]
     },
     "execution_count": 13,
     "metadata": {},
     "output_type": "execute_result"
    }
   ],
   "source": [
    "labels = ['12d', '7d', '17d', '22d', '27d', 'DO']\n",
    "files_dict = {lab: fname for lab, fname in zip(sorted(labels), file_list)}\n",
    "files_dict"
   ]
  },
  {
   "cell_type": "markdown",
   "metadata": {},
   "source": [
    "## Correction parameters"
   ]
  },
  {
   "cell_type": "markdown",
   "metadata": {},
   "source": [
    "### Multispot"
   ]
  },
  {
   "cell_type": "markdown",
   "metadata": {},
   "source": [
    "Load the **multispot leakage coefficient** from disk (computed in [Multi-spot 5-Samples analyis - Leakage coefficient fit](Multi-spot 5-Samples analyis - Leakage coefficient fit.ipynb)):"
   ]
  },
  {
   "cell_type": "code",
   "execution_count": 14,
   "metadata": {
    "collapsed": false
   },
   "outputs": [
    {
     "name": "stdout",
     "output_type": "stream",
     "text": [
      "Leakage coefficient: [ 0.0334]\n"
     ]
    }
   ],
   "source": [
    "_fname = 'results/Multi-spot - leakage coefficient KDE wmean DexDem.csv'\n",
    "leakageM = np.loadtxt(_fname, ndmin=1)\n",
    "\n",
    "print('Leakage coefficient:', leakageM)"
   ]
  },
  {
   "cell_type": "markdown",
   "metadata": {},
   "source": [
    "Load the **multispot direct excitation coefficient** ($d_{dirT}$) from disk (computed in [usALEX - Corrections - Direct excitation physical parameter](usALEX - Corrections - Direct excitation physical parameter.ipynb)):"
   ]
  },
  {
   "cell_type": "code",
   "execution_count": 15,
   "metadata": {
    "collapsed": false
   },
   "outputs": [
    {
     "name": "stdout",
     "output_type": "stream",
     "text": [
      "Direct excitation coefficient (dir_ex_t): [ 0.04932]\n"
     ]
    }
   ],
   "source": [
    "_fname = 'results/usALEX - direct excitation coefficient dir_ex_t beta.csv'\n",
    "dir_ex_tM = np.loadtxt(_fname, ndmin=1)\n",
    "\n",
    "print('Direct excitation coefficient (dir_ex_t):', dir_ex_tM)"
   ]
  },
  {
   "cell_type": "markdown",
   "metadata": {},
   "source": [
    "Load the **multispot gamma** ($\\gamma_M$) coefficient (computed in [Multi-spot Gamma Fitting](Multi-spot Gamma Fitting.ipynb)):"
   ]
  },
  {
   "cell_type": "code",
   "execution_count": 16,
   "metadata": {
    "collapsed": false
   },
   "outputs": [
    {
     "name": "stdout",
     "output_type": "stream",
     "text": [
      "Multispot gamma coefficient: [ 0.45525]\n"
     ]
    }
   ],
   "source": [
    "_fname = 'results/Multi-spot - gamma factor.csv'\n",
    "gammaM = np.loadtxt(_fname, ndmin=1)\n",
    "\n",
    "print('Multispot gamma coefficient:', gammaM)"
   ]
  },
  {
   "cell_type": "markdown",
   "metadata": {},
   "source": [
    "### usALEX"
   ]
  },
  {
   "cell_type": "markdown",
   "metadata": {},
   "source": [
    "Load the **usALEX leakage coefficient** from disk (computed in [usALEX - Corrections - Leakage fit](usALEX - Corrections - Leakage fit.ipynb)):"
   ]
  },
  {
   "cell_type": "code",
   "execution_count": 17,
   "metadata": {
    "collapsed": false
   },
   "outputs": [
    {
     "name": "stdout",
     "output_type": "stream",
     "text": [
      "usALEX Leakage coefficient: 0.10029\n"
     ]
    }
   ],
   "source": [
    "_fname = 'results/usALEX - leakage coefficient DexDem.csv'\n",
    "leakageA = np.loadtxt(_fname)\n",
    "\n",
    "print('usALEX Leakage coefficient:', leakageA)"
   ]
  },
  {
   "cell_type": "markdown",
   "metadata": {},
   "source": [
    "Load the **usALEX gamma coefficient** (computed in [usALEX - Corrections - Gamma factor fit](usALEX - Corrections - Gamma factor fit.ipynb)):"
   ]
  },
  {
   "cell_type": "code",
   "execution_count": 18,
   "metadata": {
    "collapsed": false
   },
   "outputs": [
    {
     "name": "stdout",
     "output_type": "stream",
     "text": [
      "usALEX Gamma-factor: 1.020526\n"
     ]
    }
   ],
   "source": [
    "_fname = 'results/usALEX - gamma factor - all-ph.csv'\n",
    "gammaA = np.loadtxt(_fname)\n",
    "\n",
    "print('usALEX Gamma-factor:', gammaA)"
   ]
  },
  {
   "cell_type": "markdown",
   "metadata": {},
   "source": [
    "Load the **usALEX beta coefficient** (computed in [usALEX - Corrections - Gamma factor fit](usALEX - Corrections - Gamma factor fit.ipynb)):"
   ]
  },
  {
   "cell_type": "code",
   "execution_count": 19,
   "metadata": {
    "collapsed": false
   },
   "outputs": [
    {
     "name": "stdout",
     "output_type": "stream",
     "text": [
      "usALEX Gamma-factor: 0.813553\n"
     ]
    }
   ],
   "source": [
    "_fname = 'results/usALEX - beta factor - all-ph.csv'\n",
    "betaA = np.loadtxt(_fname)\n",
    "\n",
    "print('usALEX Gamma-factor:', betaA)"
   ]
  },
  {
   "cell_type": "markdown",
   "metadata": {},
   "source": [
    "Load the **usALEX direct-excitation coefficient** ($d_{exAA}$) (computed in [usALEX - Corrections - Direct excitation fit](usALEX - Corrections - Direct excitation fit.ipynb)):"
   ]
  },
  {
   "cell_type": "code",
   "execution_count": 20,
   "metadata": {
    "collapsed": false
   },
   "outputs": [
    {
     "name": "stdout",
     "output_type": "stream",
     "text": [
      "Direct excitation coefficient (dir_ex_aa): 0.06062\n"
     ]
    }
   ],
   "source": [
    "_fname = 'results/usALEX - direct excitation coefficient dir_ex_aa.csv'\n",
    "dir_ex_aa = np.loadtxt(_fname)\n",
    "\n",
    "print('Direct excitation coefficient (dir_ex_aa):', dir_ex_aa)"
   ]
  },
  {
   "cell_type": "markdown",
   "metadata": {},
   "source": [
    "Compute **usALEX direct-excitation coefficient** ($d_{exT}$) (see [usALEX - Corrections - Direct excitation physical parameter](usALEX - Corrections - Direct excitation physical parameter.ipynb)):"
   ]
  },
  {
   "cell_type": "code",
   "execution_count": 21,
   "metadata": {
    "collapsed": false
   },
   "outputs": [
    {
     "data": {
      "text/plain": [
       "0.04931758286"
      ]
     },
     "execution_count": 21,
     "metadata": {},
     "output_type": "execute_result"
    }
   ],
   "source": [
    "dir_ex_tA = betaA * dir_ex_aa\n",
    "dir_ex_tA"
   ]
  },
  {
   "cell_type": "markdown",
   "metadata": {},
   "source": [
    "## Parameters"
   ]
  },
  {
   "cell_type": "markdown",
   "metadata": {},
   "source": [
    "Analysis parameters:"
   ]
  },
  {
   "cell_type": "code",
   "execution_count": 22,
   "metadata": {
    "collapsed": false
   },
   "outputs": [],
   "source": [
    "donor_ref = False    # False -> gamma correction is: g*nd + na\n",
    "                     # True  -> gamma correction is: nd + na/g\n",
    "\n",
    "hist_weights = 'size'\n",
    "\n",
    "## Background fit parameters\n",
    "bg_kwargs_auto = dict(fun=bg.exp_fit,\n",
    "                 time_s = 30,\n",
    "                 tail_min_us = 'auto',\n",
    "                 F_bg=1.7,\n",
    "                 )\n",
    "\n",
    "## Burst search\n",
    "F=6\n",
    "dither = False\n",
    "size_th = 30    # Burst size threshold (selection on corrected burst sizes)\n",
    "\n",
    "## FRET fit parameters\n",
    "bandwidth = 0.03        # KDE bandwidth\n",
    "E_range = {'7d':  (0.7, 1.0), '12d': (0.4, 0.8), '17d': (0.2, 0.4), \n",
    "           '22d': (0.0, 0.1), '27d': (0.0, 0.1), 'DO': (0.0, 0.1)}\n",
    "E_axis_kde = np.arange(-0.2, 1.2, 0.0002)"
   ]
  },
  {
   "cell_type": "markdown",
   "metadata": {},
   "source": [
    "## Utility functions"
   ]
  },
  {
   "cell_type": "code",
   "execution_count": 23,
   "metadata": {
    "collapsed": false
   },
   "outputs": [],
   "source": [
    "def print_fit_report(E_pr, gamma=1, leakage=0, dir_ex_t=0, math=True):\n",
    "    \"\"\"Print fit and standard deviation for both corrected and uncorrected E\n",
    "    Returns d.E_fit.\n",
    "    \"\"\"\n",
    "    E_corr = fretmath.correct_E_gamma_leak_dir(E_pr, gamma=gamma, leakage=leakage, dir_ex_t=dir_ex_t)\n",
    "    \n",
    "    E_pr_mean = E_pr.mean()*100\n",
    "    E_pr_delta = (E_pr.max() - E_pr.min())*100\n",
    "    \n",
    "    E_corr_mean = E_corr.mean()*100\n",
    "    E_corr_delta = (E_corr.max() - E_corr.min())*100\n",
    "    if math:\n",
    "        display(Math(r'\\text{Pre}\\;\\gamma\\quad\\langle{E}_{fit}\\rangle = %.1f\\%% \\qquad'\n",
    "                     '\\Delta E_{fit} = %.2f \\%%' % \\\n",
    "                     (E_pr_mean, E_pr_delta)))\n",
    "        display(Math(r'\\text{Post}\\;\\gamma\\quad\\langle{E}_{fit}\\rangle = %.1f\\%% \\qquad'\n",
    "                     '\\Delta E_{fit} = %.2f \\%%' % \\\n",
    "                     (E_corr_mean, E_corr_delta)))\n",
    "    else:\n",
    "        print('Pre-gamma  E (delta, mean):  %.2f  %.2f' % (E_pr_mean, E_pr_delta))\n",
    "        print('Post-gamma E (delta, mean):  %.2f  %.2f' % (E_corr_mean, E_corr_delta))"
   ]
  },
  {
   "cell_type": "markdown",
   "metadata": {},
   "source": [
    "# Multispot analysis"
   ]
  },
  {
   "cell_type": "code",
   "execution_count": 24,
   "metadata": {
    "collapsed": false
   },
   "outputs": [
    {
     "name": "stdout",
     "output_type": "stream",
     "text": [
      " - Calculating BG rates ... "
     ]
    },
    {
     "name": "stdout",
     "output_type": "stream",
     "text": [
      "[DONE]\n"
     ]
    },
    {
     "name": "stdout",
     "output_type": "stream",
     "text": [
      " - Performing burst search (verbose=False) ..."
     ]
    },
    {
     "name": "stdout",
     "output_type": "stream",
     "text": [
      "[DONE]\n"
     ]
    },
    {
     "name": "stdout",
     "output_type": "stream",
     "text": [
      " - Calculating burst periods ..."
     ]
    },
    {
     "name": "stdout",
     "output_type": "stream",
     "text": [
      "[DONE]\n"
     ]
    },
    {
     "name": "stdout",
     "output_type": "stream",
     "text": [
      " - Counting D and A ph and calculating FRET ... \n"
     ]
    },
    {
     "name": "stdout",
     "output_type": "stream",
     "text": [
      "   - Applying background correction.\n"
     ]
    },
    {
     "name": "stdout",
     "output_type": "stream",
     "text": [
      "   - Applying leakage correction.\n"
     ]
    },
    {
     "name": "stdout",
     "output_type": "stream",
     "text": [
      "   [DONE Counting D/A]\n"
     ]
    }
   ],
   "source": [
    "d = loader.photon_hdf5(files_dict[data_id])\n",
    "d.calc_bg(**bg_kwargs_auto)\n",
    "d.burst_search(m=10, F=F, dither=dither)"
   ]
  },
  {
   "cell_type": "code",
   "execution_count": 25,
   "metadata": {
    "collapsed": false
   },
   "outputs": [
    {
     "data": {
      "text/plain": [
       "240.58136351249999"
      ]
     },
     "execution_count": 25,
     "metadata": {},
     "output_type": "execute_result"
    }
   ],
   "source": [
    "d.time_max"
   ]
  },
  {
   "cell_type": "code",
   "execution_count": 26,
   "metadata": {
    "collapsed": false
   },
   "outputs": [],
   "source": [
    "ds = Sel(d, select_bursts.size, th1=30, gamma=gammaM, donor_ref=donor_ref)"
   ]
  },
  {
   "cell_type": "code",
   "execution_count": 27,
   "metadata": {
    "collapsed": false
   },
   "outputs": [
    {
     "data": {
      "text/plain": [
       "array([ 661,  461,  770,  956,  961,  652,  968, 1069])"
      ]
     },
     "execution_count": 27,
     "metadata": {},
     "output_type": "execute_result"
    }
   ],
   "source": [
    "ds.num_bursts"
   ]
  },
  {
   "cell_type": "code",
   "execution_count": 28,
   "metadata": {
    "collapsed": false
   },
   "outputs": [],
   "source": [
    "# fitter = bext.bursts_fitter(ds)\n",
    "# fitter.histogram(bins=np.r_[-0.2 : 1.2 : bandwidth])\n",
    "# fitter.model = mfit.factory_two_gaussians(add_bridge=False, p2_center=0.4)\n",
    "# fitter.fit_histogram()\n",
    "# display(fitter.params['p2_center'])\n",
    "# print_fit_report(fitter.params['p2_center'], gamma=gammaM, leakage=leakageM, dir_ex_t=dir_ex_tM)"
   ]
  },
  {
   "cell_type": "code",
   "execution_count": 29,
   "metadata": {
    "collapsed": false
   },
   "outputs": [
    {
     "data": {
      "image/png": "[encoded data removed]",
      "text/plain": [
       "<matplotlib.figure.Figure at 0x11d2488d0>"
      ]
     },
     "metadata": {},
     "output_type": "display_data"
    }
   ],
   "source": [
    "dplot(ds, hist_fret);\n",
    "      #show_model=True, show_fit_stats=True, fit_from='p2_center', show_fit_value=True);"
   ]
  },
  {
   "cell_type": "code",
   "execution_count": 30,
   "metadata": {
    "collapsed": true
   },
   "outputs": [],
   "source": [
    "d_all = ds.collapse()"
   ]
  },
  {
   "cell_type": "code",
   "execution_count": 31,
   "metadata": {
    "collapsed": false
   },
   "outputs": [],
   "source": [
    "d_all_chunk = Sel(d_all, select_bursts.time, time_s2=600/8)"
   ]
  },
  {
   "cell_type": "code",
   "execution_count": 32,
   "metadata": {
    "collapsed": false
   },
   "outputs": [
    {
     "data": {
      "text/plain": [
       "<matplotlib.axes._subplots.AxesSubplot at 0x12a7b1a58>"
      ]
     },
     "execution_count": 32,
     "metadata": {},
     "output_type": "execute_result"
    },
    {
     "data": {
      "image/png": "[encoded data removed]",
      "text/plain": [
       "<matplotlib.figure.Figure at 0x11d2487f0>"
      ]
     },
     "metadata": {},
     "output_type": "display_data"
    }
   ],
   "source": [
    "dplot(d_all_chunk, hist_fret)"
   ]
  },
  {
   "cell_type": "code",
   "execution_count": 33,
   "metadata": {
    "collapsed": false
   },
   "outputs": [],
   "source": [
    "Eraw = d_all_chunk.E[0]"
   ]
  },
  {
   "cell_type": "code",
   "execution_count": 34,
   "metadata": {
    "collapsed": false
   },
   "outputs": [],
   "source": [
    "E = fretmath.correct_E_gamma_leak_dir(Eraw, gamma=gammaM, leakage=leakageM, dir_ex_t=dir_ex_tM)"
   ]
  },
  {
   "cell_type": "code",
   "execution_count": 35,
   "metadata": {
    "collapsed": false
   },
   "outputs": [],
   "source": [
    "sns.set_style('whitegrid')\n",
    "%config InlineBackend.figure_format='retina'  # for hi-dpi displays"
   ]
  },
  {
   "cell_type": "code",
   "execution_count": 36,
   "metadata": {
    "collapsed": false
   },
   "outputs": [
    {
     "data": {
      "image/png": "[encoded data removed]",
      "text/plain": [
       "<matplotlib.figure.Figure at 0x12adb9240>"
      ]
     },
     "metadata": {
      "image/png": {
       "height": 311,
       "width": 450
      }
     },
     "output_type": "display_data"
    }
   ],
   "source": [
    "plt.hist(E, bins=np.arange(-0.2, 1.2, 0.025) + 0.5*0.025);"
   ]
  },
  {
   "cell_type": "markdown",
   "metadata": {},
   "source": [
    "# Comparison with usALEX"
   ]
  },
  {
   "cell_type": "code",
   "execution_count": 37,
   "metadata": {
    "collapsed": false
   },
   "outputs": [
    {
     "data": {
      "text/html": [
       "<div>\n",
       "<table border=\"1\" class=\"dataframe\">\n",
       "  <thead>\n",
       "    <tr style=\"text-align: right;\">\n",
       "      <th></th>\n",
       "      <th>E</th>\n",
       "      <th>S</th>\n",
       "      <th>bg_a</th>\n",
       "      <th>bg_aa</th>\n",
       "      <th>bg_d</th>\n",
       "      <th>bp</th>\n",
       "      <th>i_end</th>\n",
       "      <th>i_start</th>\n",
       "      <th>na</th>\n",
       "      <th>naa</th>\n",
       "      <th>nd</th>\n",
       "      <th>nda</th>\n",
       "      <th>nt</th>\n",
       "      <th>size_raw</th>\n",
       "      <th>t_end</th>\n",
       "      <th>t_start</th>\n",
       "      <th>width_ms</th>\n",
       "    </tr>\n",
       "  </thead>\n",
       "  <tbody>\n",
       "    <tr>\n",
       "      <th>0</th>\n",
       "      <td>0.172691</td>\n",
       "      <td>0.651955</td>\n",
       "      <td>1.527</td>\n",
       "      <td>1.714</td>\n",
       "      <td>2.616</td>\n",
       "      <td>0</td>\n",
       "      <td>164</td>\n",
       "      <td>75</td>\n",
       "      <td>9.473</td>\n",
       "      <td>29.286</td>\n",
       "      <td>45.384</td>\n",
       "      <td>-0.122</td>\n",
       "      <td>84.143</td>\n",
       "      <td>90</td>\n",
       "      <td>0.017848</td>\n",
       "      <td>0.016198</td>\n",
       "      <td>1.6503</td>\n",
       "    </tr>\n",
       "    <tr>\n",
       "      <th>1</th>\n",
       "      <td>0.222366</td>\n",
       "      <td>0.576628</td>\n",
       "      <td>1.108</td>\n",
       "      <td>1.245</td>\n",
       "      <td>1.899</td>\n",
       "      <td>0</td>\n",
       "      <td>300</td>\n",
       "      <td>243</td>\n",
       "      <td>6.892</td>\n",
       "      <td>22.755</td>\n",
       "      <td>24.101</td>\n",
       "      <td>-0.089</td>\n",
       "      <td>53.748</td>\n",
       "      <td>58</td>\n",
       "      <td>0.032448</td>\n",
       "      <td>0.031250</td>\n",
       "      <td>1.1980</td>\n",
       "    </tr>\n",
       "    <tr>\n",
       "      <th>2</th>\n",
       "      <td>0.168874</td>\n",
       "      <td>0.656955</td>\n",
       "      <td>0.788</td>\n",
       "      <td>0.885</td>\n",
       "      <td>1.351</td>\n",
       "      <td>0</td>\n",
       "      <td>943</td>\n",
       "      <td>894</td>\n",
       "      <td>5.212</td>\n",
       "      <td>16.115</td>\n",
       "      <td>25.649</td>\n",
       "      <td>-0.063</td>\n",
       "      <td>46.975</td>\n",
       "      <td>50</td>\n",
       "      <td>0.156156</td>\n",
       "      <td>0.155304</td>\n",
       "      <td>0.8523</td>\n",
       "    </tr>\n",
       "    <tr>\n",
       "      <th>3</th>\n",
       "      <td>0.209234</td>\n",
       "      <td>0.976805</td>\n",
       "      <td>1.623</td>\n",
       "      <td>1.822</td>\n",
       "      <td>2.781</td>\n",
       "      <td>0</td>\n",
       "      <td>2014</td>\n",
       "      <td>1958</td>\n",
       "      <td>10.377</td>\n",
       "      <td>1.178</td>\n",
       "      <td>39.219</td>\n",
       "      <td>-0.130</td>\n",
       "      <td>50.774</td>\n",
       "      <td>57</td>\n",
       "      <td>0.391293</td>\n",
       "      <td>0.389539</td>\n",
       "      <td>1.7541</td>\n",
       "    </tr>\n",
       "    <tr>\n",
       "      <th>4</th>\n",
       "      <td>0.169271</td>\n",
       "      <td>0.841937</td>\n",
       "      <td>1.305</td>\n",
       "      <td>1.466</td>\n",
       "      <td>2.237</td>\n",
       "      <td>0</td>\n",
       "      <td>2165</td>\n",
       "      <td>2106</td>\n",
       "      <td>7.695</td>\n",
       "      <td>8.534</td>\n",
       "      <td>37.763</td>\n",
       "      <td>0.896</td>\n",
       "      <td>53.992</td>\n",
       "      <td>60</td>\n",
       "      <td>0.413848</td>\n",
       "      <td>0.412438</td>\n",
       "      <td>1.4110</td>\n",
       "    </tr>\n",
       "    <tr>\n",
       "      <th>...</th>\n",
       "      <td>...</td>\n",
       "      <td>...</td>\n",
       "      <td>...</td>\n",
       "      <td>...</td>\n",
       "      <td>...</td>\n",
       "      <td>...</td>\n",
       "      <td>...</td>\n",
       "      <td>...</td>\n",
       "      <td>...</td>\n",
       "      <td>...</td>\n",
       "      <td>...</td>\n",
       "      <td>...</td>\n",
       "      <td>...</td>\n",
       "      <td>...</td>\n",
       "      <td>...</td>\n",
       "      <td>...</td>\n",
       "      <td>...</td>\n",
       "    </tr>\n",
       "    <tr>\n",
       "      <th>1141</th>\n",
       "      <td>0.183996</td>\n",
       "      <td>0.665764</td>\n",
       "      <td>1.114</td>\n",
       "      <td>1.213</td>\n",
       "      <td>1.463</td>\n",
       "      <td>9</td>\n",
       "      <td>2519718</td>\n",
       "      <td>2519659</td>\n",
       "      <td>6.886</td>\n",
       "      <td>18.787</td>\n",
       "      <td>30.537</td>\n",
       "      <td>-0.079</td>\n",
       "      <td>56.210</td>\n",
       "      <td>60</td>\n",
       "      <td>597.023500</td>\n",
       "      <td>597.022241</td>\n",
       "      <td>1.2588</td>\n",
       "    </tr>\n",
       "    <tr>\n",
       "      <th>1142</th>\n",
       "      <td>0.182155</td>\n",
       "      <td>0.523423</td>\n",
       "      <td>0.765</td>\n",
       "      <td>0.832</td>\n",
       "      <td>1.004</td>\n",
       "      <td>9</td>\n",
       "      <td>2525236</td>\n",
       "      <td>2525168</td>\n",
       "      <td>6.235</td>\n",
       "      <td>31.168</td>\n",
       "      <td>27.996</td>\n",
       "      <td>0.946</td>\n",
       "      <td>65.400</td>\n",
       "      <td>69</td>\n",
       "      <td>598.571455</td>\n",
       "      <td>598.570591</td>\n",
       "      <td>0.8636</td>\n",
       "    </tr>\n",
       "    <tr>\n",
       "      <th>1143</th>\n",
       "      <td>0.111234</td>\n",
       "      <td>0.826744</td>\n",
       "      <td>1.638</td>\n",
       "      <td>1.783</td>\n",
       "      <td>2.151</td>\n",
       "      <td>9</td>\n",
       "      <td>2526133</td>\n",
       "      <td>2526081</td>\n",
       "      <td>4.362</td>\n",
       "      <td>8.217</td>\n",
       "      <td>34.849</td>\n",
       "      <td>-0.116</td>\n",
       "      <td>47.428</td>\n",
       "      <td>53</td>\n",
       "      <td>598.804400</td>\n",
       "      <td>598.802550</td>\n",
       "      <td>1.8508</td>\n",
       "    </tr>\n",
       "    <tr>\n",
       "      <th>1144</th>\n",
       "      <td>0.170014</td>\n",
       "      <td>0.618538</td>\n",
       "      <td>1.977</td>\n",
       "      <td>2.151</td>\n",
       "      <td>2.595</td>\n",
       "      <td>9</td>\n",
       "      <td>2526262</td>\n",
       "      <td>2526198</td>\n",
       "      <td>6.023</td>\n",
       "      <td>21.849</td>\n",
       "      <td>29.405</td>\n",
       "      <td>0.860</td>\n",
       "      <td>57.277</td>\n",
       "      <td>65</td>\n",
       "      <td>598.819936</td>\n",
       "      <td>598.817703</td>\n",
       "      <td>2.2328</td>\n",
       "    </tr>\n",
       "    <tr>\n",
       "      <th>1145</th>\n",
       "      <td>0.237974</td>\n",
       "      <td>0.513851</td>\n",
       "      <td>1.284</td>\n",
       "      <td>1.397</td>\n",
       "      <td>1.686</td>\n",
       "      <td>9</td>\n",
       "      <td>2527475</td>\n",
       "      <td>2527383</td>\n",
       "      <td>10.716</td>\n",
       "      <td>42.603</td>\n",
       "      <td>34.314</td>\n",
       "      <td>0.909</td>\n",
       "      <td>87.634</td>\n",
       "      <td>93</td>\n",
       "      <td>599.082750</td>\n",
       "      <td>599.081300</td>\n",
       "      <td>1.4502</td>\n",
       "    </tr>\n",
       "  </tbody>\n",
       "</table>\n",
       "<p>1146 rows × 17 columns</p>\n",
       "</div>"
      ],
      "text/plain": [
       "             E         S   bg_a  bg_aa   bg_d  bp    i_end  i_start      na  \\\n",
       "0     0.172691  0.651955  1.527  1.714  2.616   0      164       75   9.473   \n",
       "1     0.222366  0.576628  1.108  1.245  1.899   0      300      243   6.892   \n",
       "2     0.168874  0.656955  0.788  0.885  1.351   0      943      894   5.212   \n",
       "3     0.209234  0.976805  1.623  1.822  2.781   0     2014     1958  10.377   \n",
       "4     0.169271  0.841937  1.305  1.466  2.237   0     2165     2106   7.695   \n",
       "...        ...       ...    ...    ...    ...  ..      ...      ...     ...   \n",
       "1141  0.183996  0.665764  1.114  1.213  1.463   9  2519718  2519659   6.886   \n",
       "1142  0.182155  0.523423  0.765  0.832  1.004   9  2525236  2525168   6.235   \n",
       "1143  0.111234  0.826744  1.638  1.783  2.151   9  2526133  2526081   4.362   \n",
       "1144  0.170014  0.618538  1.977  2.151  2.595   9  2526262  2526198   6.023   \n",
       "1145  0.237974  0.513851  1.284  1.397  1.686   9  2527475  2527383  10.716   \n",
       "\n",
       "         naa      nd    nda      nt  size_raw       t_end     t_start  \\\n",
       "0     29.286  45.384 -0.122  84.143        90    0.017848    0.016198   \n",
       "1     22.755  24.101 -0.089  53.748        58    0.032448    0.031250   \n",
       "2     16.115  25.649 -0.063  46.975        50    0.156156    0.155304   \n",
       "3      1.178  39.219 -0.130  50.774        57    0.391293    0.389539   \n",
       "4      8.534  37.763  0.896  53.992        60    0.413848    0.412438   \n",
       "...      ...     ...    ...     ...       ...         ...         ...   \n",
       "1141  18.787  30.537 -0.079  56.210        60  597.023500  597.022241   \n",
       "1142  31.168  27.996  0.946  65.400        69  598.571455  598.570591   \n",
       "1143   8.217  34.849 -0.116  47.428        53  598.804400  598.802550   \n",
       "1144  21.849  29.405  0.860  57.277        65  598.819936  598.817703   \n",
       "1145  42.603  34.314  0.909  87.634        93  599.082750  599.081300   \n",
       "\n",
       "      width_ms  \n",
       "0       1.6503  \n",
       "1       1.1980  \n",
       "2       0.8523  \n",
       "3       1.7541  \n",
       "4       1.4110  \n",
       "...        ...  \n",
       "1141    1.2588  \n",
       "1142    0.8636  \n",
       "1143    1.8508  \n",
       "1144    2.2328  \n",
       "1145    1.4502  \n",
       "\n",
       "[1146 rows x 17 columns]"
      ]
     },
     "execution_count": 37,
     "metadata": {},
     "output_type": "execute_result"
    }
   ],
   "source": [
    "bursts_usalex = pd.read_csv('results/bursts_usALEX_{sample}_{ph_sel}_F{F:.1f}_m{m}_size{th}.csv'\n",
    "                            .format(sample=data_id, ph_sel='Dex', m=10, th=30, F=7), index_col=0)\n",
    "bursts_usalex"
   ]
  },
  {
   "cell_type": "code",
   "execution_count": 38,
   "metadata": {
    "collapsed": true
   },
   "outputs": [],
   "source": [
    "Eraw_alex = bursts_usalex.E"
   ]
  },
  {
   "cell_type": "code",
   "execution_count": 39,
   "metadata": {
    "collapsed": true
   },
   "outputs": [],
   "source": [
    "E_alex = fretmath.correct_E_gamma_leak_dir(Eraw_alex, gamma=gammaA, leakage=leakageA, dir_ex_t=dir_ex_tA)"
   ]
  },
  {
   "cell_type": "code",
   "execution_count": 40,
   "metadata": {
    "collapsed": false
   },
   "outputs": [
    {
     "name": "stdout",
     "output_type": "stream",
     "text": [
      "Saved: figures/Multispot vs usALEX FRET hist comp sample 27d\n"
     ]
    },
    {
     "data": {
      "image/png": "[encoded data removed]",
      "text/plain": [
       "<matplotlib.figure.Figure at 0x12acc1be0>"
      ]
     },
     "metadata": {
      "image/png": {
       "height": 334,
       "width": 464
      }
     },
     "output_type": "display_data"
    }
   ],
   "source": [
    "kws = dict(bins=np.arange(-0.2, 1.2, 0.025) + 0.5*0.025, histtype='step', lw=1.8)\n",
    "plt.hist(E, label='Multispot', **kws)\n",
    "plt.hist(E_alex, label='μs-ALEX', **kws)\n",
    "plt.legend(loc=2)\n",
    "plt.title('Sample %s: Multispot vs μs-ALEX comparison' % data_id)\n",
    "plt.xlabel('FRET Efficiency')\n",
    "plt.ylabel('# Bursts');\n",
    "savefig('Multispot vs usALEX FRET hist comp sample %s' % data_id)"
   ]
  },
  {
   "cell_type": "code",
   "execution_count": 41,
   "metadata": {
    "collapsed": false
   },
   "outputs": [
    {
     "name": "stdout",
     "output_type": "stream",
     "text": [
      "Saved: figures/Multispot vs usALEX FRET hist comp sample 27d normed\n"
     ]
    },
    {
     "data": {
      "image/png": "[encoded data removed]",
      "text/plain": [
       "<matplotlib.figure.Figure at 0x12acd38d0>"
      ]
     },
     "metadata": {
      "image/png": {
       "height": 334,
       "width": 451
      }
     },
     "output_type": "display_data"
    }
   ],
   "source": [
    "kws = dict(bins=np.arange(-0.2, 1.2, 0.025) + 0.5*0.025, histtype='step', lw=1.8, normed=True)\n",
    "plt.hist(E, label='Multispot', **kws)\n",
    "plt.hist(E_alex, label='μs-ALEX', **kws)\n",
    "plt.legend(loc=2)\n",
    "plt.title('Sample %s: Multispot vs μs-ALEX comparison' % data_id)\n",
    "plt.xlabel('FRET Efficiency')\n",
    "plt.ylabel('Probabiltity');\n",
    "savefig('Multispot vs usALEX FRET hist comp sample %s normed' % data_id)"
   ]
  },
  {
   "cell_type": "code",
   "execution_count": 42,
   "metadata": {
    "collapsed": true
   },
   "outputs": [],
   "source": []
  }
 ],
 "metadata": {
  "anaconda-cloud": {},
  "kernelspec": {
   "display_name": "Python [default]",
   "language": "python",
   "name": "python3"
  },
  "language_info": {
   "codemirror_mode": {
    "name": "ipython",
    "version": 3
   },
   "file_extension": ".py",
   "mimetype": "text/x-python",
   "name": "python",
   "nbconvert_exporter": "python",
   "pygments_lexer": "ipython3",
   "version": "3.5.2"
  }
 },
 "nbformat": 4,
 "nbformat_minor": 0
}
