{
 "cells": [
  {
   "cell_type": "markdown",
   "metadata": {},
   "source": [
    "**Executed:** Sat Mar 25 17:50:16 2017\n",
    "\n",
    "**Duration:** 10 seconds."
   ]
  },
  {
   "cell_type": "markdown",
   "metadata": {},
   "source": [
    "# usALEX-5samples - Template\n",
    "\n",
    "> *This notebook is executed through [8-spots paper analysis](8-spots paper analysis.ipynb).*\n",
    "> *For a direct execution, uncomment the cell below.*"
   ]
  },
  {
   "cell_type": "code",
   "execution_count": 1,
   "metadata": {},
   "outputs": [],
   "source": [
    "ph_sel_name = \"DexDem\""
   ]
  },
  {
   "cell_type": "code",
   "execution_count": 2,
   "metadata": {},
   "outputs": [],
   "source": [
    "data_id = \"7d\""
   ]
  },
  {
   "cell_type": "code",
   "execution_count": 3,
   "metadata": {
    "collapsed": true
   },
   "outputs": [],
   "source": [
    "# ph_sel_name = \"all-ph\"\n",
    "# data_id = \"7d\""
   ]
  },
  {
   "cell_type": "markdown",
   "metadata": {},
   "source": [
    "## Load software and filenames definitions"
   ]
  },
  {
   "cell_type": "code",
   "execution_count": 4,
   "metadata": {
    "collapsed": false
   },
   "outputs": [
    {
     "name": "stdout",
     "output_type": "stream",
     "text": [
      " - Optimized (cython) burst search loaded.\n",
      " - Optimized (cython) photon counting loaded.\n"
     ]
    },
    {
     "name": "stdout",
     "output_type": "stream",
     "text": [
      "--------------------------------------------------------------\n",
      " You are running FRETBursts (version 0.5.9).\n",
      "\n",
      " If you use this software please cite the following paper:\n",
      "\n",
      "   FRETBursts: An Open Source Toolkit for Analysis of Freely-Diffusing Single-Molecule FRET\n",
      "   Ingargiola et al. (2016). http://dx.doi.org/10.1371/journal.pone.0160716 \n",
      "\n",
      "--------------------------------------------------------------\n"
     ]
    }
   ],
   "source": [
    "from fretbursts import *"
   ]
  },
  {
   "cell_type": "code",
   "execution_count": 5,
   "metadata": {
    "collapsed": false
   },
   "outputs": [],
   "source": [
    "init_notebook()\n",
    "from IPython.display import display"
   ]
  },
  {
   "cell_type": "markdown",
   "metadata": {},
   "source": [
    "Data folder:"
   ]
  },
  {
   "cell_type": "code",
   "execution_count": 6,
   "metadata": {
    "collapsed": false
   },
   "outputs": [],
   "source": [
    "data_dir = './data/singlespot/'"
   ]
  },
  {
   "cell_type": "code",
   "execution_count": 7,
   "metadata": {
    "collapsed": false
   },
   "outputs": [],
   "source": [
    "import os\n",
    "data_dir = os.path.abspath(data_dir) + '/'\n",
    "assert os.path.exists(data_dir), \"Path '%s' does not exist.\" % data_dir"
   ]
  },
  {
   "cell_type": "markdown",
   "metadata": {},
   "source": [
    "List of data files:"
   ]
  },
  {
   "cell_type": "code",
   "execution_count": 8,
   "metadata": {
    "collapsed": false
   },
   "outputs": [
    {
     "data": {
      "text/plain": [
       "{'12d': '/Users/anto/Google Drive/notebooks/multispot_paper/data/singlespot/007_dsDNA_12d_3nM_green100u_red40u.hdf5',\n",
       " '17d': '/Users/anto/Google Drive/notebooks/multispot_paper/data/singlespot/004_dsDNA_17d_green100u_red40u.hdf5',\n",
       " '22d': '/Users/anto/Google Drive/notebooks/multispot_paper/data/singlespot/008_dsDNA_22d_500pM_green100u_red40u.hdf5',\n",
       " '27d': '/Users/anto/Google Drive/notebooks/multispot_paper/data/singlespot/005_dsDNA_27d_green100u_red40u.hdf5',\n",
       " '7d': '/Users/anto/Google Drive/notebooks/multispot_paper/data/singlespot/006_dsDNA_7d_green100u_red40u.hdf5'}"
      ]
     },
     "execution_count": 8,
     "metadata": {},
     "output_type": "execute_result"
    }
   ],
   "source": [
    "from glob import glob\n",
    "file_list = sorted(f for f in glob(data_dir + '*.hdf5') if '_BKG' not in f)\n",
    "## Selection for POLIMI 2012-11-26 datatset\n",
    "labels = ['17d', '27d', '7d', '12d', '22d']\n",
    "files_dict = {lab: fname for lab, fname in zip(labels, file_list)}\n",
    "files_dict"
   ]
  },
  {
   "cell_type": "code",
   "execution_count": 9,
   "metadata": {
    "collapsed": false
   },
   "outputs": [
    {
     "data": {
      "text/plain": [
       "('7d', 'DexDem')"
      ]
     },
     "execution_count": 9,
     "metadata": {},
     "output_type": "execute_result"
    }
   ],
   "source": [
    "ph_sel_map = {'all-ph': Ph_sel('all'), 'Dex': Ph_sel(Dex='DAem'), \n",
    "              'DexDem': Ph_sel(Dex='Dem')}\n",
    "ph_sel = ph_sel_map[ph_sel_name]\n",
    "\n",
    "data_id, ph_sel_name"
   ]
  },
  {
   "cell_type": "markdown",
   "metadata": {},
   "source": [
    "## Data load"
   ]
  },
  {
   "cell_type": "markdown",
   "metadata": {},
   "source": [
    "Initial loading of the data:"
   ]
  },
  {
   "cell_type": "code",
   "execution_count": 10,
   "metadata": {
    "collapsed": false
   },
   "outputs": [],
   "source": [
    "d = loader.photon_hdf5(filename=files_dict[data_id])"
   ]
  },
  {
   "cell_type": "markdown",
   "metadata": {},
   "source": [
    "## Laser alternation selection\n",
    "\n",
    "At this point we have only the timestamps and the detector numbers:"
   ]
  },
  {
   "cell_type": "code",
   "execution_count": 11,
   "metadata": {
    "collapsed": false
   },
   "outputs": [
    {
     "data": {
      "text/plain": [
       "([array([       9160,       41823,       50082, ..., 47999946859,\n",
       "         47999946992, 47999965526])],\n",
       " [array([1, 1, 1, ..., 1, 1, 1], dtype=uint32)])"
      ]
     },
     "execution_count": 11,
     "metadata": {},
     "output_type": "execute_result"
    }
   ],
   "source": [
    "d.ph_times_t, d.det_t"
   ]
  },
  {
   "cell_type": "markdown",
   "metadata": {},
   "source": [
    "We need to define some parameters: donor and acceptor ch, excitation period and donor and acceptor excitiations:"
   ]
  },
  {
   "cell_type": "code",
   "execution_count": 12,
   "metadata": {
    "collapsed": false
   },
   "outputs": [],
   "source": [
    "d.add(det_donor_accept=(0, 1), alex_period=4000, D_ON=(2850, 580), A_ON=(900, 2580), offset=0)"
   ]
  },
  {
   "cell_type": "markdown",
   "metadata": {},
   "source": [
    "We should check if everithing is OK with an alternation histogram:"
   ]
  },
  {
   "cell_type": "code",
   "execution_count": 13,
   "metadata": {
    "collapsed": false
   },
   "outputs": [
    {
     "data": {
      "image/png": "[encoded data removed]",
      "text/plain": [
       "<matplotlib.figure.Figure at 0x117729c18>"
      ]
     },
     "metadata": {},
     "output_type": "display_data"
    }
   ],
   "source": [
    "plot_alternation_hist(d)"
   ]
  },
  {
   "cell_type": "markdown",
   "metadata": {},
   "source": [
    "If the plot looks good we can apply the parameters with:"
   ]
  },
  {
   "cell_type": "code",
   "execution_count": 14,
   "metadata": {
    "collapsed": false
   },
   "outputs": [
    {
     "name": "stdout",
     "output_type": "stream",
     "text": [
      "# Total photons (after ALEX selection):   1,908,788\n",
      "#  D  photons in D+A excitation periods:    460,011\n",
      "#  A  photons in D+A excitation periods:  1,448,777\n",
      "# D+A photons in  D  excitation period:   1,184,061\n",
      "# D+A photons in  A  excitation period:     724,727\n",
      "\n"
     ]
    }
   ],
   "source": [
    "loader.alex_apply_period(d)"
   ]
  },
  {
   "cell_type": "markdown",
   "metadata": {},
   "source": [
    "## Measurements infos"
   ]
  },
  {
   "cell_type": "markdown",
   "metadata": {},
   "source": [
    "All the measurement data is in the `d` variable. We can print it:"
   ]
  },
  {
   "cell_type": "code",
   "execution_count": 15,
   "metadata": {
    "collapsed": false
   },
   "outputs": [
    {
     "data": {
      "text/plain": [
       "singlespot_006_dsDNA_7d_green100u_red40u G1.000"
      ]
     },
     "execution_count": 15,
     "metadata": {},
     "output_type": "execute_result"
    }
   ],
   "source": [
    "d"
   ]
  },
  {
   "cell_type": "markdown",
   "metadata": {},
   "source": [
    "Or check the **measurements duration**:"
   ]
  },
  {
   "cell_type": "code",
   "execution_count": 16,
   "metadata": {
    "collapsed": false
   },
   "outputs": [
    {
     "data": {
      "text/plain": [
       "599.99956907499995"
      ]
     },
     "execution_count": 16,
     "metadata": {},
     "output_type": "execute_result"
    }
   ],
   "source": [
    "d.time_max"
   ]
  },
  {
   "cell_type": "markdown",
   "metadata": {},
   "source": [
    "## Compute background"
   ]
  },
  {
   "cell_type": "markdown",
   "metadata": {},
   "source": [
    "Compute the background using automatic threshold:"
   ]
  },
  {
   "cell_type": "code",
   "execution_count": 17,
   "metadata": {
    "collapsed": false
   },
   "outputs": [
    {
     "name": "stdout",
     "output_type": "stream",
     "text": [
      " - Calculating BG rates ... "
     ]
    },
    {
     "name": "stdout",
     "output_type": "stream",
     "text": [
      "[DONE]\n"
     ]
    }
   ],
   "source": [
    "d.calc_bg(bg.exp_fit, time_s=60, tail_min_us='auto', F_bg=1.7)"
   ]
  },
  {
   "cell_type": "code",
   "execution_count": 18,
   "metadata": {
    "collapsed": false
   },
   "outputs": [
    {
     "data": {
      "text/plain": [
       "<matplotlib.axes._subplots.AxesSubplot at 0x11f5f53c8>"
      ]
     },
     "execution_count": 18,
     "metadata": {},
     "output_type": "execute_result"
    },
    {
     "data": {
      "image/png": "[encoded data removed]",
      "text/plain": [
       "<matplotlib.figure.Figure at 0x117729ac8>"
      ]
     },
     "metadata": {},
     "output_type": "display_data"
    }
   ],
   "source": [
    "dplot(d, timetrace_bg)"
   ]
  },
  {
   "cell_type": "code",
   "execution_count": 19,
   "metadata": {
    "collapsed": false
   },
   "outputs": [
    {
     "data": {
      "text/plain": [
       "([2404.1400743119511],\n",
       " [448.71348324995768],\n",
       " [1073.6547953772968],\n",
       " [825.61595905215745])"
      ]
     },
     "execution_count": 19,
     "metadata": {},
     "output_type": "execute_result"
    }
   ],
   "source": [
    "d.rate_m, d.rate_dd, d.rate_ad, d.rate_aa"
   ]
  },
  {
   "cell_type": "markdown",
   "metadata": {},
   "source": [
    "# Burst search and selection"
   ]
  },
  {
   "cell_type": "code",
   "execution_count": 20,
   "metadata": {
    "collapsed": false
   },
   "outputs": [
    {
     "name": "stdout",
     "output_type": "stream",
     "text": [
      " - Performing burst search (verbose=False) ..."
     ]
    },
    {
     "name": "stdout",
     "output_type": "stream",
     "text": [
      " - Recomputing background limits for DexDem ... "
     ]
    },
    {
     "name": "stdout",
     "output_type": "stream",
     "text": [
      "[DONE]\n"
     ]
    },
    {
     "name": "stdout",
     "output_type": "stream",
     "text": [
      " - Recomputing background limits for all ... "
     ]
    },
    {
     "name": "stdout",
     "output_type": "stream",
     "text": [
      "[DONE]\n"
     ]
    },
    {
     "name": "stdout",
     "output_type": "stream",
     "text": [
      " - Fixing  burst data to refer to ph_times_m ... "
     ]
    },
    {
     "name": "stdout",
     "output_type": "stream",
     "text": [
      "[DONE]\n"
     ]
    },
    {
     "name": "stdout",
     "output_type": "stream",
     "text": [
      "[DONE]\n"
     ]
    },
    {
     "name": "stdout",
     "output_type": "stream",
     "text": [
      " - Calculating burst periods ..."
     ]
    },
    {
     "name": "stdout",
     "output_type": "stream",
     "text": [
      "[DONE]\n"
     ]
    },
    {
     "name": "stdout",
     "output_type": "stream",
     "text": [
      " - Counting D and A ph and calculating FRET ... \n"
     ]
    },
    {
     "name": "stdout",
     "output_type": "stream",
     "text": [
      "   - Applying background correction.\n"
     ]
    },
    {
     "name": "stdout",
     "output_type": "stream",
     "text": [
      "   - Applying leakage correction.\n"
     ]
    },
    {
     "name": "stdout",
     "output_type": "stream",
     "text": [
      "   - Applying direct excitation correction.\n"
     ]
    },
    {
     "name": "stdout",
     "output_type": "stream",
     "text": [
      "   [DONE Counting D/A]\n"
     ]
    }
   ],
   "source": [
    "bs_kws = dict(L=10, m=10, F=7, ph_sel=ph_sel)\n",
    "d.burst_search(**bs_kws)"
   ]
  },
  {
   "cell_type": "code",
   "execution_count": 21,
   "metadata": {
    "collapsed": true
   },
   "outputs": [],
   "source": [
    "th1 = 30\n",
    "ds = d.select_bursts(select_bursts.size, th1=30)"
   ]
  },
  {
   "cell_type": "code",
   "execution_count": 22,
   "metadata": {
    "collapsed": false
   },
   "outputs": [],
   "source": [
    "bursts = (bext.burst_data(ds, include_bg=True, include_ph_index=True)\n",
    "          .round({'E': 6, 'S': 6, 'bg_d': 3, 'bg_a': 3, 'bg_aa': 3, 'nd': 3, 'na': 3, 'naa': 3, 'nda': 3, 'nt': 3, 'width_ms': 4}))"
   ]
  },
  {
   "cell_type": "code",
   "execution_count": 23,
   "metadata": {
    "collapsed": false
   },
   "outputs": [
    {
     "data": {
      "text/html": [
       "<div>\n",
       "<table border=\"1\" class=\"dataframe\">\n",
       "  <thead>\n",
       "    <tr style=\"text-align: right;\">\n",
       "      <th></th>\n",
       "      <th>E</th>\n",
       "      <th>S</th>\n",
       "      <th>bg_a</th>\n",
       "      <th>bg_aa</th>\n",
       "      <th>bg_d</th>\n",
       "      <th>bp</th>\n",
       "      <th>i_end</th>\n",
       "      <th>i_start</th>\n",
       "      <th>na</th>\n",
       "      <th>naa</th>\n",
       "      <th>nd</th>\n",
       "      <th>nda</th>\n",
       "      <th>nt</th>\n",
       "      <th>size_raw</th>\n",
       "      <th>t_end</th>\n",
       "      <th>t_start</th>\n",
       "      <th>width_ms</th>\n",
       "    </tr>\n",
       "  </thead>\n",
       "  <tbody>\n",
       "    <tr>\n",
       "      <th>0</th>\n",
       "      <td>0.194780</td>\n",
       "      <td>1.009127</td>\n",
       "      <td>3.060</td>\n",
       "      <td>2.369</td>\n",
       "      <td>1.178</td>\n",
       "      <td>0</td>\n",
       "      <td>330</td>\n",
       "      <td>284</td>\n",
       "      <td>7.940</td>\n",
       "      <td>-0.369</td>\n",
       "      <td>32.822</td>\n",
       "      <td>-0.115</td>\n",
       "      <td>40.393</td>\n",
       "      <td>47</td>\n",
       "      <td>0.072737</td>\n",
       "      <td>0.069991</td>\n",
       "      <td>2.7463</td>\n",
       "    </tr>\n",
       "    <tr>\n",
       "      <th>1</th>\n",
       "      <td>0.219548</td>\n",
       "      <td>1.051160</td>\n",
       "      <td>7.357</td>\n",
       "      <td>5.694</td>\n",
       "      <td>2.832</td>\n",
       "      <td>0</td>\n",
       "      <td>379</td>\n",
       "      <td>330</td>\n",
       "      <td>7.643</td>\n",
       "      <td>-1.694</td>\n",
       "      <td>27.168</td>\n",
       "      <td>0.723</td>\n",
       "      <td>33.116</td>\n",
       "      <td>50</td>\n",
       "      <td>0.079339</td>\n",
       "      <td>0.072737</td>\n",
       "      <td>6.6020</td>\n",
       "    </tr>\n",
       "    <tr>\n",
       "      <th>2</th>\n",
       "      <td>0.089233</td>\n",
       "      <td>0.925082</td>\n",
       "      <td>7.358</td>\n",
       "      <td>5.695</td>\n",
       "      <td>2.832</td>\n",
       "      <td>0</td>\n",
       "      <td>466</td>\n",
       "      <td>406</td>\n",
       "      <td>3.642</td>\n",
       "      <td>3.305</td>\n",
       "      <td>37.168</td>\n",
       "      <td>0.723</td>\n",
       "      <td>44.114</td>\n",
       "      <td>61</td>\n",
       "      <td>0.095656</td>\n",
       "      <td>0.089053</td>\n",
       "      <td>6.6030</td>\n",
       "    </tr>\n",
       "    <tr>\n",
       "      <th>3</th>\n",
       "      <td>0.148516</td>\n",
       "      <td>0.940817</td>\n",
       "      <td>8.862</td>\n",
       "      <td>6.859</td>\n",
       "      <td>3.411</td>\n",
       "      <td>0</td>\n",
       "      <td>876</td>\n",
       "      <td>771</td>\n",
       "      <td>12.138</td>\n",
       "      <td>5.141</td>\n",
       "      <td>69.589</td>\n",
       "      <td>-0.333</td>\n",
       "      <td>86.868</td>\n",
       "      <td>106</td>\n",
       "      <td>0.212902</td>\n",
       "      <td>0.204950</td>\n",
       "      <td>7.9524</td>\n",
       "    </tr>\n",
       "    <tr>\n",
       "      <th>4</th>\n",
       "      <td>0.115107</td>\n",
       "      <td>1.016702</td>\n",
       "      <td>11.529</td>\n",
       "      <td>8.923</td>\n",
       "      <td>4.438</td>\n",
       "      <td>0</td>\n",
       "      <td>1175</td>\n",
       "      <td>1035</td>\n",
       "      <td>13.471</td>\n",
       "      <td>-1.923</td>\n",
       "      <td>103.562</td>\n",
       "      <td>0.566</td>\n",
       "      <td>115.111</td>\n",
       "      <td>141</td>\n",
       "      <td>0.270800</td>\n",
       "      <td>0.260455</td>\n",
       "      <td>10.3450</td>\n",
       "    </tr>\n",
       "  </tbody>\n",
       "</table>\n",
       "</div>"
      ],
      "text/plain": [
       "          E         S    bg_a  bg_aa   bg_d  bp  i_end  i_start      na  \\\n",
       "0  0.194780  1.009127   3.060  2.369  1.178   0    330      284   7.940   \n",
       "1  0.219548  1.051160   7.357  5.694  2.832   0    379      330   7.643   \n",
       "2  0.089233  0.925082   7.358  5.695  2.832   0    466      406   3.642   \n",
       "3  0.148516  0.940817   8.862  6.859  3.411   0    876      771  12.138   \n",
       "4  0.115107  1.016702  11.529  8.923  4.438   0   1175     1035  13.471   \n",
       "\n",
       "     naa       nd    nda       nt  size_raw     t_end   t_start  width_ms  \n",
       "0 -0.369   32.822 -0.115   40.393        47  0.072737  0.069991    2.7463  \n",
       "1 -1.694   27.168  0.723   33.116        50  0.079339  0.072737    6.6020  \n",
       "2  3.305   37.168  0.723   44.114        61  0.095656  0.089053    6.6030  \n",
       "3  5.141   69.589 -0.333   86.868       106  0.212902  0.204950    7.9524  \n",
       "4 -1.923  103.562  0.566  115.111       141  0.270800  0.260455   10.3450  "
      ]
     },
     "execution_count": 23,
     "metadata": {},
     "output_type": "execute_result"
    }
   ],
   "source": [
    "bursts.head()"
   ]
  },
  {
   "cell_type": "code",
   "execution_count": 24,
   "metadata": {
    "collapsed": false
   },
   "outputs": [
    {
     "data": {
      "text/plain": [
       "'results/bursts_usALEX_7d_DexDem_F7.0_m10_size30.csv'"
      ]
     },
     "execution_count": 24,
     "metadata": {},
     "output_type": "execute_result"
    }
   ],
   "source": [
    "burst_fname = ('results/bursts_usALEX_{sample}_{ph_sel}_F{F:.1f}_m{m}_size{th}.csv'\n",
    "               .format(sample=data_id, th=th1, **bs_kws))\n",
    "burst_fname"
   ]
  },
  {
   "cell_type": "code",
   "execution_count": 25,
   "metadata": {
    "collapsed": true
   },
   "outputs": [],
   "source": [
    "bursts.to_csv(burst_fname)"
   ]
  },
  {
   "cell_type": "code",
   "execution_count": 26,
   "metadata": {
    "collapsed": false
   },
   "outputs": [],
   "source": [
    "assert d.dir_ex == 0\n",
    "assert d.leakage == 0"
   ]
  },
  {
   "cell_type": "code",
   "execution_count": 27,
   "metadata": {
    "collapsed": false
   },
   "outputs": [
    {
     "name": "stdout",
     "output_type": "stream",
     "text": [
      "DexDem\n"
     ]
    },
    {
     "data": {
      "image/png": "[encoded data removed]",
      "text/plain": [
       "<matplotlib.figure.Figure at 0x119678ac8>"
      ]
     },
     "metadata": {},
     "output_type": "display_data"
    }
   ],
   "source": [
    "print(d.ph_sel)\n",
    "dplot(d, hist_fret);"
   ]
  },
  {
   "cell_type": "code",
   "execution_count": 28,
   "metadata": {
    "collapsed": false
   },
   "outputs": [],
   "source": [
    "# if data_id in ['7d', '27d']:\n",
    "#     ds = d.select_bursts(select_bursts.size, th1=20)\n",
    "# else:\n",
    "#     ds = d.select_bursts(select_bursts.size, th1=30)"
   ]
  },
  {
   "cell_type": "code",
   "execution_count": 29,
   "metadata": {
    "collapsed": false
   },
   "outputs": [],
   "source": [
    "ds = d.select_bursts(select_bursts.size, add_naa=False, th1=30)"
   ]
  },
  {
   "cell_type": "code",
   "execution_count": 30,
   "metadata": {
    "collapsed": false
   },
   "outputs": [],
   "source": [
    "n_bursts_all = ds.num_bursts[0]"
   ]
  },
  {
   "cell_type": "code",
   "execution_count": 31,
   "metadata": {
    "collapsed": false
   },
   "outputs": [],
   "source": [
    "def select_and_plot_ES(fret_sel, do_sel):\n",
    "    ds_fret= ds.select_bursts(select_bursts.ES, **fret_sel)\n",
    "    ds_do = ds.select_bursts(select_bursts.ES, **do_sel)\n",
    "    bpl.plot_ES_selection(ax, **fret_sel)\n",
    "    bpl.plot_ES_selection(ax, **do_sel)    \n",
    "    return ds_fret, ds_do"
   ]
  },
  {
   "cell_type": "code",
   "execution_count": 32,
   "metadata": {
    "collapsed": false
   },
   "outputs": [
    {
     "data": {
      "image/png": "[encoded data removed]",
      "text/plain": [
       "<matplotlib.figure.Figure at 0x104443128>"
      ]
     },
     "metadata": {},
     "output_type": "display_data"
    }
   ],
   "source": [
    "ax = dplot(ds, hist2d_alex, S_max_norm=2, scatter_alpha=0.1)\n",
    "\n",
    "if data_id == '7d':\n",
    "    fret_sel = dict(E1=0.60, E2=1.2, S1=0.2, S2=0.9, rect=False)\n",
    "    do_sel = dict(E1=-0.2, E2=0.5, S1=0.8, S2=2, rect=True)    \n",
    "    ds_fret, ds_do = select_and_plot_ES(fret_sel, do_sel)\n",
    "    \n",
    "elif data_id == '12d':\n",
    "    fret_sel = dict(E1=0.30,E2=1.2,S1=0.131,S2=0.9, rect=False)\n",
    "    do_sel = dict(E1=-0.4, E2=0.4, S1=0.8, S2=2, rect=False)\n",
    "    ds_fret, ds_do = select_and_plot_ES(fret_sel, do_sel)\n",
    "\n",
    "elif data_id == '17d':\n",
    "    fret_sel = dict(E1=0.01, E2=0.98, S1=0.14, S2=0.88, rect=False)\n",
    "    do_sel = dict(E1=-0.4, E2=0.4, S1=0.80, S2=2, rect=False)\n",
    "    ds_fret, ds_do = select_and_plot_ES(fret_sel, do_sel)\n",
    "\n",
    "elif data_id == '22d':\n",
    "    fret_sel = dict(E1=-0.16, E2=0.6, S1=0.2, S2=0.80, rect=False)\n",
    "    do_sel = dict(E1=-0.2, E2=0.4, S1=0.85, S2=2, rect=True)\n",
    "    ds_fret, ds_do = select_and_plot_ES(fret_sel, do_sel)    \n",
    "\n",
    "elif data_id == '27d':\n",
    "    fret_sel = dict(E1=-0.1, E2=0.5, S1=0.2, S2=0.82, rect=False)\n",
    "    do_sel = dict(E1=-0.2, E2=0.4, S1=0.88, S2=2, rect=True)\n",
    "    ds_fret, ds_do = select_and_plot_ES(fret_sel, do_sel)    "
   ]
  },
  {
   "cell_type": "code",
   "execution_count": 33,
   "metadata": {
    "collapsed": false
   },
   "outputs": [
    {
     "data": {
      "text/plain": [
       "(1396, 151)"
      ]
     },
     "execution_count": 33,
     "metadata": {},
     "output_type": "execute_result"
    }
   ],
   "source": [
    "n_bursts_do = ds_do.num_bursts[0]\n",
    "n_bursts_fret = ds_fret.num_bursts[0]\n",
    "\n",
    "n_bursts_do, n_bursts_fret"
   ]
  },
  {
   "cell_type": "code",
   "execution_count": 34,
   "metadata": {
    "collapsed": false
   },
   "outputs": [
    {
     "name": "stdout",
     "output_type": "stream",
     "text": [
      "D-only fraction: 0.902391725921\n"
     ]
    }
   ],
   "source": [
    "d_only_frac = 1.*n_bursts_do/(n_bursts_do + n_bursts_fret)\n",
    "print ('D-only fraction:', d_only_frac)"
   ]
  },
  {
   "cell_type": "code",
   "execution_count": 35,
   "metadata": {
    "collapsed": false
   },
   "outputs": [
    {
     "data": {
      "image/png": "[encoded data removed]",
      "text/plain": [
       "<matplotlib.figure.Figure at 0x113291d30>"
      ]
     },
     "metadata": {},
     "output_type": "display_data"
    }
   ],
   "source": [
    "dplot(ds_fret, hist2d_alex, scatter_alpha=0.1);"
   ]
  },
  {
   "cell_type": "code",
   "execution_count": 36,
   "metadata": {
    "collapsed": false
   },
   "outputs": [
    {
     "data": {
      "image/png": "[encoded data removed]",
      "text/plain": [
       "<matplotlib.figure.Figure at 0x11dba7ef0>"
      ]
     },
     "metadata": {},
     "output_type": "display_data"
    }
   ],
   "source": [
    "dplot(ds_do, hist2d_alex, S_max_norm=2, scatter=False);"
   ]
  },
  {
   "cell_type": "markdown",
   "metadata": {},
   "source": [
    "# Donor Leakage fit"
   ]
  },
  {
   "cell_type": "markdown",
   "metadata": {},
   "source": [
    "## Half-Sample Mode\n",
    "\n",
    "Fit peak usng the mode computed with the half-sample algorithm ([Bickel 2005](http://arxiv.org/abs/math/0505419))."
   ]
  },
  {
   "cell_type": "code",
   "execution_count": 37,
   "metadata": {
    "collapsed": true
   },
   "outputs": [],
   "source": [
    "def hsm_mode(s):\n",
    "    \"\"\"\n",
    "    Half-sample mode (HSM) estimator of `s`.\n",
    "\n",
    "    `s` is a sample from a continuous distribution with a single peak.\n",
    "    \n",
    "    Reference:\n",
    "        Bickel, Fruehwirth (2005). arXiv:math/0505419\n",
    "    \"\"\"\n",
    "    s = memoryview(np.sort(s))\n",
    "    i1 = 0\n",
    "    i2 = len(s)\n",
    "\n",
    "    while i2 - i1 > 3:\n",
    "        n = (i2 - i1) // 2\n",
    "        w = [s[n-1+i+i1] - s[i+i1] for i in range(n)]\n",
    "        i1 = w.index(min(w)) + i1\n",
    "        i2 = i1 + n\n",
    "\n",
    "    if i2 - i1 == 3:\n",
    "        if s[i1+1] - s[i1] < s[i2] - s[i1 + 1]:\n",
    "            i2 -= 1\n",
    "        elif s[i1+1] - s[i1] > s[i2] - s[i1 + 1]:\n",
    "            i1 += 1\n",
    "        else:\n",
    "            i1 = i2 = i1 + 1\n",
    "\n",
    "    return 0.5*(s[i1] + s[i2])"
   ]
  },
  {
   "cell_type": "code",
   "execution_count": 38,
   "metadata": {
    "collapsed": false
   },
   "outputs": [
    {
     "name": "stdout",
     "output_type": "stream",
     "text": [
      "DexDem: E_peak(HSM) = 8.38%\n"
     ]
    }
   ],
   "source": [
    "E_pr_do_hsm = hsm_mode(ds_do.E[0])\n",
    "print (\"%s: E_peak(HSM) = %.2f%%\" % (ds.ph_sel, E_pr_do_hsm*100))"
   ]
  },
  {
   "cell_type": "markdown",
   "metadata": {},
   "source": [
    "## Gaussian Fit\n",
    "\n",
    "Fit the histogram with a gaussian:"
   ]
  },
  {
   "cell_type": "code",
   "execution_count": 39,
   "metadata": {
    "collapsed": false
   },
   "outputs": [],
   "source": [
    "E_fitter = bext.bursts_fitter(ds_do, weights=None)\n",
    "E_fitter.histogram(bins=np.arange(-0.2, 1, 0.03))"
   ]
  },
  {
   "cell_type": "code",
   "execution_count": 40,
   "metadata": {
    "collapsed": false
   },
   "outputs": [
    {
     "data": {
      "text/html": [
       "<div>\n",
       "<table border=\"1\" class=\"dataframe\">\n",
       "  <thead>\n",
       "    <tr style=\"text-align: right;\">\n",
       "      <th></th>\n",
       "      <th>amplitude</th>\n",
       "      <th>center</th>\n",
       "      <th>sigma</th>\n",
       "    </tr>\n",
       "  </thead>\n",
       "  <tbody>\n",
       "    <tr>\n",
       "      <th>0</th>\n",
       "      <td>0.945421</td>\n",
       "      <td>0.0921204</td>\n",
       "      <td>0.0662592</td>\n",
       "    </tr>\n",
       "  </tbody>\n",
       "</table>\n",
       "</div>"
      ],
      "text/plain": [
       "  amplitude     center      sigma\n",
       "0  0.945421  0.0921204  0.0662592"
      ]
     },
     "execution_count": 40,
     "metadata": {},
     "output_type": "execute_result"
    }
   ],
   "source": [
    "E_fitter.fit_histogram(model=mfit.factory_gaussian())\n",
    "E_fitter.params"
   ]
  },
  {
   "cell_type": "code",
   "execution_count": 41,
   "metadata": {
    "collapsed": false
   },
   "outputs": [
    {
     "name": "stdout",
     "output_type": "stream",
     "text": [
      "Name          Value      Min      Max   Stderr     Vary     Expr\n",
      "amplitude    0.9454     -inf      inf  0.02018     True     None\n",
      "center      0.09212       -1        2 0.001633     True     None\n",
      "fwhm          0.156     -inf      inf 0.003846    False 2.3548200*sigma\n",
      "height        5.692     -inf      inf   0.1215    False 0.3989423*amplitude/max(1.e-15, sigma)\n",
      "sigma       0.06626        0      inf 0.001633     True     None\n"
     ]
    }
   ],
   "source": [
    "res = E_fitter.fit_res[0]\n",
    "res.params.pretty_print()"
   ]
  },
  {
   "cell_type": "code",
   "execution_count": 42,
   "metadata": {
    "collapsed": false
   },
   "outputs": [
    {
     "data": {
      "text/plain": [
       "0.09212043039850126"
      ]
     },
     "execution_count": 42,
     "metadata": {},
     "output_type": "execute_result"
    }
   ],
   "source": [
    "E_pr_do_gauss = res.best_values['center']\n",
    "E_pr_do_gauss"
   ]
  },
  {
   "cell_type": "markdown",
   "metadata": {},
   "source": [
    "## KDE maximum"
   ]
  },
  {
   "cell_type": "code",
   "execution_count": 43,
   "metadata": {
    "collapsed": false
   },
   "outputs": [
    {
     "data": {
      "text/plain": [
       "0.095400000000008423"
      ]
     },
     "execution_count": 43,
     "metadata": {},
     "output_type": "execute_result"
    }
   ],
   "source": [
    "bandwidth = 0.03\n",
    "E_range_do = (-0.1, 0.15)\n",
    "E_ax = np.r_[-0.2:0.401:0.0002]\n",
    "\n",
    "E_fitter.calc_kde(bandwidth=bandwidth)\n",
    "E_fitter.find_kde_max(E_ax, xmin=E_range_do[0], xmax=E_range_do[1])\n",
    "E_pr_do_kde = E_fitter.kde_max_pos[0]\n",
    "E_pr_do_kde"
   ]
  },
  {
   "cell_type": "markdown",
   "metadata": {},
   "source": [
    "## Leakage summary"
   ]
  },
  {
   "cell_type": "code",
   "execution_count": 44,
   "metadata": {
    "collapsed": false
   },
   "outputs": [
    {
     "name": "stdout",
     "output_type": "stream",
     "text": [
      "Gauss: 9.21%\n",
      "  KDE: 9.54%\n",
      "  HSM: 8.38%\n"
     ]
    },
    {
     "data": {
      "image/png": "[encoded data removed]",
      "text/plain": [
       "<matplotlib.figure.Figure at 0x11ded0da0>"
      ]
     },
     "metadata": {},
     "output_type": "display_data"
    }
   ],
   "source": [
    "mfit.plot_mfit(ds_do.E_fitter, plot_kde=True, plot_model=False)\n",
    "plt.axvline(E_pr_do_hsm, color='m', label='HSM')\n",
    "plt.axvline(E_pr_do_gauss, color='k', label='Gauss')\n",
    "plt.axvline(E_pr_do_kde, color='r', label='KDE')\n",
    "plt.xlim(0, 0.3)\n",
    "plt.legend()\n",
    "print('Gauss: %.2f%%\\n  KDE: %.2f%%\\n  HSM: %.2f%%' % \n",
    "      (E_pr_do_gauss*100, E_pr_do_kde*100, E_pr_do_hsm*100))"
   ]
  },
  {
   "cell_type": "markdown",
   "metadata": {},
   "source": [
    "# Burst size distribution"
   ]
  },
  {
   "cell_type": "code",
   "execution_count": 45,
   "metadata": {
    "collapsed": false
   },
   "outputs": [],
   "source": [
    "nt_th1 = 50"
   ]
  },
  {
   "cell_type": "code",
   "execution_count": 46,
   "metadata": {
    "collapsed": false
   },
   "outputs": [
    {
     "data": {
      "text/plain": [
       "<matplotlib.lines.Line2D at 0x11e24de48>"
      ]
     },
     "execution_count": 46,
     "metadata": {},
     "output_type": "execute_result"
    },
    {
     "data": {
      "image/png": "[encoded data removed]",
      "text/plain": [
       "<matplotlib.figure.Figure at 0x11e19ad30>"
      ]
     },
     "metadata": {},
     "output_type": "display_data"
    }
   ],
   "source": [
    "dplot(ds_fret, hist_size, which='all', add_naa=False)\n",
    "xlim(-0, 250)\n",
    "plt.axvline(nt_th1)"
   ]
  },
  {
   "cell_type": "code",
   "execution_count": 47,
   "metadata": {
    "collapsed": false
   },
   "outputs": [],
   "source": [
    "Th_nt = np.arange(35, 120)\n",
    "nt_th = np.zeros(Th_nt.size)\n",
    "for i, th in enumerate(Th_nt):\n",
    "    ds_nt = ds_fret.select_bursts(select_bursts.size, th1=th)\n",
    "    nt_th[i] = (ds_nt.nd[0]  + ds_nt.na[0]).mean() - th"
   ]
  },
  {
   "cell_type": "code",
   "execution_count": 48,
   "metadata": {
    "collapsed": false
   },
   "outputs": [
    {
     "data": {
      "text/plain": [
       "<matplotlib.lines.Line2D at 0x11dbbdb70>"
      ]
     },
     "execution_count": 48,
     "metadata": {},
     "output_type": "execute_result"
    },
    {
     "data": {
      "image/png": "[encoded data removed]",
      "text/plain": [
       "<matplotlib.figure.Figure at 0x11df157b8>"
      ]
     },
     "metadata": {},
     "output_type": "display_data"
    }
   ],
   "source": [
    "plt.figure()\n",
    "plot(Th_nt, nt_th)\n",
    "plt.axvline(nt_th1)"
   ]
  },
  {
   "cell_type": "code",
   "execution_count": 49,
   "metadata": {
    "collapsed": false
   },
   "outputs": [
    {
     "data": {
      "text/plain": [
       "28.148236763238913"
      ]
     },
     "execution_count": 49,
     "metadata": {},
     "output_type": "execute_result"
    }
   ],
   "source": [
    "nt_mean = nt_th[np.where(Th_nt == nt_th1)][0]\n",
    "nt_mean"
   ]
  },
  {
   "cell_type": "markdown",
   "metadata": {},
   "source": [
    "# Fret fit"
   ]
  },
  {
   "cell_type": "markdown",
   "metadata": {},
   "source": [
    "Max position of the Kernel Density Estimation (KDE):"
   ]
  },
  {
   "cell_type": "code",
   "execution_count": 50,
   "metadata": {
    "collapsed": false
   },
   "outputs": [],
   "source": [
    "E_pr_fret_kde = bext.fit_bursts_kde_peak(ds_fret, bandwidth=bandwidth, weights='size')\n",
    "E_fitter = ds_fret.E_fitter"
   ]
  },
  {
   "cell_type": "code",
   "execution_count": 51,
   "metadata": {
    "collapsed": false
   },
   "outputs": [],
   "source": [
    "E_fitter.histogram(bins=np.r_[-0.1:1.1:0.03])"
   ]
  },
  {
   "cell_type": "code",
   "execution_count": 52,
   "metadata": {
    "collapsed": false
   },
   "outputs": [],
   "source": [
    "E_fitter.fit_histogram(mfit.factory_gaussian(center=0.5))"
   ]
  },
  {
   "cell_type": "code",
   "execution_count": 53,
   "metadata": {
    "collapsed": false
   },
   "outputs": [
    {
     "data": {
      "text/html": [
       "<div>\n",
       "<table border=\"1\" class=\"dataframe\">\n",
       "  <thead>\n",
       "    <tr style=\"text-align: right;\">\n",
       "      <th></th>\n",
       "      <th>amplitude</th>\n",
       "      <th>center</th>\n",
       "      <th>sigma</th>\n",
       "    </tr>\n",
       "  </thead>\n",
       "  <tbody>\n",
       "    <tr>\n",
       "      <th>0</th>\n",
       "      <td>103.869</td>\n",
       "      <td>79.5435</td>\n",
       "      <td>8.98118</td>\n",
       "    </tr>\n",
       "  </tbody>\n",
       "</table>\n",
       "</div>"
      ],
      "text/plain": [
       "  amplitude   center    sigma\n",
       "0   103.869  79.5435  8.98118"
      ]
     },
     "metadata": {},
     "output_type": "display_data"
    }
   ],
   "source": [
    "display(E_fitter.params*100)"
   ]
  },
  {
   "cell_type": "code",
   "execution_count": 54,
   "metadata": {
    "collapsed": false
   },
   "outputs": [
    {
     "name": "stdout",
     "output_type": "stream",
     "text": [
      "DexDem\n",
      "KDE peak 84.30 \n"
     ]
    },
    {
     "data": {
      "text/html": [
       "<div>\n",
       "<table border=\"1\" class=\"dataframe\">\n",
       "  <thead>\n",
       "    <tr style=\"text-align: right;\">\n",
       "      <th></th>\n",
       "      <th>amplitude</th>\n",
       "      <th>center</th>\n",
       "      <th>sigma</th>\n",
       "    </tr>\n",
       "  </thead>\n",
       "  <tbody>\n",
       "    <tr>\n",
       "      <th>0</th>\n",
       "      <td>103.869</td>\n",
       "      <td>79.5435</td>\n",
       "      <td>8.98118</td>\n",
       "    </tr>\n",
       "  </tbody>\n",
       "</table>\n",
       "</div>"
      ],
      "text/plain": [
       "  amplitude   center    sigma\n",
       "0   103.869  79.5435  8.98118"
      ]
     },
     "metadata": {},
     "output_type": "display_data"
    },
    {
     "data": {
      "image/png": "[encoded data removed]",
      "text/plain": [
       "<matplotlib.figure.Figure at 0x1132b2d68>"
      ]
     },
     "metadata": {},
     "output_type": "display_data"
    }
   ],
   "source": [
    "fig, ax = plt.subplots(1, 2, figsize=(14, 4.5))\n",
    "mfit.plot_mfit(E_fitter, ax=ax[0])\n",
    "mfit.plot_mfit(E_fitter, plot_model=False, plot_kde=True, ax=ax[1])\n",
    "print ('%s\\nKDE peak %.2f ' % (ds_fret.ph_sel, E_pr_fret_kde*100))\n",
    "display(E_fitter.params*100)"
   ]
  },
  {
   "cell_type": "code",
   "execution_count": 55,
   "metadata": {
    "collapsed": false
   },
   "outputs": [],
   "source": [
    "# ds_fret.add(E_fitter = E_fitter)\n",
    "# dplot(ds_fret, hist_fret_kde, weights='size', bins=np.r_[-0.2:1.2:bandwidth], bandwidth=bandwidth);\n",
    "# plt.axvline(E_pr_fret_kde, ls='--', color='r')\n",
    "# print ds_fret.ph_sel, E_pr_fret_kdedd"
   ]
  },
  {
   "cell_type": "markdown",
   "metadata": {},
   "source": [
    "Weighted mean of $E$ of each burst:"
   ]
  },
  {
   "cell_type": "code",
   "execution_count": 56,
   "metadata": {
    "collapsed": false
   },
   "outputs": [
    {
     "data": {
      "text/plain": [
       "array([ 0.78452363])"
      ]
     },
     "execution_count": 56,
     "metadata": {},
     "output_type": "execute_result"
    }
   ],
   "source": [
    "ds_fret.fit_E_m(weights='size')"
   ]
  },
  {
   "cell_type": "markdown",
   "metadata": {},
   "source": [
    "Gaussian fit (no weights):"
   ]
  },
  {
   "cell_type": "code",
   "execution_count": 57,
   "metadata": {
    "collapsed": false
   },
   "outputs": [
    {
     "data": {
      "text/plain": [
       "array([ 0.77351685])"
      ]
     },
     "execution_count": 57,
     "metadata": {},
     "output_type": "execute_result"
    }
   ],
   "source": [
    "ds_fret.fit_E_generic(fit_fun=bl.gaussian_fit_hist, bins=np.r_[-0.1:1.1:0.03], weights=None)"
   ]
  },
  {
   "cell_type": "markdown",
   "metadata": {},
   "source": [
    "Gaussian fit (using burst size as weights):"
   ]
  },
  {
   "cell_type": "code",
   "execution_count": 58,
   "metadata": {
    "collapsed": false
   },
   "outputs": [
    {
     "data": {
      "text/plain": [
       "array([ 0.79593298])"
      ]
     },
     "execution_count": 58,
     "metadata": {},
     "output_type": "execute_result"
    }
   ],
   "source": [
    "ds_fret.fit_E_generic(fit_fun=bl.gaussian_fit_hist, bins=np.r_[-0.1:1.1:0.005], weights='size')"
   ]
  },
  {
   "cell_type": "code",
   "execution_count": 59,
   "metadata": {
    "collapsed": false
   },
   "outputs": [
    {
     "data": {
      "text/plain": [
       "(0.84300000000002995,\n",
       " 0.7954350281206146,\n",
       " 0.08981175617380455,\n",
       " 0.007308777063621157)"
      ]
     },
     "execution_count": 59,
     "metadata": {},
     "output_type": "execute_result"
    }
   ],
   "source": [
    "E_kde_w = E_fitter.kde_max_pos[0]\n",
    "E_gauss_w = E_fitter.params.loc[0, 'center']\n",
    "E_gauss_w_sig = E_fitter.params.loc[0, 'sigma']\n",
    "E_gauss_w_err = float(E_gauss_w_sig/np.sqrt(ds_fret.num_bursts[0]))\n",
    "E_kde_w, E_gauss_w, E_gauss_w_sig, E_gauss_w_err"
   ]
  },
  {
   "cell_type": "markdown",
   "metadata": {},
   "source": [
    "# Stoichiometry fit"
   ]
  },
  {
   "cell_type": "markdown",
   "metadata": {},
   "source": [
    "Max position of the Kernel Density Estimation (KDE):"
   ]
  },
  {
   "cell_type": "code",
   "execution_count": 60,
   "metadata": {
    "collapsed": false
   },
   "outputs": [],
   "source": [
    "S_pr_fret_kde = bext.fit_bursts_kde_peak(ds_fret, burst_data='S', bandwidth=0.03) #weights='size', add_naa=True)\n",
    "S_fitter = ds_fret.S_fitter"
   ]
  },
  {
   "cell_type": "code",
   "execution_count": 61,
   "metadata": {
    "collapsed": false
   },
   "outputs": [],
   "source": [
    "S_fitter.histogram(bins=np.r_[-0.1:1.1:0.03])\n",
    "S_fitter.fit_histogram(mfit.factory_gaussian(), center=0.5)"
   ]
  },
  {
   "cell_type": "code",
   "execution_count": 62,
   "metadata": {
    "collapsed": false
   },
   "outputs": [
    {
     "name": "stdout",
     "output_type": "stream",
     "text": [
      "DexDem\n",
      "KDE peak 63.60 \n"
     ]
    },
    {
     "data": {
      "text/html": [
       "<div>\n",
       "<table border=\"1\" class=\"dataframe\">\n",
       "  <thead>\n",
       "    <tr style=\"text-align: right;\">\n",
       "      <th></th>\n",
       "      <th>amplitude</th>\n",
       "      <th>center</th>\n",
       "      <th>sigma</th>\n",
       "    </tr>\n",
       "  </thead>\n",
       "  <tbody>\n",
       "    <tr>\n",
       "      <th>0</th>\n",
       "      <td>101.797</td>\n",
       "      <td>60.1757</td>\n",
       "      <td>9.31751</td>\n",
       "    </tr>\n",
       "  </tbody>\n",
       "</table>\n",
       "</div>"
      ],
      "text/plain": [
       "  amplitude   center    sigma\n",
       "0   101.797  60.1757  9.31751"
      ]
     },
     "metadata": {},
     "output_type": "display_data"
    },
    {
     "data": {
      "image/png": "[encoded data removed]",
      "text/plain": [
       "<matplotlib.figure.Figure at 0x1196f3b00>"
      ]
     },
     "metadata": {},
     "output_type": "display_data"
    }
   ],
   "source": [
    "fig, ax = plt.subplots(1, 2, figsize=(14, 4.5))\n",
    "mfit.plot_mfit(S_fitter, ax=ax[0])\n",
    "mfit.plot_mfit(S_fitter, plot_model=False, plot_kde=True, ax=ax[1])\n",
    "print ('%s\\nKDE peak %.2f ' % (ds_fret.ph_sel, S_pr_fret_kde*100))\n",
    "display(S_fitter.params*100)"
   ]
  },
  {
   "cell_type": "code",
   "execution_count": 63,
   "metadata": {
    "collapsed": false
   },
   "outputs": [
    {
     "data": {
      "text/plain": [
       "(0.63600000000002388,\n",
       " 0.6017566014605336,\n",
       " 0.09317508091008841,\n",
       " 0.007582480548969893)"
      ]
     },
     "execution_count": 63,
     "metadata": {},
     "output_type": "execute_result"
    }
   ],
   "source": [
    "S_kde = S_fitter.kde_max_pos[0]\n",
    "S_gauss = S_fitter.params.loc[0, 'center']\n",
    "S_gauss_sig = S_fitter.params.loc[0, 'sigma']\n",
    "S_gauss_err = float(S_gauss_sig/np.sqrt(ds_fret.num_bursts[0]))\n",
    "S_kde, S_gauss, S_gauss_sig, S_gauss_err"
   ]
  },
  {
   "cell_type": "markdown",
   "metadata": {},
   "source": [
    "The Maximum likelihood fit for a Gaussian population is the mean:"
   ]
  },
  {
   "cell_type": "code",
   "execution_count": 64,
   "metadata": {
    "collapsed": false
   },
   "outputs": [
    {
     "data": {
      "text/plain": [
       "(0.60307981225167817, 0.087770135925727133)"
      ]
     },
     "execution_count": 64,
     "metadata": {},
     "output_type": "execute_result"
    }
   ],
   "source": [
    "S = ds_fret.S[0]\n",
    "S_ml_fit = (S.mean(), S.std())\n",
    "S_ml_fit"
   ]
  },
  {
   "cell_type": "markdown",
   "metadata": {},
   "source": [
    "Computing the weighted mean and weighted standard deviation we get:"
   ]
  },
  {
   "cell_type": "code",
   "execution_count": 65,
   "metadata": {
    "collapsed": false
   },
   "outputs": [
    {
     "data": {
      "text/plain": [
       "[0.5915951619461185, 0.08372896216429937]"
      ]
     },
     "execution_count": 65,
     "metadata": {},
     "output_type": "execute_result"
    }
   ],
   "source": [
    "weights = bl.fret_fit.get_weights(ds_fret.nd[0], ds_fret.na[0], weights='size', naa=ds_fret.naa[0], gamma=1.)\n",
    "S_mean = np.dot(weights, S)/weights.sum()\n",
    "S_std_dev = np.sqrt(\n",
    "        np.dot(weights, (S - S_mean)**2)/weights.sum())\n",
    "S_wmean_fit = [S_mean, S_std_dev]\n",
    "S_wmean_fit"
   ]
  },
  {
   "cell_type": "markdown",
   "metadata": {},
   "source": [
    "# Save data to file"
   ]
  },
  {
   "cell_type": "code",
   "execution_count": 66,
   "metadata": {
    "collapsed": false
   },
   "outputs": [],
   "source": [
    "sample = data_id"
   ]
  },
  {
   "cell_type": "markdown",
   "metadata": {},
   "source": [
    "The following string contains the list of variables to be saved. When saving, the order of the variables is preserved."
   ]
  },
  {
   "cell_type": "code",
   "execution_count": 67,
   "metadata": {
    "collapsed": true
   },
   "outputs": [],
   "source": [
    "variables = ('sample n_bursts_all n_bursts_do n_bursts_fret '\n",
    "             'E_kde_w E_gauss_w E_gauss_w_sig E_gauss_w_err S_kde S_gauss S_gauss_sig S_gauss_err '\n",
    "             'E_pr_do_kde E_pr_do_hsm E_pr_do_gauss nt_mean\\n')"
   ]
  },
  {
   "cell_type": "markdown",
   "metadata": {},
   "source": [
    "This is just a trick to format the different variables:"
   ]
  },
  {
   "cell_type": "code",
   "execution_count": 68,
   "metadata": {
    "collapsed": false
   },
   "outputs": [
    {
     "name": "stdout",
     "output_type": "stream",
     "text": [
      "sample,n_bursts_all,n_bursts_do,n_bursts_fret,E_kde_w,E_gauss_w,E_gauss_w_sig,E_gauss_w_err,S_kde,S_gauss,S_gauss_sig,S_gauss_err,E_pr_do_kde,E_pr_do_hsm,E_pr_do_gauss,nt_mean\n",
      "\n",
      "7d, 1686, 1396, 151, 0.843000, 0.795435, 0.089812, 0.007309, 0.636000, 0.601757, 0.093175, 0.007582, 0.095400, 0.083806, 0.092120, 28.148237\n",
      "\n"
     ]
    }
   ],
   "source": [
    "variables_csv = variables.replace(' ', ',')\n",
    "fmt_float = '{%s:.6f}'\n",
    "fmt_int = '{%s:d}'\n",
    "fmt_str = '{%s}'\n",
    "fmt_dict = {**{'sample': fmt_str}, \n",
    "            **{k: fmt_int for k in variables.split() if k.startswith('n_bursts')}}\n",
    "var_dict = {name: eval(name) for name in variables.split()}\n",
    "var_fmt = ', '.join([fmt_dict.get(name, fmt_float) % name for name in variables.split()]) + '\\n'\n",
    "data_str = var_fmt.format(**var_dict)\n",
    "\n",
    "print(variables_csv)\n",
    "print(data_str)"
   ]
  },
  {
   "cell_type": "code",
   "execution_count": 69,
   "metadata": {
    "collapsed": false
   },
   "outputs": [],
   "source": [
    "# NOTE: The file name should be the notebook name but with .csv extension\n",
    "with open('results/usALEX-5samples-PR-raw-%s.csv' % ph_sel_name, 'a') as f:\n",
    "    f.seek(0, 2)\n",
    "    if f.tell() == 0:\n",
    "        f.write(variables_csv)\n",
    "    f.write(data_str)"
   ]
  }
 ],
 "metadata": {
  "anaconda-cloud": {},
  "kernelspec": {
   "display_name": "Python [default]",
   "language": "python",
   "name": "python3"
  },
  "language_info": {
   "codemirror_mode": {
    "name": "ipython",
    "version": 3
   },
   "file_extension": ".py",
   "mimetype": "text/x-python",
   "name": "python",
   "nbconvert_exporter": "python",
   "pygments_lexer": "ipython3",
   "version": "3.5.1"
  },
  "nav_menu": {},
  "toc": {
   "navigate_menu": true,
   "number_sections": true,
   "sideBar": true,
   "threshold": 6,
   "toc_cell": false,
   "toc_section_display": "block",
   "toc_window_display": false
  }
 },
 "nbformat": 4,
 "nbformat_minor": 0
}
