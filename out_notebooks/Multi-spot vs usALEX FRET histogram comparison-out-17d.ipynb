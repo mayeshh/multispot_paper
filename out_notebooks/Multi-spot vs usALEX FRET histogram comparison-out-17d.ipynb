{
 "cells": [
  {
   "cell_type": "markdown",
   "metadata": {},
   "source": [
    "**Executed:** Mon Mar 27 22:24:30 2017\n",
    "\n",
    "**Duration:** 12 seconds."
   ]
  },
  {
   "cell_type": "code",
   "execution_count": 1,
   "metadata": {
    "collapsed": true
   },
   "outputs": [],
   "source": [
    "data_id = '17d'"
   ]
  },
  {
   "cell_type": "code",
   "execution_count": 2,
   "metadata": {},
   "outputs": [],
   "source": [
    "ph_sel_name = \"None\""
   ]
  },
  {
   "cell_type": "code",
   "execution_count": 3,
   "metadata": {},
   "outputs": [],
   "source": [
    "data_id = \"17d\""
   ]
  },
  {
   "cell_type": "markdown",
   "metadata": {},
   "source": [
    "# Multi-spot vs usALEX FRET histogram comparison"
   ]
  },
  {
   "cell_type": "markdown",
   "metadata": {},
   "source": [
    "## Load FRETBursts software"
   ]
  },
  {
   "cell_type": "code",
   "execution_count": 4,
   "metadata": {
    "collapsed": false
   },
   "outputs": [
    {
     "name": "stdout",
     "output_type": "stream",
     "text": [
      " - Optimized (cython) burst search loaded.\n",
      " - Optimized (cython) photon counting loaded.\n"
     ]
    },
    {
     "name": "stdout",
     "output_type": "stream",
     "text": [
      "--------------------------------------------------------------\n",
      " You are running FRETBursts (version 0.5.9).\n",
      "\n",
      " If you use this software please cite the following paper:\n",
      "\n",
      "   FRETBursts: An Open Source Toolkit for Analysis of Freely-Diffusing Single-Molecule FRET\n",
      "   Ingargiola et al. (2016). http://dx.doi.org/10.1371/journal.pone.0160716 \n",
      "\n",
      "--------------------------------------------------------------\n"
     ]
    }
   ],
   "source": [
    "from fretbursts import *\n",
    "sns = init_notebook()"
   ]
  },
  {
   "cell_type": "code",
   "execution_count": 5,
   "metadata": {
    "collapsed": false
   },
   "outputs": [],
   "source": [
    "import os\n",
    "import pandas as pd\n",
    "from IPython.display import display, Math"
   ]
  },
  {
   "cell_type": "code",
   "execution_count": 6,
   "metadata": {
    "collapsed": false
   },
   "outputs": [
    {
     "name": "stdout",
     "output_type": "stream",
     "text": [
      "lmfit version: 0.9.5\n"
     ]
    }
   ],
   "source": [
    "import lmfit\n",
    "print('lmfit version:', lmfit.__version__)"
   ]
  },
  {
   "cell_type": "code",
   "execution_count": 7,
   "metadata": {
    "collapsed": true
   },
   "outputs": [],
   "source": [
    "figure_size = (5, 4)\n",
    "default_figure = lambda: plt.subplots(figsize=figure_size)\n",
    "save_figures = True\n",
    "\n",
    "def savefig(filename, **kwargs):\n",
    "    if not save_figures:\n",
    "        return\n",
    "    import os\n",
    "    dir_ = 'figures/'\n",
    "    kwargs_ = dict(dpi=300, bbox_inches='tight')\n",
    "                   #frameon=True, facecolor='white', transparent=False)\n",
    "    kwargs_.update(kwargs)\n",
    "    plt.savefig(dir_ + filename, **kwargs_)\n",
    "    print('Saved: %s' % (dir_ + filename))"
   ]
  },
  {
   "cell_type": "markdown",
   "metadata": {},
   "source": [
    "## 8-spot paper plot style"
   ]
  },
  {
   "cell_type": "code",
   "execution_count": 8,
   "metadata": {
    "collapsed": false
   },
   "outputs": [],
   "source": [
    "PLOT_DIR = './figure/'"
   ]
  },
  {
   "cell_type": "code",
   "execution_count": 9,
   "metadata": {
    "collapsed": false
   },
   "outputs": [
    {
     "data": {
      "image/png": "[encoded data removed]",
      "text/plain": [
       "<matplotlib.figure.Figure at 0x11ca4f2e8>"
      ]
     },
     "metadata": {},
     "output_type": "display_data"
    }
   ],
   "source": [
    "import matplotlib as mpl\n",
    "from cycler import cycler\n",
    "\n",
    "bmap = sns.color_palette(\"Set1\", 9)\n",
    "colors = np.array(bmap)[(1,0,2,3,4,8,6,7), :]\n",
    "mpl.rcParams['axes.prop_cycle'] = cycler('color', colors)\n",
    "colors_labels = ['blue', 'red', 'green', 'violet', 'orange', 'gray', 'brown', 'pink', ]\n",
    "for c, cl in zip(colors, colors_labels):\n",
    "    locals()[cl] = tuple(c) # assign variables with color names\n",
    "sns.palplot(colors)"
   ]
  },
  {
   "cell_type": "markdown",
   "metadata": {},
   "source": [
    "## Data files"
   ]
  },
  {
   "cell_type": "markdown",
   "metadata": {},
   "source": [
    "Data folder:"
   ]
  },
  {
   "cell_type": "code",
   "execution_count": 10,
   "metadata": {
    "collapsed": false
   },
   "outputs": [],
   "source": [
    "data_dir = './data/multispot/'"
   ]
  },
  {
   "cell_type": "markdown",
   "metadata": {},
   "source": [
    "Check that the folder exists:"
   ]
  },
  {
   "cell_type": "code",
   "execution_count": 11,
   "metadata": {
    "collapsed": false
   },
   "outputs": [],
   "source": [
    "data_dir = os.path.abspath(data_dir) + '/'\n",
    "assert os.path.exists(data_dir), \"Path '%s' does not exist.\" % data_dir"
   ]
  },
  {
   "cell_type": "markdown",
   "metadata": {},
   "source": [
    "List of data files in `data_dir`:"
   ]
  },
  {
   "cell_type": "code",
   "execution_count": 12,
   "metadata": {
    "collapsed": false
   },
   "outputs": [],
   "source": [
    "from glob import glob\n",
    "file_list = sorted(glob(data_dir + '*_?.hdf5'))"
   ]
  },
  {
   "cell_type": "code",
   "execution_count": 13,
   "metadata": {
    "collapsed": false
   },
   "outputs": [
    {
     "data": {
      "text/plain": [
       "{'12d': '/Users/anto/Google Drive/notebooks/multispot_paper/data/multispot/12d_New_30p_320mW_steer_3.hdf5',\n",
       " '17d': '/Users/anto/Google Drive/notebooks/multispot_paper/data/multispot/17d_100p_320mW_steer_1.hdf5',\n",
       " '22d': '/Users/anto/Google Drive/notebooks/multispot_paper/data/multispot/22d_30p_320mW_steer_1.hdf5',\n",
       " '27d': '/Users/anto/Google Drive/notebooks/multispot_paper/data/multispot/27d_50p_320mW_steer_1.hdf5',\n",
       " '7d': '/Users/anto/Google Drive/notebooks/multispot_paper/data/multispot/7d_New_150p_320mW_steer_3.hdf5',\n",
       " 'DO': '/Users/anto/Google Drive/notebooks/multispot_paper/data/multispot/DO12_No2_50p_320mW_steer_1.hdf5'}"
      ]
     },
     "execution_count": 13,
     "metadata": {},
     "output_type": "execute_result"
    }
   ],
   "source": [
    "labels = ['12d', '7d', '17d', '22d', '27d', 'DO']\n",
    "files_dict = {lab: fname for lab, fname in zip(sorted(labels), file_list)}\n",
    "files_dict"
   ]
  },
  {
   "cell_type": "markdown",
   "metadata": {},
   "source": [
    "## Correction parameters"
   ]
  },
  {
   "cell_type": "markdown",
   "metadata": {},
   "source": [
    "### Multispot"
   ]
  },
  {
   "cell_type": "markdown",
   "metadata": {},
   "source": [
    "Load the **multispot leakage coefficient** from disk (computed in [Multi-spot 5-Samples analyis - Leakage coefficient fit](Multi-spot 5-Samples analyis - Leakage coefficient fit.ipynb)):"
   ]
  },
  {
   "cell_type": "code",
   "execution_count": 14,
   "metadata": {
    "collapsed": false
   },
   "outputs": [
    {
     "name": "stdout",
     "output_type": "stream",
     "text": [
      "Leakage coefficient: [ 0.0334]\n"
     ]
    }
   ],
   "source": [
    "_fname = 'results/Multi-spot - leakage coefficient KDE wmean DexDem.csv'\n",
    "leakageM = np.loadtxt(_fname, ndmin=1)\n",
    "\n",
    "print('Leakage coefficient:', leakageM)"
   ]
  },
  {
   "cell_type": "markdown",
   "metadata": {},
   "source": [
    "Load the **multispot direct excitation coefficient** ($d_{dirT}$) from disk (computed in [usALEX - Corrections - Direct excitation physical parameter](usALEX - Corrections - Direct excitation physical parameter.ipynb)):"
   ]
  },
  {
   "cell_type": "code",
   "execution_count": 15,
   "metadata": {
    "collapsed": false
   },
   "outputs": [
    {
     "name": "stdout",
     "output_type": "stream",
     "text": [
      "Direct excitation coefficient (dir_ex_t): [ 0.04932]\n"
     ]
    }
   ],
   "source": [
    "_fname = 'results/usALEX - direct excitation coefficient dir_ex_t beta.csv'\n",
    "dir_ex_tM = np.loadtxt(_fname, ndmin=1)\n",
    "\n",
    "print('Direct excitation coefficient (dir_ex_t):', dir_ex_tM)"
   ]
  },
  {
   "cell_type": "markdown",
   "metadata": {},
   "source": [
    "Load the **multispot gamma** ($\\gamma_M$) coefficient (computed in [Multi-spot Gamma Fitting](Multi-spot Gamma Fitting.ipynb)):"
   ]
  },
  {
   "cell_type": "code",
   "execution_count": 16,
   "metadata": {
    "collapsed": false
   },
   "outputs": [
    {
     "name": "stdout",
     "output_type": "stream",
     "text": [
      "Multispot gamma coefficient: [ 0.45525]\n"
     ]
    }
   ],
   "source": [
    "_fname = 'results/Multi-spot - gamma factor.csv'\n",
    "gammaM = np.loadtxt(_fname, ndmin=1)\n",
    "\n",
    "print('Multispot gamma coefficient:', gammaM)"
   ]
  },
  {
   "cell_type": "markdown",
   "metadata": {},
   "source": [
    "### usALEX"
   ]
  },
  {
   "cell_type": "markdown",
   "metadata": {},
   "source": [
    "Load the **usALEX leakage coefficient** from disk (computed in [usALEX - Corrections - Leakage fit](usALEX - Corrections - Leakage fit.ipynb)):"
   ]
  },
  {
   "cell_type": "code",
   "execution_count": 17,
   "metadata": {
    "collapsed": false
   },
   "outputs": [
    {
     "name": "stdout",
     "output_type": "stream",
     "text": [
      "usALEX Leakage coefficient: 0.10029\n"
     ]
    }
   ],
   "source": [
    "_fname = 'results/usALEX - leakage coefficient DexDem.csv'\n",
    "leakageA = np.loadtxt(_fname)\n",
    "\n",
    "print('usALEX Leakage coefficient:', leakageA)"
   ]
  },
  {
   "cell_type": "markdown",
   "metadata": {},
   "source": [
    "Load the **usALEX gamma coefficient** (computed in [usALEX - Corrections - Gamma factor fit](usALEX - Corrections - Gamma factor fit.ipynb)):"
   ]
  },
  {
   "cell_type": "code",
   "execution_count": 18,
   "metadata": {
    "collapsed": false
   },
   "outputs": [
    {
     "name": "stdout",
     "output_type": "stream",
     "text": [
      "usALEX Gamma-factor: 1.020526\n"
     ]
    }
   ],
   "source": [
    "_fname = 'results/usALEX - gamma factor - all-ph.csv'\n",
    "gammaA = np.loadtxt(_fname)\n",
    "\n",
    "print('usALEX Gamma-factor:', gammaA)"
   ]
  },
  {
   "cell_type": "markdown",
   "metadata": {},
   "source": [
    "Load the **usALEX beta coefficient** (computed in [usALEX - Corrections - Gamma factor fit](usALEX - Corrections - Gamma factor fit.ipynb)):"
   ]
  },
  {
   "cell_type": "code",
   "execution_count": 19,
   "metadata": {
    "collapsed": false
   },
   "outputs": [
    {
     "name": "stdout",
     "output_type": "stream",
     "text": [
      "usALEX Gamma-factor: 0.813553\n"
     ]
    }
   ],
   "source": [
    "_fname = 'results/usALEX - beta factor - all-ph.csv'\n",
    "betaA = np.loadtxt(_fname)\n",
    "\n",
    "print('usALEX Gamma-factor:', betaA)"
   ]
  },
  {
   "cell_type": "markdown",
   "metadata": {},
   "source": [
    "Load the **usALEX direct-excitation coefficient** ($d_{exAA}$) (computed in [usALEX - Corrections - Direct excitation fit](usALEX - Corrections - Direct excitation fit.ipynb)):"
   ]
  },
  {
   "cell_type": "code",
   "execution_count": 20,
   "metadata": {
    "collapsed": false
   },
   "outputs": [
    {
     "name": "stdout",
     "output_type": "stream",
     "text": [
      "Direct excitation coefficient (dir_ex_aa): 0.06062\n"
     ]
    }
   ],
   "source": [
    "_fname = 'results/usALEX - direct excitation coefficient dir_ex_aa.csv'\n",
    "dir_ex_aa = np.loadtxt(_fname)\n",
    "\n",
    "print('Direct excitation coefficient (dir_ex_aa):', dir_ex_aa)"
   ]
  },
  {
   "cell_type": "markdown",
   "metadata": {},
   "source": [
    "Compute **usALEX direct-excitation coefficient** ($d_{exT}$) (see [usALEX - Corrections - Direct excitation physical parameter](usALEX - Corrections - Direct excitation physical parameter.ipynb)):"
   ]
  },
  {
   "cell_type": "code",
   "execution_count": 21,
   "metadata": {
    "collapsed": false
   },
   "outputs": [
    {
     "data": {
      "text/plain": [
       "0.04931758286"
      ]
     },
     "execution_count": 21,
     "metadata": {},
     "output_type": "execute_result"
    }
   ],
   "source": [
    "dir_ex_tA = betaA * dir_ex_aa\n",
    "dir_ex_tA"
   ]
  },
  {
   "cell_type": "markdown",
   "metadata": {},
   "source": [
    "## Parameters"
   ]
  },
  {
   "cell_type": "markdown",
   "metadata": {},
   "source": [
    "Analysis parameters:"
   ]
  },
  {
   "cell_type": "code",
   "execution_count": 22,
   "metadata": {
    "collapsed": false
   },
   "outputs": [],
   "source": [
    "donor_ref = False    # False -> gamma correction is: g*nd + na\n",
    "                     # True  -> gamma correction is: nd + na/g\n",
    "\n",
    "hist_weights = 'size'\n",
    "\n",
    "## Background fit parameters\n",
    "bg_kwargs_auto = dict(fun=bg.exp_fit,\n",
    "                 time_s = 30,\n",
    "                 tail_min_us = 'auto',\n",
    "                 F_bg=1.7,\n",
    "                 )\n",
    "\n",
    "## Burst search\n",
    "F=6\n",
    "dither = False\n",
    "size_th = 30    # Burst size threshold (selection on corrected burst sizes)\n",
    "\n",
    "## FRET fit parameters\n",
    "bandwidth = 0.03        # KDE bandwidth\n",
    "E_range = {'7d':  (0.7, 1.0), '12d': (0.4, 0.8), '17d': (0.2, 0.4), \n",
    "           '22d': (0.0, 0.1), '27d': (0.0, 0.1), 'DO': (0.0, 0.1)}\n",
    "E_axis_kde = np.arange(-0.2, 1.2, 0.0002)"
   ]
  },
  {
   "cell_type": "markdown",
   "metadata": {},
   "source": [
    "## Utility functions"
   ]
  },
  {
   "cell_type": "code",
   "execution_count": 23,
   "metadata": {
    "collapsed": false
   },
   "outputs": [],
   "source": [
    "def print_fit_report(E_pr, gamma=1, leakage=0, dir_ex_t=0, math=True):\n",
    "    \"\"\"Print fit and standard deviation for both corrected and uncorrected E\n",
    "    Returns d.E_fit.\n",
    "    \"\"\"\n",
    "    E_corr = fretmath.correct_E_gamma_leak_dir(E_pr, gamma=gamma, leakage=leakage, dir_ex_t=dir_ex_t)\n",
    "    \n",
    "    E_pr_mean = E_pr.mean()*100\n",
    "    E_pr_delta = (E_pr.max() - E_pr.min())*100\n",
    "    \n",
    "    E_corr_mean = E_corr.mean()*100\n",
    "    E_corr_delta = (E_corr.max() - E_corr.min())*100\n",
    "    if math:\n",
    "        display(Math(r'\\text{Pre}\\;\\gamma\\quad\\langle{E}_{fit}\\rangle = %.1f\\%% \\qquad'\n",
    "                     '\\Delta E_{fit} = %.2f \\%%' % \\\n",
    "                     (E_pr_mean, E_pr_delta)))\n",
    "        display(Math(r'\\text{Post}\\;\\gamma\\quad\\langle{E}_{fit}\\rangle = %.1f\\%% \\qquad'\n",
    "                     '\\Delta E_{fit} = %.2f \\%%' % \\\n",
    "                     (E_corr_mean, E_corr_delta)))\n",
    "    else:\n",
    "        print('Pre-gamma  E (delta, mean):  %.2f  %.2f' % (E_pr_mean, E_pr_delta))\n",
    "        print('Post-gamma E (delta, mean):  %.2f  %.2f' % (E_corr_mean, E_corr_delta))"
   ]
  },
  {
   "cell_type": "markdown",
   "metadata": {},
   "source": [
    "# Multispot analysis"
   ]
  },
  {
   "cell_type": "code",
   "execution_count": 24,
   "metadata": {
    "collapsed": false
   },
   "outputs": [
    {
     "name": "stdout",
     "output_type": "stream",
     "text": [
      " - Calculating BG rates ... "
     ]
    },
    {
     "name": "stdout",
     "output_type": "stream",
     "text": [
      "[DONE]\n"
     ]
    },
    {
     "name": "stdout",
     "output_type": "stream",
     "text": [
      " - Performing burst search (verbose=False) ..."
     ]
    },
    {
     "name": "stdout",
     "output_type": "stream",
     "text": [
      "[DONE]\n"
     ]
    },
    {
     "name": "stdout",
     "output_type": "stream",
     "text": [
      " - Calculating burst periods ..."
     ]
    },
    {
     "name": "stdout",
     "output_type": "stream",
     "text": [
      "[DONE]\n"
     ]
    },
    {
     "name": "stdout",
     "output_type": "stream",
     "text": [
      " - Counting D and A ph and calculating FRET ... \n"
     ]
    },
    {
     "name": "stdout",
     "output_type": "stream",
     "text": [
      "   - Applying background correction.\n"
     ]
    },
    {
     "name": "stdout",
     "output_type": "stream",
     "text": [
      "   - Applying leakage correction.\n"
     ]
    },
    {
     "name": "stdout",
     "output_type": "stream",
     "text": [
      "   [DONE Counting D/A]\n"
     ]
    }
   ],
   "source": [
    "d = loader.photon_hdf5(files_dict[data_id])\n",
    "d.calc_bg(**bg_kwargs_auto)\n",
    "d.burst_search(m=10, F=F, dither=dither)"
   ]
  },
  {
   "cell_type": "code",
   "execution_count": 25,
   "metadata": {
    "collapsed": false
   },
   "outputs": [
    {
     "data": {
      "text/plain": [
       "243.671727175"
      ]
     },
     "execution_count": 25,
     "metadata": {},
     "output_type": "execute_result"
    }
   ],
   "source": [
    "d.time_max"
   ]
  },
  {
   "cell_type": "code",
   "execution_count": 26,
   "metadata": {
    "collapsed": false
   },
   "outputs": [],
   "source": [
    "ds = Sel(d, select_bursts.size, th1=30, gamma=gammaM, donor_ref=donor_ref)"
   ]
  },
  {
   "cell_type": "code",
   "execution_count": 27,
   "metadata": {
    "collapsed": false
   },
   "outputs": [
    {
     "data": {
      "text/plain": [
       "array([ 771,  514,  812, 1057, 1043,  667, 1091, 1199])"
      ]
     },
     "execution_count": 27,
     "metadata": {},
     "output_type": "execute_result"
    }
   ],
   "source": [
    "ds.num_bursts"
   ]
  },
  {
   "cell_type": "code",
   "execution_count": 28,
   "metadata": {
    "collapsed": false
   },
   "outputs": [],
   "source": [
    "# fitter = bext.bursts_fitter(ds)\n",
    "# fitter.histogram(bins=np.r_[-0.2 : 1.2 : bandwidth])\n",
    "# fitter.model = mfit.factory_two_gaussians(add_bridge=False, p2_center=0.4)\n",
    "# fitter.fit_histogram()\n",
    "# display(fitter.params['p2_center'])\n",
    "# print_fit_report(fitter.params['p2_center'], gamma=gammaM, leakage=leakageM, dir_ex_t=dir_ex_tM)"
   ]
  },
  {
   "cell_type": "code",
   "execution_count": 29,
   "metadata": {
    "collapsed": false
   },
   "outputs": [
    {
     "data": {
      "image/png": "[encoded data removed]",
      "text/plain": [
       "<matplotlib.figure.Figure at 0x11ca4ffd0>"
      ]
     },
     "metadata": {},
     "output_type": "display_data"
    }
   ],
   "source": [
    "dplot(ds, hist_fret);\n",
    "      #show_model=True, show_fit_stats=True, fit_from='p2_center', show_fit_value=True);"
   ]
  },
  {
   "cell_type": "code",
   "execution_count": 30,
   "metadata": {
    "collapsed": true
   },
   "outputs": [],
   "source": [
    "d_all = ds.collapse()"
   ]
  },
  {
   "cell_type": "code",
   "execution_count": 31,
   "metadata": {
    "collapsed": false
   },
   "outputs": [],
   "source": [
    "d_all_chunk = Sel(d_all, select_bursts.time, time_s2=600/8)"
   ]
  },
  {
   "cell_type": "code",
   "execution_count": 32,
   "metadata": {
    "collapsed": false
   },
   "outputs": [
    {
     "data": {
      "text/plain": [
       "<matplotlib.axes._subplots.AxesSubplot at 0x11ee54630>"
      ]
     },
     "execution_count": 32,
     "metadata": {},
     "output_type": "execute_result"
    },
    {
     "data": {
      "image/png": "[encoded data removed]",
      "text/plain": [
       "<matplotlib.figure.Figure at 0x11ca4f6a0>"
      ]
     },
     "metadata": {},
     "output_type": "display_data"
    }
   ],
   "source": [
    "dplot(d_all_chunk, hist_fret)"
   ]
  },
  {
   "cell_type": "code",
   "execution_count": 33,
   "metadata": {
    "collapsed": false
   },
   "outputs": [],
   "source": [
    "Eraw = d_all_chunk.E[0]"
   ]
  },
  {
   "cell_type": "code",
   "execution_count": 34,
   "metadata": {
    "collapsed": false
   },
   "outputs": [],
   "source": [
    "E = fretmath.correct_E_gamma_leak_dir(Eraw, gamma=gammaM, leakage=leakageM, dir_ex_t=dir_ex_tM)"
   ]
  },
  {
   "cell_type": "code",
   "execution_count": 35,
   "metadata": {
    "collapsed": false
   },
   "outputs": [],
   "source": [
    "sns.set_style('whitegrid')\n",
    "%config InlineBackend.figure_format='retina'  # for hi-dpi displays"
   ]
  },
  {
   "cell_type": "code",
   "execution_count": 36,
   "metadata": {
    "collapsed": false
   },
   "outputs": [
    {
     "data": {
      "image/png": "[encoded data removed]",
      "text/plain": [
       "<matplotlib.figure.Figure at 0x12ad3c358>"
      ]
     },
     "metadata": {
      "image/png": {
       "height": 311,
       "width": 450
      }
     },
     "output_type": "display_data"
    }
   ],
   "source": [
    "plt.hist(E, bins=np.arange(-0.2, 1.2, 0.025) + 0.5*0.025);"
   ]
  },
  {
   "cell_type": "markdown",
   "metadata": {},
   "source": [
    "# Comparison with usALEX"
   ]
  },
  {
   "cell_type": "code",
   "execution_count": 37,
   "metadata": {
    "collapsed": false
   },
   "outputs": [
    {
     "data": {
      "text/html": [
       "<div>\n",
       "<table border=\"1\" class=\"dataframe\">\n",
       "  <thead>\n",
       "    <tr style=\"text-align: right;\">\n",
       "      <th></th>\n",
       "      <th>E</th>\n",
       "      <th>S</th>\n",
       "      <th>bg_a</th>\n",
       "      <th>bg_aa</th>\n",
       "      <th>bg_d</th>\n",
       "      <th>bp</th>\n",
       "      <th>i_end</th>\n",
       "      <th>i_start</th>\n",
       "      <th>na</th>\n",
       "      <th>naa</th>\n",
       "      <th>nd</th>\n",
       "      <th>nda</th>\n",
       "      <th>nt</th>\n",
       "      <th>size_raw</th>\n",
       "      <th>t_end</th>\n",
       "      <th>t_start</th>\n",
       "      <th>width_ms</th>\n",
       "    </tr>\n",
       "  </thead>\n",
       "  <tbody>\n",
       "    <tr>\n",
       "      <th>0</th>\n",
       "      <td>0.495162</td>\n",
       "      <td>0.620717</td>\n",
       "      <td>1.981</td>\n",
       "      <td>1.658</td>\n",
       "      <td>1.453</td>\n",
       "      <td>0</td>\n",
       "      <td>770</td>\n",
       "      <td>678</td>\n",
       "      <td>27.019</td>\n",
       "      <td>33.342</td>\n",
       "      <td>27.547</td>\n",
       "      <td>-0.118</td>\n",
       "      <td>87.908</td>\n",
       "      <td>93</td>\n",
       "      <td>0.166703</td>\n",
       "      <td>0.164337</td>\n",
       "      <td>2.3666</td>\n",
       "    </tr>\n",
       "    <tr>\n",
       "      <th>1</th>\n",
       "      <td>0.130834</td>\n",
       "      <td>0.989612</td>\n",
       "      <td>2.007</td>\n",
       "      <td>1.680</td>\n",
       "      <td>1.472</td>\n",
       "      <td>0</td>\n",
       "      <td>1519</td>\n",
       "      <td>1484</td>\n",
       "      <td>3.993</td>\n",
       "      <td>0.320</td>\n",
       "      <td>26.528</td>\n",
       "      <td>-0.119</td>\n",
       "      <td>30.842</td>\n",
       "      <td>36</td>\n",
       "      <td>0.365637</td>\n",
       "      <td>0.363239</td>\n",
       "      <td>2.3974</td>\n",
       "    </tr>\n",
       "    <tr>\n",
       "      <th>2</th>\n",
       "      <td>0.538721</td>\n",
       "      <td>0.713506</td>\n",
       "      <td>1.018</td>\n",
       "      <td>0.852</td>\n",
       "      <td>0.746</td>\n",
       "      <td>0</td>\n",
       "      <td>1691</td>\n",
       "      <td>1640</td>\n",
       "      <td>18.982</td>\n",
       "      <td>14.148</td>\n",
       "      <td>16.254</td>\n",
       "      <td>-0.060</td>\n",
       "      <td>49.384</td>\n",
       "      <td>52</td>\n",
       "      <td>0.384955</td>\n",
       "      <td>0.383739</td>\n",
       "      <td>1.2158</td>\n",
       "    </tr>\n",
       "    <tr>\n",
       "      <th>3</th>\n",
       "      <td>0.543999</td>\n",
       "      <td>0.478300</td>\n",
       "      <td>2.668</td>\n",
       "      <td>2.233</td>\n",
       "      <td>1.957</td>\n",
       "      <td>0</td>\n",
       "      <td>2858</td>\n",
       "      <td>2774</td>\n",
       "      <td>20.332</td>\n",
       "      <td>40.767</td>\n",
       "      <td>17.043</td>\n",
       "      <td>-0.158</td>\n",
       "      <td>78.143</td>\n",
       "      <td>85</td>\n",
       "      <td>0.713639</td>\n",
       "      <td>0.710452</td>\n",
       "      <td>3.1867</td>\n",
       "    </tr>\n",
       "    <tr>\n",
       "      <th>4</th>\n",
       "      <td>0.273861</td>\n",
       "      <td>0.713707</td>\n",
       "      <td>2.512</td>\n",
       "      <td>2.102</td>\n",
       "      <td>1.842</td>\n",
       "      <td>0</td>\n",
       "      <td>3127</td>\n",
       "      <td>3073</td>\n",
       "      <td>9.488</td>\n",
       "      <td>13.898</td>\n",
       "      <td>25.158</td>\n",
       "      <td>-0.149</td>\n",
       "      <td>48.543</td>\n",
       "      <td>55</td>\n",
       "      <td>0.772941</td>\n",
       "      <td>0.769940</td>\n",
       "      <td>3.0008</td>\n",
       "    </tr>\n",
       "    <tr>\n",
       "      <th>...</th>\n",
       "      <td>...</td>\n",
       "      <td>...</td>\n",
       "      <td>...</td>\n",
       "      <td>...</td>\n",
       "      <td>...</td>\n",
       "      <td>...</td>\n",
       "      <td>...</td>\n",
       "      <td>...</td>\n",
       "      <td>...</td>\n",
       "      <td>...</td>\n",
       "      <td>...</td>\n",
       "      <td>...</td>\n",
       "      <td>...</td>\n",
       "      <td>...</td>\n",
       "      <td>...</td>\n",
       "      <td>...</td>\n",
       "      <td>...</td>\n",
       "    </tr>\n",
       "    <tr>\n",
       "      <th>3454</th>\n",
       "      <td>0.401997</td>\n",
       "      <td>0.651045</td>\n",
       "      <td>3.408</td>\n",
       "      <td>3.545</td>\n",
       "      <td>2.517</td>\n",
       "      <td>9</td>\n",
       "      <td>2449049</td>\n",
       "      <td>2448915</td>\n",
       "      <td>32.592</td>\n",
       "      <td>43.455</td>\n",
       "      <td>48.483</td>\n",
       "      <td>0.794</td>\n",
       "      <td>124.530</td>\n",
       "      <td>135</td>\n",
       "      <td>599.584805</td>\n",
       "      <td>599.582642</td>\n",
       "      <td>2.1626</td>\n",
       "    </tr>\n",
       "    <tr>\n",
       "      <th>3455</th>\n",
       "      <td>0.103664</td>\n",
       "      <td>0.700395</td>\n",
       "      <td>2.514</td>\n",
       "      <td>2.614</td>\n",
       "      <td>1.857</td>\n",
       "      <td>9</td>\n",
       "      <td>2449619</td>\n",
       "      <td>2449565</td>\n",
       "      <td>3.486</td>\n",
       "      <td>14.386</td>\n",
       "      <td>30.143</td>\n",
       "      <td>-0.152</td>\n",
       "      <td>48.015</td>\n",
       "      <td>55</td>\n",
       "      <td>599.662386</td>\n",
       "      <td>599.660791</td>\n",
       "      <td>1.5950</td>\n",
       "    </tr>\n",
       "    <tr>\n",
       "      <th>3456</th>\n",
       "      <td>0.477700</td>\n",
       "      <td>0.622401</td>\n",
       "      <td>2.783</td>\n",
       "      <td>2.895</td>\n",
       "      <td>2.056</td>\n",
       "      <td>9</td>\n",
       "      <td>2450467</td>\n",
       "      <td>2450362</td>\n",
       "      <td>29.217</td>\n",
       "      <td>37.105</td>\n",
       "      <td>31.944</td>\n",
       "      <td>-0.168</td>\n",
       "      <td>98.267</td>\n",
       "      <td>106</td>\n",
       "      <td>599.726302</td>\n",
       "      <td>599.724536</td>\n",
       "      <td>1.7660</td>\n",
       "    </tr>\n",
       "    <tr>\n",
       "      <th>3457</th>\n",
       "      <td>0.550279</td>\n",
       "      <td>0.519305</td>\n",
       "      <td>2.064</td>\n",
       "      <td>2.146</td>\n",
       "      <td>1.524</td>\n",
       "      <td>9</td>\n",
       "      <td>2451402</td>\n",
       "      <td>2451331</td>\n",
       "      <td>18.936</td>\n",
       "      <td>31.854</td>\n",
       "      <td>15.476</td>\n",
       "      <td>-0.125</td>\n",
       "      <td>66.266</td>\n",
       "      <td>72</td>\n",
       "      <td>599.791754</td>\n",
       "      <td>599.790445</td>\n",
       "      <td>1.3094</td>\n",
       "    </tr>\n",
       "    <tr>\n",
       "      <th>3458</th>\n",
       "      <td>0.480868</td>\n",
       "      <td>0.611153</td>\n",
       "      <td>2.667</td>\n",
       "      <td>2.774</td>\n",
       "      <td>1.970</td>\n",
       "      <td>9</td>\n",
       "      <td>2451993</td>\n",
       "      <td>2451914</td>\n",
       "      <td>21.333</td>\n",
       "      <td>28.226</td>\n",
       "      <td>23.030</td>\n",
       "      <td>-0.161</td>\n",
       "      <td>72.589</td>\n",
       "      <td>80</td>\n",
       "      <td>599.836741</td>\n",
       "      <td>599.835049</td>\n",
       "      <td>1.6924</td>\n",
       "    </tr>\n",
       "  </tbody>\n",
       "</table>\n",
       "<p>3459 rows × 17 columns</p>\n",
       "</div>"
      ],
      "text/plain": [
       "             E         S   bg_a  bg_aa   bg_d  bp    i_end  i_start      na  \\\n",
       "0     0.495162  0.620717  1.981  1.658  1.453   0      770      678  27.019   \n",
       "1     0.130834  0.989612  2.007  1.680  1.472   0     1519     1484   3.993   \n",
       "2     0.538721  0.713506  1.018  0.852  0.746   0     1691     1640  18.982   \n",
       "3     0.543999  0.478300  2.668  2.233  1.957   0     2858     2774  20.332   \n",
       "4     0.273861  0.713707  2.512  2.102  1.842   0     3127     3073   9.488   \n",
       "...        ...       ...    ...    ...    ...  ..      ...      ...     ...   \n",
       "3454  0.401997  0.651045  3.408  3.545  2.517   9  2449049  2448915  32.592   \n",
       "3455  0.103664  0.700395  2.514  2.614  1.857   9  2449619  2449565   3.486   \n",
       "3456  0.477700  0.622401  2.783  2.895  2.056   9  2450467  2450362  29.217   \n",
       "3457  0.550279  0.519305  2.064  2.146  1.524   9  2451402  2451331  18.936   \n",
       "3458  0.480868  0.611153  2.667  2.774  1.970   9  2451993  2451914  21.333   \n",
       "\n",
       "         naa      nd    nda       nt  size_raw       t_end     t_start  \\\n",
       "0     33.342  27.547 -0.118   87.908        93    0.166703    0.164337   \n",
       "1      0.320  26.528 -0.119   30.842        36    0.365637    0.363239   \n",
       "2     14.148  16.254 -0.060   49.384        52    0.384955    0.383739   \n",
       "3     40.767  17.043 -0.158   78.143        85    0.713639    0.710452   \n",
       "4     13.898  25.158 -0.149   48.543        55    0.772941    0.769940   \n",
       "...      ...     ...    ...      ...       ...         ...         ...   \n",
       "3454  43.455  48.483  0.794  124.530       135  599.584805  599.582642   \n",
       "3455  14.386  30.143 -0.152   48.015        55  599.662386  599.660791   \n",
       "3456  37.105  31.944 -0.168   98.267       106  599.726302  599.724536   \n",
       "3457  31.854  15.476 -0.125   66.266        72  599.791754  599.790445   \n",
       "3458  28.226  23.030 -0.161   72.589        80  599.836741  599.835049   \n",
       "\n",
       "      width_ms  \n",
       "0       2.3666  \n",
       "1       2.3974  \n",
       "2       1.2158  \n",
       "3       3.1867  \n",
       "4       3.0008  \n",
       "...        ...  \n",
       "3454    2.1626  \n",
       "3455    1.5950  \n",
       "3456    1.7660  \n",
       "3457    1.3094  \n",
       "3458    1.6924  \n",
       "\n",
       "[3459 rows x 17 columns]"
      ]
     },
     "execution_count": 37,
     "metadata": {},
     "output_type": "execute_result"
    }
   ],
   "source": [
    "bursts_usalex = pd.read_csv('results/bursts_usALEX_{sample}_{ph_sel}_F{F:.1f}_m{m}_size{th}.csv'\n",
    "                            .format(sample=data_id, ph_sel='Dex', m=10, th=30, F=7), index_col=0)\n",
    "bursts_usalex"
   ]
  },
  {
   "cell_type": "code",
   "execution_count": 38,
   "metadata": {
    "collapsed": true
   },
   "outputs": [],
   "source": [
    "Eraw_alex = bursts_usalex.E"
   ]
  },
  {
   "cell_type": "code",
   "execution_count": 39,
   "metadata": {
    "collapsed": true
   },
   "outputs": [],
   "source": [
    "E_alex = fretmath.correct_E_gamma_leak_dir(Eraw_alex, gamma=gammaA, leakage=leakageA, dir_ex_t=dir_ex_tA)"
   ]
  },
  {
   "cell_type": "code",
   "execution_count": 40,
   "metadata": {
    "collapsed": false
   },
   "outputs": [
    {
     "name": "stdout",
     "output_type": "stream",
     "text": [
      "Saved: figures/Multispot vs usALEX FRET hist comp sample 17d\n"
     ]
    },
    {
     "data": {
      "image/png": "[encoded data removed]",
      "text/plain": [
       "<matplotlib.figure.Figure at 0x12aa94400>"
      ]
     },
     "metadata": {
      "image/png": {
       "height": 334,
       "width": 464
      }
     },
     "output_type": "display_data"
    }
   ],
   "source": [
    "kws = dict(bins=np.arange(-0.2, 1.2, 0.025) + 0.5*0.025, histtype='step', lw=1.8)\n",
    "plt.hist(E, label='Multispot', **kws)\n",
    "plt.hist(E_alex, label='μs-ALEX', **kws)\n",
    "plt.legend(loc=2)\n",
    "plt.title('Sample %s: Multispot vs μs-ALEX comparison' % data_id)\n",
    "plt.xlabel('FRET Efficiency')\n",
    "plt.ylabel('# Bursts');\n",
    "savefig('Multispot vs usALEX FRET hist comp sample %s' % data_id)"
   ]
  },
  {
   "cell_type": "code",
   "execution_count": 41,
   "metadata": {
    "collapsed": false
   },
   "outputs": [
    {
     "name": "stdout",
     "output_type": "stream",
     "text": [
      "Saved: figures/Multispot vs usALEX FRET hist comp sample 17d normed\n"
     ]
    },
    {
     "data": {
      "image/png": "[encoded data removed]",
      "text/plain": [
       "<matplotlib.figure.Figure at 0x12aa51048>"
      ]
     },
     "metadata": {
      "image/png": {
       "height": 334,
       "width": 461
      }
     },
     "output_type": "display_data"
    }
   ],
   "source": [
    "kws = dict(bins=np.arange(-0.2, 1.2, 0.025) + 0.5*0.025, histtype='step', lw=1.8, normed=True)\n",
    "plt.hist(E, label='Multispot', **kws)\n",
    "plt.hist(E_alex, label='μs-ALEX', **kws)\n",
    "plt.legend(loc=2)\n",
    "plt.title('Sample %s: Multispot vs μs-ALEX comparison' % data_id)\n",
    "plt.xlabel('FRET Efficiency')\n",
    "plt.ylabel('Probabiltity');\n",
    "savefig('Multispot vs usALEX FRET hist comp sample %s normed' % data_id)"
   ]
  },
  {
   "cell_type": "code",
   "execution_count": 42,
   "metadata": {
    "collapsed": true
   },
   "outputs": [],
   "source": []
  }
 ],
 "metadata": {
  "anaconda-cloud": {},
  "kernelspec": {
   "display_name": "Python [default]",
   "language": "python",
   "name": "python3"
  },
  "language_info": {
   "codemirror_mode": {
    "name": "ipython",
    "version": 3
   },
   "file_extension": ".py",
   "mimetype": "text/x-python",
   "name": "python",
   "nbconvert_exporter": "python",
   "pygments_lexer": "ipython3",
   "version": "3.5.2"
  }
 },
 "nbformat": 4,
 "nbformat_minor": 0
}
