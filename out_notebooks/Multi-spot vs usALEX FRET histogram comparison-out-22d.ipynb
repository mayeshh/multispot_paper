{
 "cells": [
  {
   "cell_type": "markdown",
   "metadata": {},
   "source": [
    "**Executed:** Mon Mar 27 22:24:42 2017\n",
    "\n",
    "**Duration:** 11 seconds."
   ]
  },
  {
   "cell_type": "code",
   "execution_count": 1,
   "metadata": {
    "collapsed": true
   },
   "outputs": [],
   "source": [
    "data_id = '17d'"
   ]
  },
  {
   "cell_type": "code",
   "execution_count": 2,
   "metadata": {},
   "outputs": [],
   "source": [
    "ph_sel_name = \"None\""
   ]
  },
  {
   "cell_type": "code",
   "execution_count": 3,
   "metadata": {},
   "outputs": [],
   "source": [
    "data_id = \"22d\""
   ]
  },
  {
   "cell_type": "markdown",
   "metadata": {},
   "source": [
    "# Multi-spot vs usALEX FRET histogram comparison"
   ]
  },
  {
   "cell_type": "markdown",
   "metadata": {},
   "source": [
    "## Load FRETBursts software"
   ]
  },
  {
   "cell_type": "code",
   "execution_count": 4,
   "metadata": {
    "collapsed": false
   },
   "outputs": [
    {
     "name": "stdout",
     "output_type": "stream",
     "text": [
      " - Optimized (cython) burst search loaded.\n",
      " - Optimized (cython) photon counting loaded.\n"
     ]
    },
    {
     "name": "stdout",
     "output_type": "stream",
     "text": [
      "--------------------------------------------------------------\n",
      " You are running FRETBursts (version 0.5.9).\n",
      "\n",
      " If you use this software please cite the following paper:\n",
      "\n",
      "   FRETBursts: An Open Source Toolkit for Analysis of Freely-Diffusing Single-Molecule FRET\n",
      "   Ingargiola et al. (2016). http://dx.doi.org/10.1371/journal.pone.0160716 \n",
      "\n",
      "--------------------------------------------------------------\n"
     ]
    }
   ],
   "source": [
    "from fretbursts import *\n",
    "sns = init_notebook()"
   ]
  },
  {
   "cell_type": "code",
   "execution_count": 5,
   "metadata": {
    "collapsed": false
   },
   "outputs": [],
   "source": [
    "import os\n",
    "import pandas as pd\n",
    "from IPython.display import display, Math"
   ]
  },
  {
   "cell_type": "code",
   "execution_count": 6,
   "metadata": {
    "collapsed": false
   },
   "outputs": [
    {
     "name": "stdout",
     "output_type": "stream",
     "text": [
      "lmfit version: 0.9.5\n"
     ]
    }
   ],
   "source": [
    "import lmfit\n",
    "print('lmfit version:', lmfit.__version__)"
   ]
  },
  {
   "cell_type": "code",
   "execution_count": 7,
   "metadata": {
    "collapsed": true
   },
   "outputs": [],
   "source": [
    "figure_size = (5, 4)\n",
    "default_figure = lambda: plt.subplots(figsize=figure_size)\n",
    "save_figures = True\n",
    "\n",
    "def savefig(filename, **kwargs):\n",
    "    if not save_figures:\n",
    "        return\n",
    "    import os\n",
    "    dir_ = 'figures/'\n",
    "    kwargs_ = dict(dpi=300, bbox_inches='tight')\n",
    "                   #frameon=True, facecolor='white', transparent=False)\n",
    "    kwargs_.update(kwargs)\n",
    "    plt.savefig(dir_ + filename, **kwargs_)\n",
    "    print('Saved: %s' % (dir_ + filename))"
   ]
  },
  {
   "cell_type": "markdown",
   "metadata": {},
   "source": [
    "## 8-spot paper plot style"
   ]
  },
  {
   "cell_type": "code",
   "execution_count": 8,
   "metadata": {
    "collapsed": false
   },
   "outputs": [],
   "source": [
    "PLOT_DIR = './figure/'"
   ]
  },
  {
   "cell_type": "code",
   "execution_count": 9,
   "metadata": {
    "collapsed": false
   },
   "outputs": [
    {
     "data": {
      "image/png": "[encoded data removed]",
      "text/plain": [
       "<matplotlib.figure.Figure at 0x11c23ee48>"
      ]
     },
     "metadata": {},
     "output_type": "display_data"
    }
   ],
   "source": [
    "import matplotlib as mpl\n",
    "from cycler import cycler\n",
    "\n",
    "bmap = sns.color_palette(\"Set1\", 9)\n",
    "colors = np.array(bmap)[(1,0,2,3,4,8,6,7), :]\n",
    "mpl.rcParams['axes.prop_cycle'] = cycler('color', colors)\n",
    "colors_labels = ['blue', 'red', 'green', 'violet', 'orange', 'gray', 'brown', 'pink', ]\n",
    "for c, cl in zip(colors, colors_labels):\n",
    "    locals()[cl] = tuple(c) # assign variables with color names\n",
    "sns.palplot(colors)"
   ]
  },
  {
   "cell_type": "markdown",
   "metadata": {},
   "source": [
    "## Data files"
   ]
  },
  {
   "cell_type": "markdown",
   "metadata": {},
   "source": [
    "Data folder:"
   ]
  },
  {
   "cell_type": "code",
   "execution_count": 10,
   "metadata": {
    "collapsed": false
   },
   "outputs": [],
   "source": [
    "data_dir = './data/multispot/'"
   ]
  },
  {
   "cell_type": "markdown",
   "metadata": {},
   "source": [
    "Check that the folder exists:"
   ]
  },
  {
   "cell_type": "code",
   "execution_count": 11,
   "metadata": {
    "collapsed": false
   },
   "outputs": [],
   "source": [
    "data_dir = os.path.abspath(data_dir) + '/'\n",
    "assert os.path.exists(data_dir), \"Path '%s' does not exist.\" % data_dir"
   ]
  },
  {
   "cell_type": "markdown",
   "metadata": {},
   "source": [
    "List of data files in `data_dir`:"
   ]
  },
  {
   "cell_type": "code",
   "execution_count": 12,
   "metadata": {
    "collapsed": false
   },
   "outputs": [],
   "source": [
    "from glob import glob\n",
    "file_list = sorted(glob(data_dir + '*_?.hdf5'))"
   ]
  },
  {
   "cell_type": "code",
   "execution_count": 13,
   "metadata": {
    "collapsed": false
   },
   "outputs": [
    {
     "data": {
      "text/plain": [
       "{'12d': '/Users/anto/Google Drive/notebooks/multispot_paper/data/multispot/12d_New_30p_320mW_steer_3.hdf5',\n",
       " '17d': '/Users/anto/Google Drive/notebooks/multispot_paper/data/multispot/17d_100p_320mW_steer_1.hdf5',\n",
       " '22d': '/Users/anto/Google Drive/notebooks/multispot_paper/data/multispot/22d_30p_320mW_steer_1.hdf5',\n",
       " '27d': '/Users/anto/Google Drive/notebooks/multispot_paper/data/multispot/27d_50p_320mW_steer_1.hdf5',\n",
       " '7d': '/Users/anto/Google Drive/notebooks/multispot_paper/data/multispot/7d_New_150p_320mW_steer_3.hdf5',\n",
       " 'DO': '/Users/anto/Google Drive/notebooks/multispot_paper/data/multispot/DO12_No2_50p_320mW_steer_1.hdf5'}"
      ]
     },
     "execution_count": 13,
     "metadata": {},
     "output_type": "execute_result"
    }
   ],
   "source": [
    "labels = ['12d', '7d', '17d', '22d', '27d', 'DO']\n",
    "files_dict = {lab: fname for lab, fname in zip(sorted(labels), file_list)}\n",
    "files_dict"
   ]
  },
  {
   "cell_type": "markdown",
   "metadata": {},
   "source": [
    "## Correction parameters"
   ]
  },
  {
   "cell_type": "markdown",
   "metadata": {},
   "source": [
    "### Multispot"
   ]
  },
  {
   "cell_type": "markdown",
   "metadata": {},
   "source": [
    "Load the **multispot leakage coefficient** from disk (computed in [Multi-spot 5-Samples analyis - Leakage coefficient fit](Multi-spot 5-Samples analyis - Leakage coefficient fit.ipynb)):"
   ]
  },
  {
   "cell_type": "code",
   "execution_count": 14,
   "metadata": {
    "collapsed": false
   },
   "outputs": [
    {
     "name": "stdout",
     "output_type": "stream",
     "text": [
      "Leakage coefficient: [ 0.0334]\n"
     ]
    }
   ],
   "source": [
    "_fname = 'results/Multi-spot - leakage coefficient KDE wmean DexDem.csv'\n",
    "leakageM = np.loadtxt(_fname, ndmin=1)\n",
    "\n",
    "print('Leakage coefficient:', leakageM)"
   ]
  },
  {
   "cell_type": "markdown",
   "metadata": {},
   "source": [
    "Load the **multispot direct excitation coefficient** ($d_{dirT}$) from disk (computed in [usALEX - Corrections - Direct excitation physical parameter](usALEX - Corrections - Direct excitation physical parameter.ipynb)):"
   ]
  },
  {
   "cell_type": "code",
   "execution_count": 15,
   "metadata": {
    "collapsed": false
   },
   "outputs": [
    {
     "name": "stdout",
     "output_type": "stream",
     "text": [
      "Direct excitation coefficient (dir_ex_t): [ 0.04932]\n"
     ]
    }
   ],
   "source": [
    "_fname = 'results/usALEX - direct excitation coefficient dir_ex_t beta.csv'\n",
    "dir_ex_tM = np.loadtxt(_fname, ndmin=1)\n",
    "\n",
    "print('Direct excitation coefficient (dir_ex_t):', dir_ex_tM)"
   ]
  },
  {
   "cell_type": "markdown",
   "metadata": {},
   "source": [
    "Load the **multispot gamma** ($\\gamma_M$) coefficient (computed in [Multi-spot Gamma Fitting](Multi-spot Gamma Fitting.ipynb)):"
   ]
  },
  {
   "cell_type": "code",
   "execution_count": 16,
   "metadata": {
    "collapsed": false
   },
   "outputs": [
    {
     "name": "stdout",
     "output_type": "stream",
     "text": [
      "Multispot gamma coefficient: [ 0.45525]\n"
     ]
    }
   ],
   "source": [
    "_fname = 'results/Multi-spot - gamma factor.csv'\n",
    "gammaM = np.loadtxt(_fname, ndmin=1)\n",
    "\n",
    "print('Multispot gamma coefficient:', gammaM)"
   ]
  },
  {
   "cell_type": "markdown",
   "metadata": {},
   "source": [
    "### usALEX"
   ]
  },
  {
   "cell_type": "markdown",
   "metadata": {},
   "source": [
    "Load the **usALEX leakage coefficient** from disk (computed in [usALEX - Corrections - Leakage fit](usALEX - Corrections - Leakage fit.ipynb)):"
   ]
  },
  {
   "cell_type": "code",
   "execution_count": 17,
   "metadata": {
    "collapsed": false
   },
   "outputs": [
    {
     "name": "stdout",
     "output_type": "stream",
     "text": [
      "usALEX Leakage coefficient: 0.10029\n"
     ]
    }
   ],
   "source": [
    "_fname = 'results/usALEX - leakage coefficient DexDem.csv'\n",
    "leakageA = np.loadtxt(_fname)\n",
    "\n",
    "print('usALEX Leakage coefficient:', leakageA)"
   ]
  },
  {
   "cell_type": "markdown",
   "metadata": {},
   "source": [
    "Load the **usALEX gamma coefficient** (computed in [usALEX - Corrections - Gamma factor fit](usALEX - Corrections - Gamma factor fit.ipynb)):"
   ]
  },
  {
   "cell_type": "code",
   "execution_count": 18,
   "metadata": {
    "collapsed": false
   },
   "outputs": [
    {
     "name": "stdout",
     "output_type": "stream",
     "text": [
      "usALEX Gamma-factor: 1.020526\n"
     ]
    }
   ],
   "source": [
    "_fname = 'results/usALEX - gamma factor - all-ph.csv'\n",
    "gammaA = np.loadtxt(_fname)\n",
    "\n",
    "print('usALEX Gamma-factor:', gammaA)"
   ]
  },
  {
   "cell_type": "markdown",
   "metadata": {},
   "source": [
    "Load the **usALEX beta coefficient** (computed in [usALEX - Corrections - Gamma factor fit](usALEX - Corrections - Gamma factor fit.ipynb)):"
   ]
  },
  {
   "cell_type": "code",
   "execution_count": 19,
   "metadata": {
    "collapsed": false
   },
   "outputs": [
    {
     "name": "stdout",
     "output_type": "stream",
     "text": [
      "usALEX Gamma-factor: 0.813553\n"
     ]
    }
   ],
   "source": [
    "_fname = 'results/usALEX - beta factor - all-ph.csv'\n",
    "betaA = np.loadtxt(_fname)\n",
    "\n",
    "print('usALEX Gamma-factor:', betaA)"
   ]
  },
  {
   "cell_type": "markdown",
   "metadata": {},
   "source": [
    "Load the **usALEX direct-excitation coefficient** ($d_{exAA}$) (computed in [usALEX - Corrections - Direct excitation fit](usALEX - Corrections - Direct excitation fit.ipynb)):"
   ]
  },
  {
   "cell_type": "code",
   "execution_count": 20,
   "metadata": {
    "collapsed": false
   },
   "outputs": [
    {
     "name": "stdout",
     "output_type": "stream",
     "text": [
      "Direct excitation coefficient (dir_ex_aa): 0.06062\n"
     ]
    }
   ],
   "source": [
    "_fname = 'results/usALEX - direct excitation coefficient dir_ex_aa.csv'\n",
    "dir_ex_aa = np.loadtxt(_fname)\n",
    "\n",
    "print('Direct excitation coefficient (dir_ex_aa):', dir_ex_aa)"
   ]
  },
  {
   "cell_type": "markdown",
   "metadata": {},
   "source": [
    "Compute **usALEX direct-excitation coefficient** ($d_{exT}$) (see [usALEX - Corrections - Direct excitation physical parameter](usALEX - Corrections - Direct excitation physical parameter.ipynb)):"
   ]
  },
  {
   "cell_type": "code",
   "execution_count": 21,
   "metadata": {
    "collapsed": false
   },
   "outputs": [
    {
     "data": {
      "text/plain": [
       "0.04931758286"
      ]
     },
     "execution_count": 21,
     "metadata": {},
     "output_type": "execute_result"
    }
   ],
   "source": [
    "dir_ex_tA = betaA * dir_ex_aa\n",
    "dir_ex_tA"
   ]
  },
  {
   "cell_type": "markdown",
   "metadata": {},
   "source": [
    "## Parameters"
   ]
  },
  {
   "cell_type": "markdown",
   "metadata": {},
   "source": [
    "Analysis parameters:"
   ]
  },
  {
   "cell_type": "code",
   "execution_count": 22,
   "metadata": {
    "collapsed": false
   },
   "outputs": [],
   "source": [
    "donor_ref = False    # False -> gamma correction is: g*nd + na\n",
    "                     # True  -> gamma correction is: nd + na/g\n",
    "\n",
    "hist_weights = 'size'\n",
    "\n",
    "## Background fit parameters\n",
    "bg_kwargs_auto = dict(fun=bg.exp_fit,\n",
    "                 time_s = 30,\n",
    "                 tail_min_us = 'auto',\n",
    "                 F_bg=1.7,\n",
    "                 )\n",
    "\n",
    "## Burst search\n",
    "F=6\n",
    "dither = False\n",
    "size_th = 30    # Burst size threshold (selection on corrected burst sizes)\n",
    "\n",
    "## FRET fit parameters\n",
    "bandwidth = 0.03        # KDE bandwidth\n",
    "E_range = {'7d':  (0.7, 1.0), '12d': (0.4, 0.8), '17d': (0.2, 0.4), \n",
    "           '22d': (0.0, 0.1), '27d': (0.0, 0.1), 'DO': (0.0, 0.1)}\n",
    "E_axis_kde = np.arange(-0.2, 1.2, 0.0002)"
   ]
  },
  {
   "cell_type": "markdown",
   "metadata": {},
   "source": [
    "## Utility functions"
   ]
  },
  {
   "cell_type": "code",
   "execution_count": 23,
   "metadata": {
    "collapsed": false
   },
   "outputs": [],
   "source": [
    "def print_fit_report(E_pr, gamma=1, leakage=0, dir_ex_t=0, math=True):\n",
    "    \"\"\"Print fit and standard deviation for both corrected and uncorrected E\n",
    "    Returns d.E_fit.\n",
    "    \"\"\"\n",
    "    E_corr = fretmath.correct_E_gamma_leak_dir(E_pr, gamma=gamma, leakage=leakage, dir_ex_t=dir_ex_t)\n",
    "    \n",
    "    E_pr_mean = E_pr.mean()*100\n",
    "    E_pr_delta = (E_pr.max() - E_pr.min())*100\n",
    "    \n",
    "    E_corr_mean = E_corr.mean()*100\n",
    "    E_corr_delta = (E_corr.max() - E_corr.min())*100\n",
    "    if math:\n",
    "        display(Math(r'\\text{Pre}\\;\\gamma\\quad\\langle{E}_{fit}\\rangle = %.1f\\%% \\qquad'\n",
    "                     '\\Delta E_{fit} = %.2f \\%%' % \\\n",
    "                     (E_pr_mean, E_pr_delta)))\n",
    "        display(Math(r'\\text{Post}\\;\\gamma\\quad\\langle{E}_{fit}\\rangle = %.1f\\%% \\qquad'\n",
    "                     '\\Delta E_{fit} = %.2f \\%%' % \\\n",
    "                     (E_corr_mean, E_corr_delta)))\n",
    "    else:\n",
    "        print('Pre-gamma  E (delta, mean):  %.2f  %.2f' % (E_pr_mean, E_pr_delta))\n",
    "        print('Post-gamma E (delta, mean):  %.2f  %.2f' % (E_corr_mean, E_corr_delta))"
   ]
  },
  {
   "cell_type": "markdown",
   "metadata": {},
   "source": [
    "# Multispot analysis"
   ]
  },
  {
   "cell_type": "code",
   "execution_count": 24,
   "metadata": {
    "collapsed": false
   },
   "outputs": [
    {
     "name": "stdout",
     "output_type": "stream",
     "text": [
      " - Calculating BG rates ... "
     ]
    },
    {
     "name": "stdout",
     "output_type": "stream",
     "text": [
      "[DONE]\n"
     ]
    },
    {
     "name": "stdout",
     "output_type": "stream",
     "text": [
      " - Performing burst search (verbose=False) ..."
     ]
    },
    {
     "name": "stdout",
     "output_type": "stream",
     "text": [
      "[DONE]\n"
     ]
    },
    {
     "name": "stdout",
     "output_type": "stream",
     "text": [
      " - Calculating burst periods ..."
     ]
    },
    {
     "name": "stdout",
     "output_type": "stream",
     "text": [
      "[DONE]\n"
     ]
    },
    {
     "name": "stdout",
     "output_type": "stream",
     "text": [
      " - Counting D and A ph and calculating FRET ... \n"
     ]
    },
    {
     "name": "stdout",
     "output_type": "stream",
     "text": [
      "   - Applying background correction.\n"
     ]
    },
    {
     "name": "stdout",
     "output_type": "stream",
     "text": [
      "   - Applying leakage correction.\n"
     ]
    },
    {
     "name": "stdout",
     "output_type": "stream",
     "text": [
      "   [DONE Counting D/A]\n"
     ]
    }
   ],
   "source": [
    "d = loader.photon_hdf5(files_dict[data_id])\n",
    "d.calc_bg(**bg_kwargs_auto)\n",
    "d.burst_search(m=10, F=F, dither=dither)"
   ]
  },
  {
   "cell_type": "code",
   "execution_count": 25,
   "metadata": {
    "collapsed": false
   },
   "outputs": [
    {
     "data": {
      "text/plain": [
       "242.06434648749999"
      ]
     },
     "execution_count": 25,
     "metadata": {},
     "output_type": "execute_result"
    }
   ],
   "source": [
    "d.time_max"
   ]
  },
  {
   "cell_type": "code",
   "execution_count": 26,
   "metadata": {
    "collapsed": false
   },
   "outputs": [],
   "source": [
    "ds = Sel(d, select_bursts.size, th1=30, gamma=gammaM, donor_ref=donor_ref)"
   ]
  },
  {
   "cell_type": "code",
   "execution_count": 27,
   "metadata": {
    "collapsed": false
   },
   "outputs": [
    {
     "data": {
      "text/plain": [
       "array([343, 259, 369, 518, 367, 299, 458, 484])"
      ]
     },
     "execution_count": 27,
     "metadata": {},
     "output_type": "execute_result"
    }
   ],
   "source": [
    "ds.num_bursts"
   ]
  },
  {
   "cell_type": "code",
   "execution_count": 28,
   "metadata": {
    "collapsed": false
   },
   "outputs": [],
   "source": [
    "# fitter = bext.bursts_fitter(ds)\n",
    "# fitter.histogram(bins=np.r_[-0.2 : 1.2 : bandwidth])\n",
    "# fitter.model = mfit.factory_two_gaussians(add_bridge=False, p2_center=0.4)\n",
    "# fitter.fit_histogram()\n",
    "# display(fitter.params['p2_center'])\n",
    "# print_fit_report(fitter.params['p2_center'], gamma=gammaM, leakage=leakageM, dir_ex_t=dir_ex_tM)"
   ]
  },
  {
   "cell_type": "code",
   "execution_count": 29,
   "metadata": {
    "collapsed": false
   },
   "outputs": [
    {
     "data": {
      "image/png": "[encoded data removed]",
      "text/plain": [
       "<matplotlib.figure.Figure at 0x11e6b6d30>"
      ]
     },
     "metadata": {},
     "output_type": "display_data"
    }
   ],
   "source": [
    "dplot(ds, hist_fret);\n",
    "      #show_model=True, show_fit_stats=True, fit_from='p2_center', show_fit_value=True);"
   ]
  },
  {
   "cell_type": "code",
   "execution_count": 30,
   "metadata": {
    "collapsed": true
   },
   "outputs": [],
   "source": [
    "d_all = ds.collapse()"
   ]
  },
  {
   "cell_type": "code",
   "execution_count": 31,
   "metadata": {
    "collapsed": false
   },
   "outputs": [],
   "source": [
    "d_all_chunk = Sel(d_all, select_bursts.time, time_s2=600/8)"
   ]
  },
  {
   "cell_type": "code",
   "execution_count": 32,
   "metadata": {
    "collapsed": false
   },
   "outputs": [
    {
     "data": {
      "text/plain": [
       "<matplotlib.axes._subplots.AxesSubplot at 0x128e7c908>"
      ]
     },
     "execution_count": 32,
     "metadata": {},
     "output_type": "execute_result"
    },
    {
     "data": {
      "image/png": "[encoded data removed]",
      "text/plain": [
       "<matplotlib.figure.Figure at 0x11c23ea20>"
      ]
     },
     "metadata": {},
     "output_type": "display_data"
    }
   ],
   "source": [
    "dplot(d_all_chunk, hist_fret)"
   ]
  },
  {
   "cell_type": "code",
   "execution_count": 33,
   "metadata": {
    "collapsed": false
   },
   "outputs": [],
   "source": [
    "Eraw = d_all_chunk.E[0]"
   ]
  },
  {
   "cell_type": "code",
   "execution_count": 34,
   "metadata": {
    "collapsed": false
   },
   "outputs": [],
   "source": [
    "E = fretmath.correct_E_gamma_leak_dir(Eraw, gamma=gammaM, leakage=leakageM, dir_ex_t=dir_ex_tM)"
   ]
  },
  {
   "cell_type": "code",
   "execution_count": 35,
   "metadata": {
    "collapsed": false
   },
   "outputs": [],
   "source": [
    "sns.set_style('whitegrid')\n",
    "%config InlineBackend.figure_format='retina'  # for hi-dpi displays"
   ]
  },
  {
   "cell_type": "code",
   "execution_count": 36,
   "metadata": {
    "collapsed": false
   },
   "outputs": [
    {
     "data": {
      "image/png": "[encoded data removed]",
      "text/plain": [
       "<matplotlib.figure.Figure at 0x129cb0550>"
      ]
     },
     "metadata": {
      "image/png": {
       "height": 311,
       "width": 450
      }
     },
     "output_type": "display_data"
    }
   ],
   "source": [
    "plt.hist(E, bins=np.arange(-0.2, 1.2, 0.025) + 0.5*0.025);"
   ]
  },
  {
   "cell_type": "markdown",
   "metadata": {},
   "source": [
    "# Comparison with usALEX"
   ]
  },
  {
   "cell_type": "code",
   "execution_count": 37,
   "metadata": {
    "collapsed": false
   },
   "outputs": [
    {
     "data": {
      "text/html": [
       "<div>\n",
       "<table border=\"1\" class=\"dataframe\">\n",
       "  <thead>\n",
       "    <tr style=\"text-align: right;\">\n",
       "      <th></th>\n",
       "      <th>E</th>\n",
       "      <th>S</th>\n",
       "      <th>bg_a</th>\n",
       "      <th>bg_aa</th>\n",
       "      <th>bg_d</th>\n",
       "      <th>bp</th>\n",
       "      <th>i_end</th>\n",
       "      <th>i_start</th>\n",
       "      <th>na</th>\n",
       "      <th>naa</th>\n",
       "      <th>nd</th>\n",
       "      <th>nda</th>\n",
       "      <th>nt</th>\n",
       "      <th>size_raw</th>\n",
       "      <th>t_end</th>\n",
       "      <th>t_start</th>\n",
       "      <th>width_ms</th>\n",
       "    </tr>\n",
       "  </thead>\n",
       "  <tbody>\n",
       "    <tr>\n",
       "      <th>0</th>\n",
       "      <td>0.101327</td>\n",
       "      <td>0.576924</td>\n",
       "      <td>1.146</td>\n",
       "      <td>1.108</td>\n",
       "      <td>0.819</td>\n",
       "      <td>0</td>\n",
       "      <td>244</td>\n",
       "      <td>176</td>\n",
       "      <td>3.854</td>\n",
       "      <td>27.892</td>\n",
       "      <td>34.181</td>\n",
       "      <td>-0.078</td>\n",
       "      <td>65.927</td>\n",
       "      <td>69</td>\n",
       "      <td>0.019155</td>\n",
       "      <td>0.017787</td>\n",
       "      <td>1.3675</td>\n",
       "    </tr>\n",
       "    <tr>\n",
       "      <th>1</th>\n",
       "      <td>0.291418</td>\n",
       "      <td>0.379612</td>\n",
       "      <td>2.434</td>\n",
       "      <td>2.353</td>\n",
       "      <td>1.740</td>\n",
       "      <td>0</td>\n",
       "      <td>668</td>\n",
       "      <td>576</td>\n",
       "      <td>9.566</td>\n",
       "      <td>53.647</td>\n",
       "      <td>23.260</td>\n",
       "      <td>-0.165</td>\n",
       "      <td>86.473</td>\n",
       "      <td>93</td>\n",
       "      <td>0.075242</td>\n",
       "      <td>0.072338</td>\n",
       "      <td>2.9041</td>\n",
       "    </tr>\n",
       "    <tr>\n",
       "      <th>2</th>\n",
       "      <td>0.306610</td>\n",
       "      <td>0.818797</td>\n",
       "      <td>1.382</td>\n",
       "      <td>1.336</td>\n",
       "      <td>0.988</td>\n",
       "      <td>0</td>\n",
       "      <td>994</td>\n",
       "      <td>949</td>\n",
       "      <td>10.618</td>\n",
       "      <td>7.664</td>\n",
       "      <td>24.012</td>\n",
       "      <td>-0.094</td>\n",
       "      <td>42.293</td>\n",
       "      <td>46</td>\n",
       "      <td>0.097801</td>\n",
       "      <td>0.096152</td>\n",
       "      <td>1.6493</td>\n",
       "    </tr>\n",
       "    <tr>\n",
       "      <th>3</th>\n",
       "      <td>0.141549</td>\n",
       "      <td>0.640530</td>\n",
       "      <td>2.551</td>\n",
       "      <td>2.466</td>\n",
       "      <td>1.824</td>\n",
       "      <td>0</td>\n",
       "      <td>1972</td>\n",
       "      <td>1884</td>\n",
       "      <td>7.449</td>\n",
       "      <td>29.534</td>\n",
       "      <td>45.176</td>\n",
       "      <td>-0.173</td>\n",
       "      <td>82.159</td>\n",
       "      <td>89</td>\n",
       "      <td>0.291788</td>\n",
       "      <td>0.288744</td>\n",
       "      <td>3.0438</td>\n",
       "    </tr>\n",
       "    <tr>\n",
       "      <th>4</th>\n",
       "      <td>0.294684</td>\n",
       "      <td>0.615903</td>\n",
       "      <td>1.983</td>\n",
       "      <td>1.917</td>\n",
       "      <td>1.417</td>\n",
       "      <td>0</td>\n",
       "      <td>2074</td>\n",
       "      <td>2020</td>\n",
       "      <td>9.017</td>\n",
       "      <td>19.083</td>\n",
       "      <td>21.583</td>\n",
       "      <td>-0.134</td>\n",
       "      <td>49.683</td>\n",
       "      <td>55</td>\n",
       "      <td>0.305755</td>\n",
       "      <td>0.303389</td>\n",
       "      <td>2.3658</td>\n",
       "    </tr>\n",
       "    <tr>\n",
       "      <th>...</th>\n",
       "      <td>...</td>\n",
       "      <td>...</td>\n",
       "      <td>...</td>\n",
       "      <td>...</td>\n",
       "      <td>...</td>\n",
       "      <td>...</td>\n",
       "      <td>...</td>\n",
       "      <td>...</td>\n",
       "      <td>...</td>\n",
       "      <td>...</td>\n",
       "      <td>...</td>\n",
       "      <td>...</td>\n",
       "      <td>...</td>\n",
       "      <td>...</td>\n",
       "      <td>...</td>\n",
       "      <td>...</td>\n",
       "      <td>...</td>\n",
       "    </tr>\n",
       "    <tr>\n",
       "      <th>2793</th>\n",
       "      <td>0.203951</td>\n",
       "      <td>0.859869</td>\n",
       "      <td>2.640</td>\n",
       "      <td>2.526</td>\n",
       "      <td>1.951</td>\n",
       "      <td>9</td>\n",
       "      <td>2095524</td>\n",
       "      <td>2095436</td>\n",
       "      <td>14.360</td>\n",
       "      <td>11.474</td>\n",
       "      <td>56.049</td>\n",
       "      <td>-0.156</td>\n",
       "      <td>81.884</td>\n",
       "      <td>89</td>\n",
       "      <td>597.349493</td>\n",
       "      <td>597.346186</td>\n",
       "      <td>3.3070</td>\n",
       "    </tr>\n",
       "    <tr>\n",
       "      <th>2794</th>\n",
       "      <td>0.276357</td>\n",
       "      <td>0.609822</td>\n",
       "      <td>1.464</td>\n",
       "      <td>1.401</td>\n",
       "      <td>1.082</td>\n",
       "      <td>9</td>\n",
       "      <td>2096836</td>\n",
       "      <td>2096729</td>\n",
       "      <td>17.536</td>\n",
       "      <td>40.599</td>\n",
       "      <td>45.918</td>\n",
       "      <td>-0.087</td>\n",
       "      <td>104.054</td>\n",
       "      <td>108</td>\n",
       "      <td>597.733336</td>\n",
       "      <td>597.731502</td>\n",
       "      <td>1.8338</td>\n",
       "    </tr>\n",
       "    <tr>\n",
       "      <th>2795</th>\n",
       "      <td>0.095553</td>\n",
       "      <td>0.931480</td>\n",
       "      <td>2.039</td>\n",
       "      <td>1.951</td>\n",
       "      <td>1.507</td>\n",
       "      <td>9</td>\n",
       "      <td>2097207</td>\n",
       "      <td>2097158</td>\n",
       "      <td>3.961</td>\n",
       "      <td>3.049</td>\n",
       "      <td>37.493</td>\n",
       "      <td>-0.121</td>\n",
       "      <td>44.504</td>\n",
       "      <td>50</td>\n",
       "      <td>597.847055</td>\n",
       "      <td>597.844501</td>\n",
       "      <td>2.5542</td>\n",
       "    </tr>\n",
       "    <tr>\n",
       "      <th>2796</th>\n",
       "      <td>0.094269</td>\n",
       "      <td>0.995352</td>\n",
       "      <td>1.877</td>\n",
       "      <td>1.796</td>\n",
       "      <td>1.387</td>\n",
       "      <td>9</td>\n",
       "      <td>2097256</td>\n",
       "      <td>2097207</td>\n",
       "      <td>4.123</td>\n",
       "      <td>0.204</td>\n",
       "      <td>39.613</td>\n",
       "      <td>0.889</td>\n",
       "      <td>43.940</td>\n",
       "      <td>50</td>\n",
       "      <td>597.849406</td>\n",
       "      <td>597.847055</td>\n",
       "      <td>2.3514</td>\n",
       "    </tr>\n",
       "    <tr>\n",
       "      <th>2797</th>\n",
       "      <td>0.384077</td>\n",
       "      <td>0.611101</td>\n",
       "      <td>2.439</td>\n",
       "      <td>2.334</td>\n",
       "      <td>1.802</td>\n",
       "      <td>9</td>\n",
       "      <td>2098083</td>\n",
       "      <td>2097960</td>\n",
       "      <td>27.561</td>\n",
       "      <td>45.666</td>\n",
       "      <td>44.198</td>\n",
       "      <td>-0.144</td>\n",
       "      <td>117.425</td>\n",
       "      <td>124</td>\n",
       "      <td>598.049057</td>\n",
       "      <td>598.046002</td>\n",
       "      <td>3.0556</td>\n",
       "    </tr>\n",
       "  </tbody>\n",
       "</table>\n",
       "<p>2798 rows × 17 columns</p>\n",
       "</div>"
      ],
      "text/plain": [
       "             E         S   bg_a  bg_aa   bg_d  bp    i_end  i_start      na  \\\n",
       "0     0.101327  0.576924  1.146  1.108  0.819   0      244      176   3.854   \n",
       "1     0.291418  0.379612  2.434  2.353  1.740   0      668      576   9.566   \n",
       "2     0.306610  0.818797  1.382  1.336  0.988   0      994      949  10.618   \n",
       "3     0.141549  0.640530  2.551  2.466  1.824   0     1972     1884   7.449   \n",
       "4     0.294684  0.615903  1.983  1.917  1.417   0     2074     2020   9.017   \n",
       "...        ...       ...    ...    ...    ...  ..      ...      ...     ...   \n",
       "2793  0.203951  0.859869  2.640  2.526  1.951   9  2095524  2095436  14.360   \n",
       "2794  0.276357  0.609822  1.464  1.401  1.082   9  2096836  2096729  17.536   \n",
       "2795  0.095553  0.931480  2.039  1.951  1.507   9  2097207  2097158   3.961   \n",
       "2796  0.094269  0.995352  1.877  1.796  1.387   9  2097256  2097207   4.123   \n",
       "2797  0.384077  0.611101  2.439  2.334  1.802   9  2098083  2097960  27.561   \n",
       "\n",
       "         naa      nd    nda       nt  size_raw       t_end     t_start  \\\n",
       "0     27.892  34.181 -0.078   65.927        69    0.019155    0.017787   \n",
       "1     53.647  23.260 -0.165   86.473        93    0.075242    0.072338   \n",
       "2      7.664  24.012 -0.094   42.293        46    0.097801    0.096152   \n",
       "3     29.534  45.176 -0.173   82.159        89    0.291788    0.288744   \n",
       "4     19.083  21.583 -0.134   49.683        55    0.305755    0.303389   \n",
       "...      ...     ...    ...      ...       ...         ...         ...   \n",
       "2793  11.474  56.049 -0.156   81.884        89  597.349493  597.346186   \n",
       "2794  40.599  45.918 -0.087  104.054       108  597.733336  597.731502   \n",
       "2795   3.049  37.493 -0.121   44.504        50  597.847055  597.844501   \n",
       "2796   0.204  39.613  0.889   43.940        50  597.849406  597.847055   \n",
       "2797  45.666  44.198 -0.144  117.425       124  598.049057  598.046002   \n",
       "\n",
       "      width_ms  \n",
       "0       1.3675  \n",
       "1       2.9041  \n",
       "2       1.6493  \n",
       "3       3.0438  \n",
       "4       2.3658  \n",
       "...        ...  \n",
       "2793    3.3070  \n",
       "2794    1.8338  \n",
       "2795    2.5542  \n",
       "2796    2.3514  \n",
       "2797    3.0556  \n",
       "\n",
       "[2798 rows x 17 columns]"
      ]
     },
     "execution_count": 37,
     "metadata": {},
     "output_type": "execute_result"
    }
   ],
   "source": [
    "bursts_usalex = pd.read_csv('results/bursts_usALEX_{sample}_{ph_sel}_F{F:.1f}_m{m}_size{th}.csv'\n",
    "                            .format(sample=data_id, ph_sel='Dex', m=10, th=30, F=7), index_col=0)\n",
    "bursts_usalex"
   ]
  },
  {
   "cell_type": "code",
   "execution_count": 38,
   "metadata": {
    "collapsed": true
   },
   "outputs": [],
   "source": [
    "Eraw_alex = bursts_usalex.E"
   ]
  },
  {
   "cell_type": "code",
   "execution_count": 39,
   "metadata": {
    "collapsed": true
   },
   "outputs": [],
   "source": [
    "E_alex = fretmath.correct_E_gamma_leak_dir(Eraw_alex, gamma=gammaA, leakage=leakageA, dir_ex_t=dir_ex_tA)"
   ]
  },
  {
   "cell_type": "code",
   "execution_count": 40,
   "metadata": {
    "collapsed": false
   },
   "outputs": [
    {
     "name": "stdout",
     "output_type": "stream",
     "text": [
      "Saved: figures/Multispot vs usALEX FRET hist comp sample 22d\n"
     ]
    },
    {
     "data": {
      "image/png": "[encoded data removed]",
      "text/plain": [
       "<matplotlib.figure.Figure at 0x129c36320>"
      ]
     },
     "metadata": {
      "image/png": {
       "height": 334,
       "width": 464
      }
     },
     "output_type": "display_data"
    }
   ],
   "source": [
    "kws = dict(bins=np.arange(-0.2, 1.2, 0.025) + 0.5*0.025, histtype='step', lw=1.8)\n",
    "plt.hist(E, label='Multispot', **kws)\n",
    "plt.hist(E_alex, label='μs-ALEX', **kws)\n",
    "plt.legend(loc=2)\n",
    "plt.title('Sample %s: Multispot vs μs-ALEX comparison' % data_id)\n",
    "plt.xlabel('FRET Efficiency')\n",
    "plt.ylabel('# Bursts');\n",
    "savefig('Multispot vs usALEX FRET hist comp sample %s' % data_id)"
   ]
  },
  {
   "cell_type": "code",
   "execution_count": 41,
   "metadata": {
    "collapsed": false
   },
   "outputs": [
    {
     "name": "stdout",
     "output_type": "stream",
     "text": [
      "Saved: figures/Multispot vs usALEX FRET hist comp sample 22d normed\n"
     ]
    },
    {
     "data": {
      "image/png": "[encoded data removed]",
      "text/plain": [
       "<matplotlib.figure.Figure at 0x11e686c88>"
      ]
     },
     "metadata": {
      "image/png": {
       "height": 334,
       "width": 461
      }
     },
     "output_type": "display_data"
    }
   ],
   "source": [
    "kws = dict(bins=np.arange(-0.2, 1.2, 0.025) + 0.5*0.025, histtype='step', lw=1.8, normed=True)\n",
    "plt.hist(E, label='Multispot', **kws)\n",
    "plt.hist(E_alex, label='μs-ALEX', **kws)\n",
    "plt.legend(loc=2)\n",
    "plt.title('Sample %s: Multispot vs μs-ALEX comparison' % data_id)\n",
    "plt.xlabel('FRET Efficiency')\n",
    "plt.ylabel('Probabiltity');\n",
    "savefig('Multispot vs usALEX FRET hist comp sample %s normed' % data_id)"
   ]
  },
  {
   "cell_type": "code",
   "execution_count": 42,
   "metadata": {
    "collapsed": true
   },
   "outputs": [],
   "source": []
  }
 ],
 "metadata": {
  "anaconda-cloud": {},
  "kernelspec": {
   "display_name": "Python [default]",
   "language": "python",
   "name": "python3"
  },
  "language_info": {
   "codemirror_mode": {
    "name": "ipython",
    "version": 3
   },
   "file_extension": ".py",
   "mimetype": "text/x-python",
   "name": "python",
   "nbconvert_exporter": "python",
   "pygments_lexer": "ipython3",
   "version": "3.5.2"
  }
 },
 "nbformat": 4,
 "nbformat_minor": 0
}
