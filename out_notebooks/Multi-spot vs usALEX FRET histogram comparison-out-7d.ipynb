{
 "cells": [
  {
   "cell_type": "markdown",
   "metadata": {},
   "source": [
    "**Executed:** Mon Mar 27 22:24:08 2017\n",
    "\n",
    "**Duration:** 10 seconds."
   ]
  },
  {
   "cell_type": "code",
   "execution_count": 1,
   "metadata": {
    "collapsed": true
   },
   "outputs": [],
   "source": [
    "data_id = '17d'"
   ]
  },
  {
   "cell_type": "code",
   "execution_count": 2,
   "metadata": {},
   "outputs": [],
   "source": [
    "ph_sel_name = \"None\""
   ]
  },
  {
   "cell_type": "code",
   "execution_count": 3,
   "metadata": {},
   "outputs": [],
   "source": [
    "data_id = \"7d\""
   ]
  },
  {
   "cell_type": "markdown",
   "metadata": {},
   "source": [
    "# Multi-spot vs usALEX FRET histogram comparison"
   ]
  },
  {
   "cell_type": "markdown",
   "metadata": {},
   "source": [
    "## Load FRETBursts software"
   ]
  },
  {
   "cell_type": "code",
   "execution_count": 4,
   "metadata": {
    "collapsed": false
   },
   "outputs": [
    {
     "name": "stdout",
     "output_type": "stream",
     "text": [
      " - Optimized (cython) burst search loaded.\n",
      " - Optimized (cython) photon counting loaded.\n"
     ]
    },
    {
     "name": "stdout",
     "output_type": "stream",
     "text": [
      "--------------------------------------------------------------\n",
      " You are running FRETBursts (version 0.5.9).\n",
      "\n",
      " If you use this software please cite the following paper:\n",
      "\n",
      "   FRETBursts: An Open Source Toolkit for Analysis of Freely-Diffusing Single-Molecule FRET\n",
      "   Ingargiola et al. (2016). http://dx.doi.org/10.1371/journal.pone.0160716 \n",
      "\n",
      "--------------------------------------------------------------\n"
     ]
    }
   ],
   "source": [
    "from fretbursts import *\n",
    "sns = init_notebook()"
   ]
  },
  {
   "cell_type": "code",
   "execution_count": 5,
   "metadata": {
    "collapsed": false
   },
   "outputs": [],
   "source": [
    "import os\n",
    "import pandas as pd\n",
    "from IPython.display import display, Math"
   ]
  },
  {
   "cell_type": "code",
   "execution_count": 6,
   "metadata": {
    "collapsed": false
   },
   "outputs": [
    {
     "name": "stdout",
     "output_type": "stream",
     "text": [
      "lmfit version: 0.9.5\n"
     ]
    }
   ],
   "source": [
    "import lmfit\n",
    "print('lmfit version:', lmfit.__version__)"
   ]
  },
  {
   "cell_type": "code",
   "execution_count": 7,
   "metadata": {
    "collapsed": true
   },
   "outputs": [],
   "source": [
    "figure_size = (5, 4)\n",
    "default_figure = lambda: plt.subplots(figsize=figure_size)\n",
    "save_figures = True\n",
    "\n",
    "def savefig(filename, **kwargs):\n",
    "    if not save_figures:\n",
    "        return\n",
    "    import os\n",
    "    dir_ = 'figures/'\n",
    "    kwargs_ = dict(dpi=300, bbox_inches='tight')\n",
    "                   #frameon=True, facecolor='white', transparent=False)\n",
    "    kwargs_.update(kwargs)\n",
    "    plt.savefig(dir_ + filename, **kwargs_)\n",
    "    print('Saved: %s' % (dir_ + filename))"
   ]
  },
  {
   "cell_type": "markdown",
   "metadata": {},
   "source": [
    "## 8-spot paper plot style"
   ]
  },
  {
   "cell_type": "code",
   "execution_count": 8,
   "metadata": {
    "collapsed": false
   },
   "outputs": [],
   "source": [
    "PLOT_DIR = './figure/'"
   ]
  },
  {
   "cell_type": "code",
   "execution_count": 9,
   "metadata": {
    "collapsed": false
   },
   "outputs": [
    {
     "data": {
      "image/png": "[encoded data removed]",
      "text/plain": [
       "<matplotlib.figure.Figure at 0x11c948390>"
      ]
     },
     "metadata": {},
     "output_type": "display_data"
    }
   ],
   "source": [
    "import matplotlib as mpl\n",
    "from cycler import cycler\n",
    "\n",
    "bmap = sns.color_palette(\"Set1\", 9)\n",
    "colors = np.array(bmap)[(1,0,2,3,4,8,6,7), :]\n",
    "mpl.rcParams['axes.prop_cycle'] = cycler('color', colors)\n",
    "colors_labels = ['blue', 'red', 'green', 'violet', 'orange', 'gray', 'brown', 'pink', ]\n",
    "for c, cl in zip(colors, colors_labels):\n",
    "    locals()[cl] = tuple(c) # assign variables with color names\n",
    "sns.palplot(colors)"
   ]
  },
  {
   "cell_type": "markdown",
   "metadata": {},
   "source": [
    "## Data files"
   ]
  },
  {
   "cell_type": "markdown",
   "metadata": {},
   "source": [
    "Data folder:"
   ]
  },
  {
   "cell_type": "code",
   "execution_count": 10,
   "metadata": {
    "collapsed": false
   },
   "outputs": [],
   "source": [
    "data_dir = './data/multispot/'"
   ]
  },
  {
   "cell_type": "markdown",
   "metadata": {},
   "source": [
    "Check that the folder exists:"
   ]
  },
  {
   "cell_type": "code",
   "execution_count": 11,
   "metadata": {
    "collapsed": false
   },
   "outputs": [],
   "source": [
    "data_dir = os.path.abspath(data_dir) + '/'\n",
    "assert os.path.exists(data_dir), \"Path '%s' does not exist.\" % data_dir"
   ]
  },
  {
   "cell_type": "markdown",
   "metadata": {},
   "source": [
    "List of data files in `data_dir`:"
   ]
  },
  {
   "cell_type": "code",
   "execution_count": 12,
   "metadata": {
    "collapsed": false
   },
   "outputs": [],
   "source": [
    "from glob import glob\n",
    "file_list = sorted(glob(data_dir + '*_?.hdf5'))"
   ]
  },
  {
   "cell_type": "code",
   "execution_count": 13,
   "metadata": {
    "collapsed": false
   },
   "outputs": [
    {
     "data": {
      "text/plain": [
       "{'12d': '/Users/anto/Google Drive/notebooks/multispot_paper/data/multispot/12d_New_30p_320mW_steer_3.hdf5',\n",
       " '17d': '/Users/anto/Google Drive/notebooks/multispot_paper/data/multispot/17d_100p_320mW_steer_1.hdf5',\n",
       " '22d': '/Users/anto/Google Drive/notebooks/multispot_paper/data/multispot/22d_30p_320mW_steer_1.hdf5',\n",
       " '27d': '/Users/anto/Google Drive/notebooks/multispot_paper/data/multispot/27d_50p_320mW_steer_1.hdf5',\n",
       " '7d': '/Users/anto/Google Drive/notebooks/multispot_paper/data/multispot/7d_New_150p_320mW_steer_3.hdf5',\n",
       " 'DO': '/Users/anto/Google Drive/notebooks/multispot_paper/data/multispot/DO12_No2_50p_320mW_steer_1.hdf5'}"
      ]
     },
     "execution_count": 13,
     "metadata": {},
     "output_type": "execute_result"
    }
   ],
   "source": [
    "labels = ['12d', '7d', '17d', '22d', '27d', 'DO']\n",
    "files_dict = {lab: fname for lab, fname in zip(sorted(labels), file_list)}\n",
    "files_dict"
   ]
  },
  {
   "cell_type": "markdown",
   "metadata": {},
   "source": [
    "## Correction parameters"
   ]
  },
  {
   "cell_type": "markdown",
   "metadata": {},
   "source": [
    "### Multispot"
   ]
  },
  {
   "cell_type": "markdown",
   "metadata": {},
   "source": [
    "Load the **multispot leakage coefficient** from disk (computed in [Multi-spot 5-Samples analyis - Leakage coefficient fit](Multi-spot 5-Samples analyis - Leakage coefficient fit.ipynb)):"
   ]
  },
  {
   "cell_type": "code",
   "execution_count": 14,
   "metadata": {
    "collapsed": false
   },
   "outputs": [
    {
     "name": "stdout",
     "output_type": "stream",
     "text": [
      "Leakage coefficient: [ 0.0334]\n"
     ]
    }
   ],
   "source": [
    "_fname = 'results/Multi-spot - leakage coefficient KDE wmean DexDem.csv'\n",
    "leakageM = np.loadtxt(_fname, ndmin=1)\n",
    "\n",
    "print('Leakage coefficient:', leakageM)"
   ]
  },
  {
   "cell_type": "markdown",
   "metadata": {},
   "source": [
    "Load the **multispot direct excitation coefficient** ($d_{dirT}$) from disk (computed in [usALEX - Corrections - Direct excitation physical parameter](usALEX - Corrections - Direct excitation physical parameter.ipynb)):"
   ]
  },
  {
   "cell_type": "code",
   "execution_count": 15,
   "metadata": {
    "collapsed": false
   },
   "outputs": [
    {
     "name": "stdout",
     "output_type": "stream",
     "text": [
      "Direct excitation coefficient (dir_ex_t): [ 0.04932]\n"
     ]
    }
   ],
   "source": [
    "_fname = 'results/usALEX - direct excitation coefficient dir_ex_t beta.csv'\n",
    "dir_ex_tM = np.loadtxt(_fname, ndmin=1)\n",
    "\n",
    "print('Direct excitation coefficient (dir_ex_t):', dir_ex_tM)"
   ]
  },
  {
   "cell_type": "markdown",
   "metadata": {},
   "source": [
    "Load the **multispot gamma** ($\\gamma_M$) coefficient (computed in [Multi-spot Gamma Fitting](Multi-spot Gamma Fitting.ipynb)):"
   ]
  },
  {
   "cell_type": "code",
   "execution_count": 16,
   "metadata": {
    "collapsed": false
   },
   "outputs": [
    {
     "name": "stdout",
     "output_type": "stream",
     "text": [
      "Multispot gamma coefficient: [ 0.45525]\n"
     ]
    }
   ],
   "source": [
    "_fname = 'results/Multi-spot - gamma factor.csv'\n",
    "gammaM = np.loadtxt(_fname, ndmin=1)\n",
    "\n",
    "print('Multispot gamma coefficient:', gammaM)"
   ]
  },
  {
   "cell_type": "markdown",
   "metadata": {},
   "source": [
    "### usALEX"
   ]
  },
  {
   "cell_type": "markdown",
   "metadata": {},
   "source": [
    "Load the **usALEX leakage coefficient** from disk (computed in [usALEX - Corrections - Leakage fit](usALEX - Corrections - Leakage fit.ipynb)):"
   ]
  },
  {
   "cell_type": "code",
   "execution_count": 17,
   "metadata": {
    "collapsed": false
   },
   "outputs": [
    {
     "name": "stdout",
     "output_type": "stream",
     "text": [
      "usALEX Leakage coefficient: 0.10029\n"
     ]
    }
   ],
   "source": [
    "_fname = 'results/usALEX - leakage coefficient DexDem.csv'\n",
    "leakageA = np.loadtxt(_fname)\n",
    "\n",
    "print('usALEX Leakage coefficient:', leakageA)"
   ]
  },
  {
   "cell_type": "markdown",
   "metadata": {},
   "source": [
    "Load the **usALEX gamma coefficient** (computed in [usALEX - Corrections - Gamma factor fit](usALEX - Corrections - Gamma factor fit.ipynb)):"
   ]
  },
  {
   "cell_type": "code",
   "execution_count": 18,
   "metadata": {
    "collapsed": false
   },
   "outputs": [
    {
     "name": "stdout",
     "output_type": "stream",
     "text": [
      "usALEX Gamma-factor: 1.020526\n"
     ]
    }
   ],
   "source": [
    "_fname = 'results/usALEX - gamma factor - all-ph.csv'\n",
    "gammaA = np.loadtxt(_fname)\n",
    "\n",
    "print('usALEX Gamma-factor:', gammaA)"
   ]
  },
  {
   "cell_type": "markdown",
   "metadata": {},
   "source": [
    "Load the **usALEX beta coefficient** (computed in [usALEX - Corrections - Gamma factor fit](usALEX - Corrections - Gamma factor fit.ipynb)):"
   ]
  },
  {
   "cell_type": "code",
   "execution_count": 19,
   "metadata": {
    "collapsed": false
   },
   "outputs": [
    {
     "name": "stdout",
     "output_type": "stream",
     "text": [
      "usALEX Gamma-factor: 0.813553\n"
     ]
    }
   ],
   "source": [
    "_fname = 'results/usALEX - beta factor - all-ph.csv'\n",
    "betaA = np.loadtxt(_fname)\n",
    "\n",
    "print('usALEX Gamma-factor:', betaA)"
   ]
  },
  {
   "cell_type": "markdown",
   "metadata": {},
   "source": [
    "Load the **usALEX direct-excitation coefficient** ($d_{exAA}$) (computed in [usALEX - Corrections - Direct excitation fit](usALEX - Corrections - Direct excitation fit.ipynb)):"
   ]
  },
  {
   "cell_type": "code",
   "execution_count": 20,
   "metadata": {
    "collapsed": false
   },
   "outputs": [
    {
     "name": "stdout",
     "output_type": "stream",
     "text": [
      "Direct excitation coefficient (dir_ex_aa): 0.06062\n"
     ]
    }
   ],
   "source": [
    "_fname = 'results/usALEX - direct excitation coefficient dir_ex_aa.csv'\n",
    "dir_ex_aa = np.loadtxt(_fname)\n",
    "\n",
    "print('Direct excitation coefficient (dir_ex_aa):', dir_ex_aa)"
   ]
  },
  {
   "cell_type": "markdown",
   "metadata": {},
   "source": [
    "Compute **usALEX direct-excitation coefficient** ($d_{exT}$) (see [usALEX - Corrections - Direct excitation physical parameter](usALEX - Corrections - Direct excitation physical parameter.ipynb)):"
   ]
  },
  {
   "cell_type": "code",
   "execution_count": 21,
   "metadata": {
    "collapsed": false
   },
   "outputs": [
    {
     "data": {
      "text/plain": [
       "0.04931758286"
      ]
     },
     "execution_count": 21,
     "metadata": {},
     "output_type": "execute_result"
    }
   ],
   "source": [
    "dir_ex_tA = betaA * dir_ex_aa\n",
    "dir_ex_tA"
   ]
  },
  {
   "cell_type": "markdown",
   "metadata": {},
   "source": [
    "## Parameters"
   ]
  },
  {
   "cell_type": "markdown",
   "metadata": {},
   "source": [
    "Analysis parameters:"
   ]
  },
  {
   "cell_type": "code",
   "execution_count": 22,
   "metadata": {
    "collapsed": false
   },
   "outputs": [],
   "source": [
    "donor_ref = False    # False -> gamma correction is: g*nd + na\n",
    "                     # True  -> gamma correction is: nd + na/g\n",
    "\n",
    "hist_weights = 'size'\n",
    "\n",
    "## Background fit parameters\n",
    "bg_kwargs_auto = dict(fun=bg.exp_fit,\n",
    "                 time_s = 30,\n",
    "                 tail_min_us = 'auto',\n",
    "                 F_bg=1.7,\n",
    "                 )\n",
    "\n",
    "## Burst search\n",
    "F=6\n",
    "dither = False\n",
    "size_th = 30    # Burst size threshold (selection on corrected burst sizes)\n",
    "\n",
    "## FRET fit parameters\n",
    "bandwidth = 0.03        # KDE bandwidth\n",
    "E_range = {'7d':  (0.7, 1.0), '12d': (0.4, 0.8), '17d': (0.2, 0.4), \n",
    "           '22d': (0.0, 0.1), '27d': (0.0, 0.1), 'DO': (0.0, 0.1)}\n",
    "E_axis_kde = np.arange(-0.2, 1.2, 0.0002)"
   ]
  },
  {
   "cell_type": "markdown",
   "metadata": {},
   "source": [
    "## Utility functions"
   ]
  },
  {
   "cell_type": "code",
   "execution_count": 23,
   "metadata": {
    "collapsed": false
   },
   "outputs": [],
   "source": [
    "def print_fit_report(E_pr, gamma=1, leakage=0, dir_ex_t=0, math=True):\n",
    "    \"\"\"Print fit and standard deviation for both corrected and uncorrected E\n",
    "    Returns d.E_fit.\n",
    "    \"\"\"\n",
    "    E_corr = fretmath.correct_E_gamma_leak_dir(E_pr, gamma=gamma, leakage=leakage, dir_ex_t=dir_ex_t)\n",
    "    \n",
    "    E_pr_mean = E_pr.mean()*100\n",
    "    E_pr_delta = (E_pr.max() - E_pr.min())*100\n",
    "    \n",
    "    E_corr_mean = E_corr.mean()*100\n",
    "    E_corr_delta = (E_corr.max() - E_corr.min())*100\n",
    "    if math:\n",
    "        display(Math(r'\\text{Pre}\\;\\gamma\\quad\\langle{E}_{fit}\\rangle = %.1f\\%% \\qquad'\n",
    "                     '\\Delta E_{fit} = %.2f \\%%' % \\\n",
    "                     (E_pr_mean, E_pr_delta)))\n",
    "        display(Math(r'\\text{Post}\\;\\gamma\\quad\\langle{E}_{fit}\\rangle = %.1f\\%% \\qquad'\n",
    "                     '\\Delta E_{fit} = %.2f \\%%' % \\\n",
    "                     (E_corr_mean, E_corr_delta)))\n",
    "    else:\n",
    "        print('Pre-gamma  E (delta, mean):  %.2f  %.2f' % (E_pr_mean, E_pr_delta))\n",
    "        print('Post-gamma E (delta, mean):  %.2f  %.2f' % (E_corr_mean, E_corr_delta))"
   ]
  },
  {
   "cell_type": "markdown",
   "metadata": {},
   "source": [
    "# Multispot analysis"
   ]
  },
  {
   "cell_type": "code",
   "execution_count": 24,
   "metadata": {
    "collapsed": false
   },
   "outputs": [
    {
     "name": "stdout",
     "output_type": "stream",
     "text": [
      " - Calculating BG rates ... "
     ]
    },
    {
     "name": "stdout",
     "output_type": "stream",
     "text": [
      "[DONE]\n"
     ]
    },
    {
     "name": "stdout",
     "output_type": "stream",
     "text": [
      " - Performing burst search (verbose=False) ..."
     ]
    },
    {
     "name": "stdout",
     "output_type": "stream",
     "text": [
      "[DONE]\n"
     ]
    },
    {
     "name": "stdout",
     "output_type": "stream",
     "text": [
      " - Calculating burst periods ..."
     ]
    },
    {
     "name": "stdout",
     "output_type": "stream",
     "text": [
      "[DONE]\n"
     ]
    },
    {
     "name": "stdout",
     "output_type": "stream",
     "text": [
      " - Counting D and A ph and calculating FRET ... \n"
     ]
    },
    {
     "name": "stdout",
     "output_type": "stream",
     "text": [
      "   - Applying background correction.\n"
     ]
    },
    {
     "name": "stdout",
     "output_type": "stream",
     "text": [
      "   - Applying leakage correction.\n"
     ]
    },
    {
     "name": "stdout",
     "output_type": "stream",
     "text": [
      "   [DONE Counting D/A]\n"
     ]
    }
   ],
   "source": [
    "d = loader.photon_hdf5(files_dict[data_id])\n",
    "d.calc_bg(**bg_kwargs_auto)\n",
    "d.burst_search(m=10, F=F, dither=dither)"
   ]
  },
  {
   "cell_type": "code",
   "execution_count": 25,
   "metadata": {
    "collapsed": false
   },
   "outputs": [
    {
     "data": {
      "text/plain": [
       "206.5423473875"
      ]
     },
     "execution_count": 25,
     "metadata": {},
     "output_type": "execute_result"
    }
   ],
   "source": [
    "d.time_max"
   ]
  },
  {
   "cell_type": "code",
   "execution_count": 26,
   "metadata": {
    "collapsed": false
   },
   "outputs": [],
   "source": [
    "ds = Sel(d, select_bursts.size, th1=30, gamma=gammaM, donor_ref=donor_ref)"
   ]
  },
  {
   "cell_type": "code",
   "execution_count": 27,
   "metadata": {
    "collapsed": false
   },
   "outputs": [
    {
     "data": {
      "text/plain": [
       "array([ 970,  377, 1049, 1573, 1440,  673, 1685, 1871])"
      ]
     },
     "execution_count": 27,
     "metadata": {},
     "output_type": "execute_result"
    }
   ],
   "source": [
    "ds.num_bursts"
   ]
  },
  {
   "cell_type": "code",
   "execution_count": 28,
   "metadata": {
    "collapsed": false
   },
   "outputs": [],
   "source": [
    "# fitter = bext.bursts_fitter(ds)\n",
    "# fitter.histogram(bins=np.r_[-0.2 : 1.2 : bandwidth])\n",
    "# fitter.model = mfit.factory_two_gaussians(add_bridge=False, p2_center=0.4)\n",
    "# fitter.fit_histogram()\n",
    "# display(fitter.params['p2_center'])\n",
    "# print_fit_report(fitter.params['p2_center'], gamma=gammaM, leakage=leakageM, dir_ex_t=dir_ex_tM)"
   ]
  },
  {
   "cell_type": "code",
   "execution_count": 29,
   "metadata": {
    "collapsed": false
   },
   "outputs": [
    {
     "data": {
      "image/png": "[encoded data removed]",
      "text/plain": [
       "<matplotlib.figure.Figure at 0x11c948b70>"
      ]
     },
     "metadata": {},
     "output_type": "display_data"
    }
   ],
   "source": [
    "dplot(ds, hist_fret);\n",
    "      #show_model=True, show_fit_stats=True, fit_from='p2_center', show_fit_value=True);"
   ]
  },
  {
   "cell_type": "code",
   "execution_count": 30,
   "metadata": {
    "collapsed": true
   },
   "outputs": [],
   "source": [
    "d_all = ds.collapse()"
   ]
  },
  {
   "cell_type": "code",
   "execution_count": 31,
   "metadata": {
    "collapsed": false
   },
   "outputs": [],
   "source": [
    "d_all_chunk = Sel(d_all, select_bursts.time, time_s2=600/8)"
   ]
  },
  {
   "cell_type": "code",
   "execution_count": 32,
   "metadata": {
    "collapsed": false
   },
   "outputs": [
    {
     "data": {
      "text/plain": [
       "<matplotlib.axes._subplots.AxesSubplot at 0x12a14d0b8>"
      ]
     },
     "execution_count": 32,
     "metadata": {},
     "output_type": "execute_result"
    },
    {
     "data": {
      "image/png": "[encoded data removed]",
      "text/plain": [
       "<matplotlib.figure.Figure at 0x11c948e48>"
      ]
     },
     "metadata": {},
     "output_type": "display_data"
    }
   ],
   "source": [
    "dplot(d_all_chunk, hist_fret)"
   ]
  },
  {
   "cell_type": "code",
   "execution_count": 33,
   "metadata": {
    "collapsed": false
   },
   "outputs": [],
   "source": [
    "Eraw = d_all_chunk.E[0]"
   ]
  },
  {
   "cell_type": "code",
   "execution_count": 34,
   "metadata": {
    "collapsed": false
   },
   "outputs": [],
   "source": [
    "E = fretmath.correct_E_gamma_leak_dir(Eraw, gamma=gammaM, leakage=leakageM, dir_ex_t=dir_ex_tM)"
   ]
  },
  {
   "cell_type": "code",
   "execution_count": 35,
   "metadata": {
    "collapsed": false
   },
   "outputs": [],
   "source": [
    "sns.set_style('whitegrid')\n",
    "%config InlineBackend.figure_format='retina'  # for hi-dpi displays"
   ]
  },
  {
   "cell_type": "code",
   "execution_count": 36,
   "metadata": {
    "collapsed": false
   },
   "outputs": [
    {
     "data": {
      "image/png": "[encoded data removed]",
      "text/plain": [
       "<matplotlib.figure.Figure at 0x12c156400>"
      ]
     },
     "metadata": {
      "image/png": {
       "height": 311,
       "width": 450
      }
     },
     "output_type": "display_data"
    }
   ],
   "source": [
    "plt.hist(E, bins=np.arange(-0.2, 1.2, 0.025) + 0.5*0.025);"
   ]
  },
  {
   "cell_type": "markdown",
   "metadata": {},
   "source": [
    "# Comparison with usALEX"
   ]
  },
  {
   "cell_type": "code",
   "execution_count": 37,
   "metadata": {
    "collapsed": false
   },
   "outputs": [
    {
     "data": {
      "text/html": [
       "<div>\n",
       "<table border=\"1\" class=\"dataframe\">\n",
       "  <thead>\n",
       "    <tr style=\"text-align: right;\">\n",
       "      <th></th>\n",
       "      <th>E</th>\n",
       "      <th>S</th>\n",
       "      <th>bg_a</th>\n",
       "      <th>bg_aa</th>\n",
       "      <th>bg_d</th>\n",
       "      <th>bp</th>\n",
       "      <th>i_end</th>\n",
       "      <th>i_start</th>\n",
       "      <th>na</th>\n",
       "      <th>naa</th>\n",
       "      <th>nd</th>\n",
       "      <th>nda</th>\n",
       "      <th>nt</th>\n",
       "      <th>size_raw</th>\n",
       "      <th>t_end</th>\n",
       "      <th>t_start</th>\n",
       "      <th>width_ms</th>\n",
       "    </tr>\n",
       "  </thead>\n",
       "  <tbody>\n",
       "    <tr>\n",
       "      <th>0</th>\n",
       "      <td>0.216161</td>\n",
       "      <td>0.991421</td>\n",
       "      <td>2.125</td>\n",
       "      <td>1.645</td>\n",
       "      <td>0.818</td>\n",
       "      <td>0</td>\n",
       "      <td>327</td>\n",
       "      <td>282</td>\n",
       "      <td>8.875</td>\n",
       "      <td>0.355</td>\n",
       "      <td>32.182</td>\n",
       "      <td>-0.080</td>\n",
       "      <td>41.412</td>\n",
       "      <td>46</td>\n",
       "      <td>0.071752</td>\n",
       "      <td>0.069846</td>\n",
       "      <td>1.9069</td>\n",
       "    </tr>\n",
       "    <tr>\n",
       "      <th>1</th>\n",
       "      <td>0.084279</td>\n",
       "      <td>0.999964</td>\n",
       "      <td>2.582</td>\n",
       "      <td>1.998</td>\n",
       "      <td>0.994</td>\n",
       "      <td>0</td>\n",
       "      <td>861</td>\n",
       "      <td>804</td>\n",
       "      <td>4.418</td>\n",
       "      <td>0.002</td>\n",
       "      <td>48.006</td>\n",
       "      <td>-0.097</td>\n",
       "      <td>52.426</td>\n",
       "      <td>58</td>\n",
       "      <td>0.210506</td>\n",
       "      <td>0.208189</td>\n",
       "      <td>2.3166</td>\n",
       "    </tr>\n",
       "    <tr>\n",
       "      <th>2</th>\n",
       "      <td>0.082565</td>\n",
       "      <td>1.057052</td>\n",
       "      <td>2.289</td>\n",
       "      <td>1.772</td>\n",
       "      <td>0.881</td>\n",
       "      <td>0</td>\n",
       "      <td>1102</td>\n",
       "      <td>1067</td>\n",
       "      <td>2.711</td>\n",
       "      <td>-1.772</td>\n",
       "      <td>30.119</td>\n",
       "      <td>-0.086</td>\n",
       "      <td>31.057</td>\n",
       "      <td>36</td>\n",
       "      <td>0.265243</td>\n",
       "      <td>0.263188</td>\n",
       "      <td>2.0544</td>\n",
       "    </tr>\n",
       "    <tr>\n",
       "      <th>3</th>\n",
       "      <td>0.156843</td>\n",
       "      <td>1.043499</td>\n",
       "      <td>2.556</td>\n",
       "      <td>1.978</td>\n",
       "      <td>0.984</td>\n",
       "      <td>0</td>\n",
       "      <td>1146</td>\n",
       "      <td>1095</td>\n",
       "      <td>7.444</td>\n",
       "      <td>-1.978</td>\n",
       "      <td>40.016</td>\n",
       "      <td>0.904</td>\n",
       "      <td>45.481</td>\n",
       "      <td>52</td>\n",
       "      <td>0.267294</td>\n",
       "      <td>0.265000</td>\n",
       "      <td>2.2938</td>\n",
       "    </tr>\n",
       "    <tr>\n",
       "      <th>4</th>\n",
       "      <td>0.019022</td>\n",
       "      <td>1.054933</td>\n",
       "      <td>2.339</td>\n",
       "      <td>1.810</td>\n",
       "      <td>0.900</td>\n",
       "      <td>0</td>\n",
       "      <td>1230</td>\n",
       "      <td>1193</td>\n",
       "      <td>0.661</td>\n",
       "      <td>-1.810</td>\n",
       "      <td>34.100</td>\n",
       "      <td>-0.088</td>\n",
       "      <td>32.951</td>\n",
       "      <td>38</td>\n",
       "      <td>0.283253</td>\n",
       "      <td>0.281154</td>\n",
       "      <td>2.0986</td>\n",
       "    </tr>\n",
       "    <tr>\n",
       "      <th>...</th>\n",
       "      <td>...</td>\n",
       "      <td>...</td>\n",
       "      <td>...</td>\n",
       "      <td>...</td>\n",
       "      <td>...</td>\n",
       "      <td>...</td>\n",
       "      <td>...</td>\n",
       "      <td>...</td>\n",
       "      <td>...</td>\n",
       "      <td>...</td>\n",
       "      <td>...</td>\n",
       "      <td>...</td>\n",
       "      <td>...</td>\n",
       "      <td>...</td>\n",
       "      <td>...</td>\n",
       "      <td>...</td>\n",
       "      <td>...</td>\n",
       "    </tr>\n",
       "    <tr>\n",
       "      <th>1649</th>\n",
       "      <td>0.071089</td>\n",
       "      <td>0.983726</td>\n",
       "      <td>2.652</td>\n",
       "      <td>1.988</td>\n",
       "      <td>1.185</td>\n",
       "      <td>9</td>\n",
       "      <td>1900744</td>\n",
       "      <td>1900677</td>\n",
       "      <td>4.348</td>\n",
       "      <td>1.012</td>\n",
       "      <td>56.815</td>\n",
       "      <td>-0.111</td>\n",
       "      <td>62.175</td>\n",
       "      <td>68</td>\n",
       "      <td>597.071242</td>\n",
       "      <td>597.068653</td>\n",
       "      <td>2.5894</td>\n",
       "    </tr>\n",
       "    <tr>\n",
       "      <th>1650</th>\n",
       "      <td>1.005985</td>\n",
       "      <td>0.493261</td>\n",
       "      <td>2.656</td>\n",
       "      <td>1.991</td>\n",
       "      <td>1.186</td>\n",
       "      <td>9</td>\n",
       "      <td>1901213</td>\n",
       "      <td>1901145</td>\n",
       "      <td>31.344</td>\n",
       "      <td>32.009</td>\n",
       "      <td>-0.186</td>\n",
       "      <td>-0.111</td>\n",
       "      <td>63.166</td>\n",
       "      <td>69</td>\n",
       "      <td>597.219440</td>\n",
       "      <td>597.216846</td>\n",
       "      <td>2.5936</td>\n",
       "    </tr>\n",
       "    <tr>\n",
       "      <th>1651</th>\n",
       "      <td>0.124443</td>\n",
       "      <td>0.951116</td>\n",
       "      <td>1.550</td>\n",
       "      <td>1.162</td>\n",
       "      <td>0.692</td>\n",
       "      <td>9</td>\n",
       "      <td>1902496</td>\n",
       "      <td>1902456</td>\n",
       "      <td>4.450</td>\n",
       "      <td>1.838</td>\n",
       "      <td>31.308</td>\n",
       "      <td>-0.065</td>\n",
       "      <td>37.595</td>\n",
       "      <td>41</td>\n",
       "      <td>597.704007</td>\n",
       "      <td>597.702493</td>\n",
       "      <td>1.5137</td>\n",
       "    </tr>\n",
       "    <tr>\n",
       "      <th>1652</th>\n",
       "      <td>1.022821</td>\n",
       "      <td>0.690839</td>\n",
       "      <td>1.998</td>\n",
       "      <td>1.498</td>\n",
       "      <td>0.893</td>\n",
       "      <td>9</td>\n",
       "      <td>1904944</td>\n",
       "      <td>1904884</td>\n",
       "      <td>40.002</td>\n",
       "      <td>17.502</td>\n",
       "      <td>-0.893</td>\n",
       "      <td>-0.084</td>\n",
       "      <td>56.611</td>\n",
       "      <td>61</td>\n",
       "      <td>598.510689</td>\n",
       "      <td>598.508738</td>\n",
       "      <td>1.9510</td>\n",
       "    </tr>\n",
       "    <tr>\n",
       "      <th>1653</th>\n",
       "      <td>0.083286</td>\n",
       "      <td>1.022779</td>\n",
       "      <td>2.561</td>\n",
       "      <td>1.920</td>\n",
       "      <td>1.144</td>\n",
       "      <td>9</td>\n",
       "      <td>1905474</td>\n",
       "      <td>1905429</td>\n",
       "      <td>3.439</td>\n",
       "      <td>-0.920</td>\n",
       "      <td>37.856</td>\n",
       "      <td>-0.107</td>\n",
       "      <td>40.376</td>\n",
       "      <td>46</td>\n",
       "      <td>598.679603</td>\n",
       "      <td>598.677103</td>\n",
       "      <td>2.5003</td>\n",
       "    </tr>\n",
       "  </tbody>\n",
       "</table>\n",
       "<p>1654 rows × 17 columns</p>\n",
       "</div>"
      ],
      "text/plain": [
       "             E         S   bg_a  bg_aa   bg_d  bp    i_end  i_start      na  \\\n",
       "0     0.216161  0.991421  2.125  1.645  0.818   0      327      282   8.875   \n",
       "1     0.084279  0.999964  2.582  1.998  0.994   0      861      804   4.418   \n",
       "2     0.082565  1.057052  2.289  1.772  0.881   0     1102     1067   2.711   \n",
       "3     0.156843  1.043499  2.556  1.978  0.984   0     1146     1095   7.444   \n",
       "4     0.019022  1.054933  2.339  1.810  0.900   0     1230     1193   0.661   \n",
       "...        ...       ...    ...    ...    ...  ..      ...      ...     ...   \n",
       "1649  0.071089  0.983726  2.652  1.988  1.185   9  1900744  1900677   4.348   \n",
       "1650  1.005985  0.493261  2.656  1.991  1.186   9  1901213  1901145  31.344   \n",
       "1651  0.124443  0.951116  1.550  1.162  0.692   9  1902496  1902456   4.450   \n",
       "1652  1.022821  0.690839  1.998  1.498  0.893   9  1904944  1904884  40.002   \n",
       "1653  0.083286  1.022779  2.561  1.920  1.144   9  1905474  1905429   3.439   \n",
       "\n",
       "         naa      nd    nda      nt  size_raw       t_end     t_start  \\\n",
       "0      0.355  32.182 -0.080  41.412        46    0.071752    0.069846   \n",
       "1      0.002  48.006 -0.097  52.426        58    0.210506    0.208189   \n",
       "2     -1.772  30.119 -0.086  31.057        36    0.265243    0.263188   \n",
       "3     -1.978  40.016  0.904  45.481        52    0.267294    0.265000   \n",
       "4     -1.810  34.100 -0.088  32.951        38    0.283253    0.281154   \n",
       "...      ...     ...    ...     ...       ...         ...         ...   \n",
       "1649   1.012  56.815 -0.111  62.175        68  597.071242  597.068653   \n",
       "1650  32.009  -0.186 -0.111  63.166        69  597.219440  597.216846   \n",
       "1651   1.838  31.308 -0.065  37.595        41  597.704007  597.702493   \n",
       "1652  17.502  -0.893 -0.084  56.611        61  598.510689  598.508738   \n",
       "1653  -0.920  37.856 -0.107  40.376        46  598.679603  598.677103   \n",
       "\n",
       "      width_ms  \n",
       "0       1.9069  \n",
       "1       2.3166  \n",
       "2       2.0544  \n",
       "3       2.2938  \n",
       "4       2.0986  \n",
       "...        ...  \n",
       "1649    2.5894  \n",
       "1650    2.5936  \n",
       "1651    1.5137  \n",
       "1652    1.9510  \n",
       "1653    2.5003  \n",
       "\n",
       "[1654 rows x 17 columns]"
      ]
     },
     "execution_count": 37,
     "metadata": {},
     "output_type": "execute_result"
    }
   ],
   "source": [
    "bursts_usalex = pd.read_csv('results/bursts_usALEX_{sample}_{ph_sel}_F{F:.1f}_m{m}_size{th}.csv'\n",
    "                            .format(sample=data_id, ph_sel='Dex', m=10, th=30, F=7), index_col=0)\n",
    "bursts_usalex"
   ]
  },
  {
   "cell_type": "code",
   "execution_count": 38,
   "metadata": {
    "collapsed": true
   },
   "outputs": [],
   "source": [
    "Eraw_alex = bursts_usalex.E"
   ]
  },
  {
   "cell_type": "code",
   "execution_count": 39,
   "metadata": {
    "collapsed": true
   },
   "outputs": [],
   "source": [
    "E_alex = fretmath.correct_E_gamma_leak_dir(Eraw_alex, gamma=gammaA, leakage=leakageA, dir_ex_t=dir_ex_tA)"
   ]
  },
  {
   "cell_type": "code",
   "execution_count": 40,
   "metadata": {
    "collapsed": false
   },
   "outputs": [
    {
     "name": "stdout",
     "output_type": "stream",
     "text": [
      "Saved: figures/Multispot vs usALEX FRET hist comp sample 7d\n"
     ]
    },
    {
     "data": {
      "image/png": "[encoded data removed]",
      "text/plain": [
       "<matplotlib.figure.Figure at 0x11ed89128>"
      ]
     },
     "metadata": {
      "image/png": {
       "height": 334,
       "width": 464
      }
     },
     "output_type": "display_data"
    }
   ],
   "source": [
    "kws = dict(bins=np.arange(-0.2, 1.2, 0.025) + 0.5*0.025, histtype='step', lw=1.8)\n",
    "plt.hist(E, label='Multispot', **kws)\n",
    "plt.hist(E_alex, label='μs-ALEX', **kws)\n",
    "plt.legend(loc=2)\n",
    "plt.title('Sample %s: Multispot vs μs-ALEX comparison' % data_id)\n",
    "plt.xlabel('FRET Efficiency')\n",
    "plt.ylabel('# Bursts');\n",
    "savefig('Multispot vs usALEX FRET hist comp sample %s' % data_id)"
   ]
  },
  {
   "cell_type": "code",
   "execution_count": 41,
   "metadata": {
    "collapsed": false
   },
   "outputs": [
    {
     "name": "stdout",
     "output_type": "stream",
     "text": [
      "Saved: figures/Multispot vs usALEX FRET hist comp sample 7d normed\n"
     ]
    },
    {
     "data": {
      "image/png": "[encoded data removed]",
      "text/plain": [
       "<matplotlib.figure.Figure at 0x12afeb780>"
      ]
     },
     "metadata": {
      "image/png": {
       "height": 334,
       "width": 451
      }
     },
     "output_type": "display_data"
    }
   ],
   "source": [
    "kws = dict(bins=np.arange(-0.2, 1.2, 0.025) + 0.5*0.025, histtype='step', lw=1.8, normed=True)\n",
    "plt.hist(E, label='Multispot', **kws)\n",
    "plt.hist(E_alex, label='μs-ALEX', **kws)\n",
    "plt.legend(loc=2)\n",
    "plt.title('Sample %s: Multispot vs μs-ALEX comparison' % data_id)\n",
    "plt.xlabel('FRET Efficiency')\n",
    "plt.ylabel('Probabiltity');\n",
    "savefig('Multispot vs usALEX FRET hist comp sample %s normed' % data_id)"
   ]
  },
  {
   "cell_type": "code",
   "execution_count": 42,
   "metadata": {
    "collapsed": true
   },
   "outputs": [],
   "source": []
  }
 ],
 "metadata": {
  "anaconda-cloud": {},
  "kernelspec": {
   "display_name": "Python [default]",
   "language": "python",
   "name": "python3"
  },
  "language_info": {
   "codemirror_mode": {
    "name": "ipython",
    "version": 3
   },
   "file_extension": ".py",
   "mimetype": "text/x-python",
   "name": "python",
   "nbconvert_exporter": "python",
   "pygments_lexer": "ipython3",
   "version": "3.5.2"
  }
 },
 "nbformat": 4,
 "nbformat_minor": 0
}
